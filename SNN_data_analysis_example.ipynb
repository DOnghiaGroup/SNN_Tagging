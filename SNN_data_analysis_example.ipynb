{
 "cells": [
  {
   "cell_type": "code",
   "execution_count": 1,
   "metadata": {
    "collapsed": false
   },
   "outputs": [],
   "source": [
    "__author__ = 'Erwin Chen'\n",
    "%matplotlib inline\n",
    "import math\n",
    "import matplotlib.pyplot as plt\n",
    "import matplotlib as mpl\n",
    "from astropy.io import fits\n",
    "from astropy.table import Table, join, Column\n",
    "import numpy as np\n",
    "from numpy.random import rand\n",
    "import scipy.stats as stats\n",
    "from scipy.sparse import lil_matrix\n",
    "import scipy.spatial.distance as distance\n",
    "from sklearn.decomposition import PCA\n",
    "from sklearn.cluster import KMeans, DBSCAN\n",
    "from sklearn.neighbors import NearestNeighbors, DistanceMetric\n",
    "from sklearn import mixture, preprocessing\n",
    "from sklearn.metrics.pairwise import pairwise_distances\n",
    "from sklearn.metrics.cluster import v_measure_score, homogeneity_completeness_v_measure\n",
    "import cPickle as pickle"
   ]
  },
  {
   "cell_type": "code",
   "execution_count": 2,
   "metadata": {
    "collapsed": false
   },
   "outputs": [],
   "source": [
    "def jaccard(a,b):\n",
    "    \"\"\"\n",
    "    Calculate Jaccard distance between two arrays\n",
    "    Parameters:\n",
    "    -----------\n",
    "    a: an array\n",
    "    b: an array\n",
    "    \"\"\"\n",
    "    A = np.array(a, dtype='int')\n",
    "    B = np.array(b, dtype='int')\n",
    "    A = A[np.where(A > -1)[0]]\n",
    "    B = B[np.where(B > -1)[0]]\n",
    "    union = np.union1d(A,B)\n",
    "    intersection = np.intersect1d(A,B)\n",
    "    return 1.0 - len(intersection)*1.0 / len(union)"
   ]
  },
  {
   "cell_type": "code",
   "execution_count": 3,
   "metadata": {
    "collapsed": true
   },
   "outputs": [],
   "source": [
    "def get_friends(data, num_element, n_chem, n_rv):\n",
    "    \"\"\"\n",
    "    Get neartest neighbors in both chemical and radial velocity spaces for every star.\n",
    "    Parameters:\n",
    "    -----------\n",
    "    data: a matrix that contains chemical abundances and radial velocities\n",
    "    num_element: number of elements in the matrix\n",
    "    n_chem: number of nearest neighbors in chemical space \n",
    "    n_rv: number of nearest neighbors in radial velocity space\n",
    "    \"\"\"\n",
    "    data = np.array(data)\n",
    "    index_chem = np.arange(0, num_element, 1)\n",
    "    nbrs_chem = NearestNeighbors(n_neighbors=n_chem, algorithm='ball_tree', metric='manhattan').fit(data[:,index_chem])\n",
    "    distances_chem, indices_chem = nbrs_chem.kneighbors(data[:,index_chem])\n",
    "    index_rv = np.arange(num_element, len(data[0]), 1)\n",
    "    rv_data = np.copy(data[:,index_rv])\n",
    "    if len(rv_data[0]) < 2:\n",
    "        rv_data = rv_data.reshape(-1, 1)\n",
    "    nbrs_rv = NearestNeighbors(n_neighbors=n_rv, algorithm='ball_tree').fit(rv_data)\n",
    "    distances_rv, indices_rv = nbrs_rv.kneighbors(rv_data)\n",
    "    indices = []\n",
    "    for n in range(len(indices_chem)):\n",
    "        indices.append(np.intersect1d(indices_chem[n], indices_rv[n]))\n",
    "    indices = np.array(indices)\n",
    "    return indices"
   ]
  },
  {
   "cell_type": "code",
   "execution_count": 4,
   "metadata": {
    "collapsed": true
   },
   "outputs": [],
   "source": [
    "def iterator_dist(indices):\n",
    "    \"\"\"\n",
    "    An iterator that calculates ans stores the Jaccard distance between every two stars\n",
    "    Parameters:\n",
    "    -----------\n",
    "    indices: a list of indices of neighbors for every star\n",
    "    \"\"\"\n",
    "    for n in range(len(indices)):\n",
    "        for m in range(n+1, len(indices)):\n",
    "            dist = jaccard(indices[n], indices[m])\n",
    "            if dist < 1:\n",
    "                yield (n, m, dist)"
   ]
  },
  {
   "cell_type": "code",
   "execution_count": 5,
   "metadata": {
    "collapsed": false
   },
   "outputs": [],
   "source": [
    "## load example dataset\n",
    "element_names = np.array(['V_H', 'TI_H', 'CA_H','FE_H', 'K_H', 'MN_H', 'NI_H', 'SI_H', 'S_H'])\n",
    "ap_table = pickle.load(open(\"example_dataset.p\",\"rb\")) "
   ]
  },
  {
   "cell_type": "code",
   "execution_count": 6,
   "metadata": {
    "collapsed": false
   },
   "outputs": [
    {
     "data": {
      "text/html": [
       "&lt;Table length=2055&gt;\n",
       "<table id=\"table140675495509776\" class=\"table-striped table-bordered table-condensed\">\n",
       "<thead><tr><th>APOGEE_ID</th><th>VHELIO_AVG</th><th>V_H</th><th>TI_H</th><th>CA_H</th><th>FE_H</th><th>K_H</th><th>MN_H</th><th>NI_H</th><th>SI_H</th><th>S_H</th><th>SNR</th><th>cluster_name</th><th>label</th></tr></thead>\n",
       "<thead><tr><th>str32</th><th>float64</th><th>float64</th><th>float64</th><th>float64</th><th>float64</th><th>float64</th><th>float64</th><th>float64</th><th>float64</th><th>float64</th><th>float64</th><th>str18</th><th>int64</th></tr></thead>\n",
       "<tr><td>2M00001242+5524391</td><td>-114.505996704</td><td>-0.0720647822626</td><td>0.0871973214217</td><td>-0.0004729417385</td><td>0.122795179264</td><td>0.08554547514</td><td>0.267394583712</td><td>0.153576455233</td><td>0.374741572947</td><td>0.276756974477</td><td>131.035003662</td><td>background</td><td>-1</td></tr>\n",
       "<tr><td>2M00002868+5550240</td><td>-32.2458000183</td><td>0.12724201615</td><td>-0.152801301455</td><td>-0.177058682796</td><td>0.0228092089134</td><td>-0.0999016167266</td><td>0.139978427826</td><td>-0.00788235196693</td><td>0.233230792539</td><td>0.177730461872</td><td>184.229003906</td><td>background</td><td>-1</td></tr>\n",
       "<tr><td>2M00014233+6345133</td><td>-74.6035995483</td><td>-0.535414631704</td><td>-0.307416844504</td><td>-0.25492156533</td><td>-0.174877175082</td><td>-0.512895863564</td><td>-0.199500034252</td><td>-0.188820315537</td><td>0.123634908983</td><td>-0.0515463890765</td><td>220.477005005</td><td>background</td><td>-1</td></tr>\n",
       "<tr><td>2M00040006+0056115</td><td>10.8994998932</td><td>-0.0029170591069</td><td>-0.12740202017</td><td>-0.175551048689</td><td>-0.0873698993866</td><td>-0.205115425449</td><td>0.0152562296969</td><td>-0.129366143136</td><td>0.00105390056836</td><td>-0.141287121574</td><td>203.458999634</td><td>background</td><td>-1</td></tr>\n",
       "<tr><td>2M00051282+7509188</td><td>-10.5131998062</td><td>-0.418715885662</td><td>-0.0284257252191</td><td>-0.0717451574103</td><td>-0.0399795341542</td><td>-0.210540694044</td><td>0.0188699085619</td><td>-0.0888822158834</td><td>0.024734618595</td><td>0.0869166934141</td><td>141.149002075</td><td>background</td><td>-1</td></tr>\n",
       "<tr><td>2M00051617+7358285</td><td>-93.2919006348</td><td>-0.566560866096</td><td>-0.0946429901111</td><td>-0.225041425383</td><td>-0.230484820109</td><td>-0.26019738179</td><td>-0.410168912308</td><td>-0.283181802496</td><td>-0.0314674576093</td><td>-0.263603329854</td><td>218.548995972</td><td>background</td><td>-1</td></tr>\n",
       "<tr><td>2M00052225-0004062</td><td>-7.71602010727</td><td>0.0686989826524</td><td>-0.240039192064</td><td>-0.273612440045</td><td>-0.306343683472</td><td>-0.599750855749</td><td>-0.271973806787</td><td>-0.495864645017</td><td>-0.221354334378</td><td>-0.0617944848777</td><td>114.239997864</td><td>background</td><td>-1</td></tr>\n",
       "<tr><td>2M00063084+7317122</td><td>-96.1143035889</td><td>-0.282781173017</td><td>0.19746288434</td><td>0.00266294021528</td><td>0.128587418198</td><td>-0.0515173538198</td><td>0.22686908412</td><td>0.154131599329</td><td>0.249321152866</td><td>0.164563339269</td><td>153.738006592</td><td>background</td><td>-1</td></tr>\n",
       "<tr><td>2M00063707+6947305</td><td>-75.4756011963</td><td>-0.0430846617826</td><td>-0.546121416596</td><td>-0.417726224886</td><td>-0.261782352909</td><td>-0.327251145915</td><td>-0.205496355965</td><td>-0.326564160678</td><td>-0.0150595703565</td><td>-0.0672015397707</td><td>90.3468017578</td><td>background</td><td>-1</td></tr>\n",
       "<tr><td>2M00063956+7014465</td><td>-20.2012004852</td><td>-2.42286636454</td><td>-1.37666191442</td><td>-0.952937395381</td><td>-1.39703105308</td><td>-1.19365918165</td><td>-1.70666165774</td><td>-1.45877351631</td><td>-1.07987181696</td><td>-0.938092086691</td><td>281.386993408</td><td>background</td><td>-1</td></tr>\n",
       "<tr><td>...</td><td>...</td><td>...</td><td>...</td><td>...</td><td>...</td><td>...</td><td>...</td><td>...</td><td>...</td><td>...</td><td>...</td><td>...</td><td>...</td></tr>\n",
       "<tr><td>2M23591667+1635171</td><td>-9.20913028717</td><td>-0.92639903571</td><td>-0.476374466182</td><td>-0.2705240971</td><td>-0.547161037896</td><td>-0.52835620039</td><td>-0.575993515733</td><td>-0.603879052795</td><td>-0.502625186358</td><td>-0.347930633536</td><td>110.508003235</td><td>background</td><td>-1</td></tr>\n",
       "<tr><td>2M23593084+6558442</td><td>-21.9661006927</td><td>-1.99936209498</td><td>-1.52885525149</td><td>-1.62492191722</td><td>-1.8195237792</td><td>-2.0007987434</td><td>-1.97326719328</td><td>-1.75620946462</td><td>-1.59917921737</td><td>-1.39810195957</td><td>286.819000244</td><td>background</td><td>-1</td></tr>\n",
       "<tr><td>2M23594252+5534278</td><td>-85.6520996094</td><td>-0.148576429918</td><td>0.137919576156</td><td>-0.0623369816265</td><td>0.027389321799</td><td>0.01544386237</td><td>0.167347576276</td><td>0.0306383200589</td><td>0.207695397742</td><td>0.128654043256</td><td>378.687011719</td><td>background</td><td>-1</td></tr>\n",
       "<tr><td>AP00393373+4031147</td><td>-511.609985352</td><td>-2.30897243631</td><td>-1.83721570505</td><td>-1.67586698983</td><td>-1.89772072209</td><td>-1.96818476877</td><td>-2.06410500355</td><td>-1.93684014219</td><td>-1.63534763599</td><td>-1.49389758254</td><td>55.7220993042</td><td>background</td><td>-1</td></tr>\n",
       "<tr><td>AP00414462+4146282</td><td>-357.372009277</td><td>-2.48482046803</td><td>-1.56406946885</td><td>-1.59451950885</td><td>-1.81179582541</td><td>-1.17819536452</td><td>-1.74525450425</td><td>-1.66809450252</td><td>-1.26893088945</td><td>-1.28593324672</td><td>5.74410009384</td><td>background</td><td>-1</td></tr>\n",
       "<tr><td>AP00430752+4120196</td><td>-136.863998413</td><td>-1.19880400368</td><td>-0.975597044169</td><td>-0.949837593016</td><td>-1.11859861896</td><td>-0.929239748678</td><td>-1.02298047177</td><td>-1.00341614051</td><td>-1.1410435904</td><td>-0.87192895579</td><td>20.6597003937</td><td>background</td><td>-1</td></tr>\n",
       "<tr><td>AP00432252+4144056</td><td>-113.749000549</td><td>-1.07400337048</td><td>-0.85940714768</td><td>-1.00129842435</td><td>-1.03939384657</td><td>-1.11106222425</td><td>-1.16551765638</td><td>-0.763272588184</td><td>-0.830138167939</td><td>-0.567871624268</td><td>9.04032993317</td><td>background</td><td>-1</td></tr>\n",
       "<tr><td>AP00432300+4115254</td><td>-131.277999878</td><td>-0.464292570915</td><td>-0.840919419249</td><td>-0.37689657255</td><td>-0.607081143903</td><td>-0.821577674986</td><td>-0.609132529516</td><td>-0.634183908804</td><td>-0.449489812766</td><td>-0.412437375489</td><td>34.0796012878</td><td>background</td><td>-1</td></tr>\n",
       "<tr><td>AP00445537+4117003</td><td>465.770996094</td><td>-1.03297187505</td><td>-1.05210351465</td><td>-1.16775692166</td><td>-1.34341825011</td><td>-1.62494595109</td><td>-1.60748108483</td><td>-1.96078807829</td><td>-0.726563714923</td><td>-0.984777072551</td><td>7.07178020477</td><td>background</td><td>-1</td></tr>\n",
       "<tr><td>AP00480145+4225332</td><td>-265.954986572</td><td>-2.08498370062</td><td>-1.68933565342</td><td>-1.18812038528</td><td>-1.36574875186</td><td>-1.64350030573</td><td>-1.5569735263</td><td>-1.38863278032</td><td>-1.23825618594</td><td>-1.10769352183</td><td>16.6742992401</td><td>background</td><td>-1</td></tr>\n",
       "</table>"
      ],
      "text/plain": [
       "<Table length=2055>\n",
       "    APOGEE_ID        VHELIO_AVG         V_H        ... cluster_name label\n",
       "      str32           float64         float64      ...    str18     int64\n",
       "------------------ -------------- ---------------- ... ------------ -----\n",
       "2M00001242+5524391 -114.505996704 -0.0720647822626 ...   background    -1\n",
       "2M00002868+5550240 -32.2458000183    0.12724201615 ...   background    -1\n",
       "2M00014233+6345133 -74.6035995483  -0.535414631704 ...   background    -1\n",
       "2M00040006+0056115  10.8994998932 -0.0029170591069 ...   background    -1\n",
       "2M00051282+7509188 -10.5131998062  -0.418715885662 ...   background    -1\n",
       "2M00051617+7358285 -93.2919006348  -0.566560866096 ...   background    -1\n",
       "2M00052225-0004062 -7.71602010727  0.0686989826524 ...   background    -1\n",
       "2M00063084+7317122 -96.1143035889  -0.282781173017 ...   background    -1\n",
       "2M00063707+6947305 -75.4756011963 -0.0430846617826 ...   background    -1\n",
       "2M00063956+7014465 -20.2012004852   -2.42286636454 ...   background    -1\n",
       "               ...            ...              ... ...          ...   ...\n",
       "2M23591667+1635171 -9.20913028717   -0.92639903571 ...   background    -1\n",
       "2M23593084+6558442 -21.9661006927   -1.99936209498 ...   background    -1\n",
       "2M23594252+5534278 -85.6520996094  -0.148576429918 ...   background    -1\n",
       "AP00393373+4031147 -511.609985352   -2.30897243631 ...   background    -1\n",
       "AP00414462+4146282 -357.372009277   -2.48482046803 ...   background    -1\n",
       "AP00430752+4120196 -136.863998413   -1.19880400368 ...   background    -1\n",
       "AP00432252+4144056 -113.749000549   -1.07400337048 ...   background    -1\n",
       "AP00432300+4115254 -131.277999878  -0.464292570915 ...   background    -1\n",
       "AP00445537+4117003  465.770996094   -1.03297187505 ...   background    -1\n",
       "AP00480145+4225332 -265.954986572   -2.08498370062 ...   background    -1"
      ]
     },
     "execution_count": 6,
     "metadata": {},
     "output_type": "execute_result"
    }
   ],
   "source": [
    "ap_table"
   ]
  },
  {
   "cell_type": "code",
   "execution_count": 7,
   "metadata": {
    "collapsed": false
   },
   "outputs": [
    {
     "name": "stdout",
     "output_type": "stream",
     "text": [
      "(2055, 9)\n",
      "(2055, 10)\n"
     ]
    }
   ],
   "source": [
    "## Compile a matrix that contains chemical abundances and radial velocity\n",
    "Fe_index = np.where(element_names == 'FE_H')[0][0]\n",
    "chem = [ap_table[element]-ap_table['FE_H'] for element in element_names]\n",
    "chem[Fe_index] = ap_table['FE_H']\n",
    "chem.append(ap_table['VHELIO_AVG'])\n",
    "chem_RV = np.array(chem).T\n",
    "chem = np.delete(chem_RV,-1,1)\n",
    "print chem.shape\n",
    "print chem_RV.shape"
   ]
  },
  {
   "cell_type": "code",
   "execution_count": 8,
   "metadata": {
    "collapsed": false
   },
   "outputs": [
    {
     "name": "stdout",
     "output_type": "stream",
     "text": [
      "CPU times: user 271 ms, sys: 5 ms, total: 276 ms\n",
      "Wall time: 277 ms\n"
     ]
    }
   ],
   "source": [
    "%%time \n",
    "## Get the indices of nearest neighbors in chemical and radial velocity space for every star\n",
    "indices = get_friends(chem_RV, 9, 150, 50)"
   ]
  },
  {
   "cell_type": "code",
   "execution_count": 9,
   "metadata": {
    "collapsed": false
   },
   "outputs": [
    {
     "name": "stdout",
     "output_type": "stream",
     "text": [
      "Number of Stars/ Threshold\n",
      "937 5.7\n",
      "878 10.4\n",
      "96 15.1\n",
      "31 19.8\n",
      "19 24.5\n",
      "16 29.2\n",
      "12 33.9\n",
      "21 38.6\n",
      "22 43.3\n",
      "23 48.0\n"
     ]
    }
   ],
   "source": [
    "## find min_samples for DBSCAN\n",
    "lengths = np.array([len(indices[n]) for n in range(len(indices))])\n",
    "H, edges = np.histogram(lengths)\n",
    "print \"Number of Stars/ Threshold\"\n",
    "for n in range(len(H)):\n",
    "    print H[n], edges[n+1]"
   ]
  },
  {
   "cell_type": "code",
   "execution_count": 10,
   "metadata": {
    "collapsed": false
   },
   "outputs": [
    {
     "name": "stdout",
     "output_type": "stream",
     "text": [
      "[41 36 47 42 38 30 44 41 37 40 36 41 41  1 39 34 41 30 25 35 38 36 47 33 42\n",
      " 35 33 38 40 37 44 39 44 42 37 41 36 47 46 48 40 41 43 38 39 44 46 47 44 48\n",
      " 44 32 46 42 42 48 47 39 35 45 48 35 36 41 45 35 45 27 33 27 44]\n"
     ]
    }
   ],
   "source": [
    "## check if known members have sufficient number of neighbors\n",
    "c_name = \"M13\"\n",
    "members = np.where(ap_table['cluster_name'] == c_name)[0]\n",
    "print lengths[members]"
   ]
  },
  {
   "cell_type": "code",
   "execution_count": 11,
   "metadata": {
    "collapsed": false
   },
   "outputs": [
    {
     "name": "stdout",
     "output_type": "stream",
     "text": [
      "2005 stars has more than 1 neighbors\n"
     ]
    }
   ],
   "source": [
    "## Select stars with more than N_cut number of neighbors\n",
    "N_cut = 1\n",
    "non_noise = np.where(lengths > N_cut)[0]\n",
    "print \"%i stars has more than %i neighbors\"%(len(non_noise), N_cut)"
   ]
  },
  {
   "cell_type": "code",
   "execution_count": 12,
   "metadata": {
    "collapsed": false
   },
   "outputs": [
    {
     "name": "stdout",
     "output_type": "stream",
     "text": [
      "CPU times: user 1min 30s, sys: 8 ms, total: 1min 30s\n",
      "Wall time: 1min 30s\n"
     ]
    }
   ],
   "source": [
    "%%time\n",
    "\n",
    "## Get the distance matrix\n",
    "S = lil_matrix((len(non_noise), len(non_noise)))\n",
    "for (n, m, dist) in iterator_dist(indices[non_noise]):\n",
    "    S[n,m] = dist\n",
    "    S[m,n] = dist"
   ]
  },
  {
   "cell_type": "code",
   "execution_count": 13,
   "metadata": {
    "collapsed": false
   },
   "outputs": [],
   "source": [
    "## find eps for DBSCAN\n",
    "core = np.where(lengths[non_noise] > 11)[0]\n",
    "S_core = S[core][:,core]\n",
    "dist = np.array([])\n",
    "for n in range(len(core)):\n",
    "    row = S_core[n].todense()\n",
    "    d = np.asarray(row[row > 0])[0]\n",
    "    dist = np.append(dist, np.sort(d)[:11])\n",
    "dist = np.sort(dist)\n",
    "x = np.arange(len(dist))"
   ]
  },
  {
   "cell_type": "code",
   "execution_count": 14,
   "metadata": {
    "collapsed": false
   },
   "outputs": [
    {
     "data": {
      "image/png": "[encoded data removed]",
      "text/plain": [
       "<matplotlib.figure.Figure at 0x7ff1c07c2290>"
      ]
     },
     "metadata": {},
     "output_type": "display_data"
    }
   ],
   "source": [
    "plt.axhline(y=0.4, xmin=0, xmax=1)\n",
    "plt.plot(x, dist, \"r.\")\n",
    "plt.show()"
   ]
  },
  {
   "cell_type": "code",
   "execution_count": 15,
   "metadata": {
    "collapsed": false
   },
   "outputs": [
    {
     "name": "stdout",
     "output_type": "stream",
     "text": [
      "2 clusters found\n",
      "#Categorized as Member/ Ratio of Member:  98 / 0.0488778054863\n",
      "CPU times: user 20 ms, sys: 1 ms, total: 21 ms\n",
      "Wall time: 20.4 ms\n"
     ]
    }
   ],
   "source": [
    "%%time \n",
    "\n",
    "## DBSCAN SNN\n",
    "db = DBSCAN(eps=0.4, min_samples=11, metric='precomputed', n_jobs=-1).fit(S, lengths[non_noise])\n",
    "labels = db.labels_\n",
    "n_clumps = np.amax(labels) + 1\n",
    "true_labels = ap_table[\"label\"][non_noise]\n",
    "print \"%i clusters found\"%n_clumps\n",
    "print \"#Categorized as Member/ Ratio of Member: \", \n",
    "print len(np.where(labels != -1)[0]), \"/\", len(np.where(labels != -1)[0])*1.0/len(labels)"
   ]
  },
  {
   "cell_type": "code",
   "execution_count": 16,
   "metadata": {
    "collapsed": false
   },
   "outputs": [
    {
     "name": "stdout",
     "output_type": "stream",
     "text": [
      "70 members recovered:\n",
      "81 stars in this group\n"
     ]
    },
    {
     "data": {
      "image/png": "[encoded data removed]",
      "text/plain": [
       "<matplotlib.figure.Figure at 0x7ff18d771710>"
      ]
     },
     "metadata": {},
     "output_type": "display_data"
    }
   ],
   "source": [
    "xlab = \"[Fe/H]\"\n",
    "ylab = \"RV(km/s)\"\n",
    "X = ap_table['FE_H']\n",
    "Y = ap_table['VHELIO_AVG']\n",
    "for n in range(max(labels)+1):\n",
    "    group = non_noise[np.where(labels == n)[0]]\n",
    "    group_members = np.intersect1d(members, group)\n",
    "    if len(group_members) > 0:\n",
    "        print \"%i members recovered:\"%len(group_members)\n",
    "        print \"%i stars in this group\"%len(group)\n",
    "        fig = plt.figure(figsize=(5.5, 4))\n",
    "        plt.plot(X[group], Y[group], \".\", c=\"lightgrey\", label=\"BG\")\n",
    "        plt.plot(X[group_members], Y[group_members], \".\", c='r', label=\"M13\")\n",
    "        plt.xlabel(xlab)\n",
    "        plt.ylabel(ylab)\n",
    "        plt.xticks(fontsize=\"small\")\n",
    "        plt.yticks(fontsize=\"small\")\n",
    "        plt.legend(loc=3, fontsize=\"small\", numpoints=1)\n",
    "        plt.title(\"SNN Group %i\"%n)\n",
    "        plt.show()"
   ]
  },
  {
   "cell_type": "code",
   "execution_count": 17,
   "metadata": {
    "collapsed": false
   },
   "outputs": [],
   "source": [
    "## KMeans Chemical Tagging\n",
    "k_num = 3\n",
    "random_state = 123\n",
    "kmeans = KMeans(n_clusters=k_num, random_state=random_state, max_iter=200)\n",
    "kmeans.fit_predict(chem)\n",
    "km_labels = kmeans.labels_"
   ]
  },
  {
   "cell_type": "code",
   "execution_count": 18,
   "metadata": {
    "collapsed": false
   },
   "outputs": [
    {
     "name": "stdout",
     "output_type": "stream",
     "text": [
      "70 members recovered:\n",
      "500 stars in this group\n"
     ]
    },
    {
     "data": {
      "image/png": "[encoded data removed]",
      "text/plain": [
       "<matplotlib.figure.Figure at 0x7ff18d766410>"
      ]
     },
     "metadata": {},
     "output_type": "display_data"
    },
    {
     "name": "stdout",
     "output_type": "stream",
     "text": [
      "1 members recovered:\n",
      "678 stars in this group\n"
     ]
    },
    {
     "data": {
      "image/png": "[encoded data removed]",
      "text/plain": [
       "<matplotlib.figure.Figure at 0x7ff18d250250>"
      ]
     },
     "metadata": {},
     "output_type": "display_data"
    }
   ],
   "source": [
    "xlab = \"[Fe/H]\"\n",
    "ylab = \"RV(km/s)\"\n",
    "X = ap_table['FE_H']\n",
    "Y = ap_table['VHELIO_AVG']\n",
    "for n in range(max(km_labels)+1):\n",
    "    group = np.where(km_labels == n)[0]\n",
    "    group_members = np.intersect1d(members, group)\n",
    "    if len(group_members) > 0:\n",
    "        print \"%i members recovered:\"%len(group_members)\n",
    "        print \"%i stars in this group\"%len(group)\n",
    "        fig = plt.figure(figsize=(5.5, 4))\n",
    "        plt.plot(X[group], Y[group], \".\", c=\"lightgrey\", label=\"BG\")\n",
    "        plt.plot(X[group_members], Y[group_members], \".\", c='r', label=\"M13\")\n",
    "        plt.xlabel(xlab)\n",
    "        plt.ylabel(ylab)\n",
    "        plt.xticks(fontsize=\"small\")\n",
    "        plt.yticks(fontsize=\"small\")\n",
    "        plt.legend(loc=0, fontsize=\"small\", numpoints=1)\n",
    "        plt.title(\"KMeans Group %i\"%n)\n",
    "        plt.show()"
   ]
  },
  {
   "cell_type": "code",
   "execution_count": 19,
   "metadata": {
    "collapsed": false
   },
   "outputs": [],
   "source": [
    "## find eps for DBSCAN\n",
    "nbrs = NearestNeighbors(n_neighbors=25, algorithm='ball_tree', metric='manhattan').fit(chem)\n",
    "dist, indices = nbrs.kneighbors(chem)\n",
    "dist = dist.flatten()\n",
    "dist = dist[dist > 0]\n",
    "dist = np.sort(dist)\n",
    "x = np.arange(len(dist))"
   ]
  },
  {
   "cell_type": "code",
   "execution_count": 20,
   "metadata": {
    "collapsed": false
   },
   "outputs": [
    {
     "data": {
      "image/png": "[encoded data removed]",
      "text/plain": [
       "<matplotlib.figure.Figure at 0x7ff18d771090>"
      ]
     },
     "metadata": {},
     "output_type": "display_data"
    }
   ],
   "source": [
    "plt.axhline(y=0.8, xmin=0, xmax=1)\n",
    "plt.plot(x, dist, \"r.\")\n",
    "plt.show()"
   ]
  },
  {
   "cell_type": "code",
   "execution_count": 21,
   "metadata": {
    "collapsed": false
   },
   "outputs": [
    {
     "name": "stdout",
     "output_type": "stream",
     "text": [
      "2055 groups found\n"
     ]
    }
   ],
   "source": [
    "## DBSCAN Chemical Tagging\n",
    "db = DBSCAN(eps=0.45, min_samples=25, metric='manhattan', n_jobs=-1).fit(chem)\n",
    "db_labels = db.labels_\n",
    "print \"%i groups found\"%len(db_labels)"
   ]
  },
  {
   "cell_type": "code",
   "execution_count": 22,
   "metadata": {
    "collapsed": false
   },
   "outputs": [
    {
     "name": "stdout",
     "output_type": "stream",
     "text": [
      "57 members recovered:\n",
      "172 stars in this group\n"
     ]
    },
    {
     "data": {
      "image/png": "[encoded data removed]",
      "text/plain": [
       "<matplotlib.figure.Figure at 0x7ff18d0d4a50>"
      ]
     },
     "metadata": {},
     "output_type": "display_data"
    }
   ],
   "source": [
    "xlab = \"[Fe/H]\"\n",
    "ylab = \"RV(km/s)\"\n",
    "X = ap_table['FE_H']\n",
    "Y = ap_table['VHELIO_AVG']\n",
    "for n in range(max(db_labels)+1):\n",
    "    group = np.where(db_labels == n)[0]\n",
    "    group_members = np.intersect1d(members, group)\n",
    "    if len(group_members) > 0:\n",
    "        print \"%i members recovered:\"%len(group_members)\n",
    "        print \"%i stars in this group\"%len(group)\n",
    "        fig = plt.figure(figsize=(5.5, 4))\n",
    "        plt.plot(X[group], Y[group], \".\", c=\"lightgrey\", label=\"BG\")\n",
    "        plt.plot(X[group_members], Y[group_members], \".\", c='r', label=\"M13\")\n",
    "        plt.xlabel(xlab)\n",
    "        plt.ylabel(ylab)\n",
    "        plt.xticks(fontsize=\"small\")\n",
    "        plt.yticks(fontsize=\"small\")\n",
    "        plt.legend(loc=0, fontsize=\"small\", numpoints=1)\n",
    "        plt.title(\"DBSCAN Group %i\"%n)\n",
    "        plt.show()"
   ]
  }
 ],
 "metadata": {
  "kernelspec": {
   "display_name": "Python 2",
   "language": "python",
   "name": "python2"
  },
  "language_info": {
   "codemirror_mode": {
    "name": "ipython",
    "version": 2
   },
   "file_extension": ".py",
   "mimetype": "text/x-python",
   "name": "python",
   "nbconvert_exporter": "python",
   "pygments_lexer": "ipython2",
   "version": "2.7.11"
  }
 },
 "nbformat": 4,
 "nbformat_minor": 0
}
