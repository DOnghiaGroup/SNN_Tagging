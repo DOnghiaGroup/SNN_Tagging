{
 "cells": [
  {
   "cell_type": "code",
   "execution_count": 1,
   "metadata": {},
   "outputs": [
    {
     "name": "stderr",
     "output_type": "stream",
     "text": [
      "C:\\Users\\jouse_000\\Anaconda2-32\\lib\\site-packages\\IPython\\kernel\\__init__.py:13: ShimWarning: The `IPython.kernel` package has been deprecated since IPython 4.0.You should import from ipykernel or jupyter_client instead.\n",
      "  \"You should import from ipykernel or jupyter_client instead.\", ShimWarning)\n"
     ]
    }
   ],
   "source": [
    "__author__ = 'Erwin Chen'\n",
    "%matplotlib inline\n",
    "import math\n",
    "import matplotlib.pyplot as plt\n",
    "import matplotlib as mpl\n",
    "from astropy.io import fits\n",
    "from astropy.table import Table, join, Column\n",
    "import numpy as np\n",
    "from numpy.random import rand\n",
    "import scipy.stats as stats\n",
    "from scipy.sparse import lil_matrix\n",
    "import scipy.spatial.distance as distance\n",
    "from sklearn.cluster import KMeans, DBSCAN\n",
    "from sklearn.neighbors import NearestNeighbors, DistanceMetric\n",
    "from sklearn import mixture, preprocessing\n",
    "from sklearn.metrics.pairwise import pairwise_distances\n",
    "from sklearn.metrics.cluster import v_measure_score, homogeneity_completeness_v_measure\n",
    "import cPickle as pickle"
   ]
  },
  {
   "cell_type": "code",
   "execution_count": 2,
   "metadata": {
    "collapsed": true
   },
   "outputs": [],
   "source": [
    "def jaccard(a,b):\n",
    "    \"\"\"\n",
    "    Calculate Jaccard distance between two arrays\n",
    "    Parameters:\n",
    "    -----------\n",
    "    a: an array\n",
    "    b: an array\n",
    "    \"\"\"\n",
    "    A = np.array(a, dtype='int')\n",
    "    B = np.array(b, dtype='int')\n",
    "    A = A[np.where(A > -1)[0]]\n",
    "    B = B[np.where(B > -1)[0]]\n",
    "    union = np.union1d(A,B)\n",
    "    intersection = np.intersect1d(A,B)\n",
    "    return 1.0 - len(intersection)*1.0 / len(union)"
   ]
  },
  {
   "cell_type": "code",
   "execution_count": 3,
   "metadata": {
    "collapsed": true
   },
   "outputs": [],
   "source": [
    "def get_friends(data, num_element, n_chem, n_rv):\n",
    "    \"\"\"\n",
    "    Get neartest neighbors in both chemical and radial velocity spaces for every star.\n",
    "    Parameters:\n",
    "    -----------\n",
    "    data: a matrix that contains chemical abundances and radial velocities\n",
    "    num_element: number of elements in the matrix\n",
    "    n_chem: number of nearest neighbors in chemical space \n",
    "    n_rv: number of nearest neighbors in radial velocity space\n",
    "    \"\"\"\n",
    "    data = np.array(data)\n",
    "    index_chem = np.arange(0, num_element, 1)\n",
    "    nbrs_chem = NearestNeighbors(n_neighbors=n_chem, algorithm='ball_tree', metric='manhattan').fit(data[:,index_chem])\n",
    "    distances_chem, indices_chem = nbrs_chem.kneighbors(data[:,index_chem])\n",
    "    index_rv = np.arange(num_element, len(data[0]), 1)\n",
    "    rv_data = np.copy(data[:,index_rv])\n",
    "    if len(rv_data[0]) < 2:\n",
    "        rv_data = rv_data.reshape(-1, 1)\n",
    "    nbrs_rv = NearestNeighbors(n_neighbors=n_rv, algorithm='ball_tree').fit(rv_data)\n",
    "    distances_rv, indices_rv = nbrs_rv.kneighbors(rv_data)\n",
    "    indices = []\n",
    "    for n in range(len(indices_chem)):\n",
    "        indices.append(np.intersect1d(indices_chem[n], indices_rv[n]))\n",
    "    indices = np.array(indices)\n",
    "    return indices"
   ]
  },
  {
   "cell_type": "code",
   "execution_count": 4,
   "metadata": {
    "collapsed": true
   },
   "outputs": [],
   "source": [
    "def iterator_dist(indices):\n",
    "    \"\"\"\n",
    "    An iterator that calculates ans stores the Jaccard distance between every two stars\n",
    "    Parameters:\n",
    "    -----------\n",
    "    indices: a list of indices of neighbors for every star\n",
    "    \"\"\"\n",
    "    for n in range(len(indices)):\n",
    "        for m in range(n+1, len(indices)):\n",
    "            dist = jaccard(indices[n], indices[m])\n",
    "            if dist < 1:\n",
    "                yield (n, m, dist)"
   ]
  },
  {
   "cell_type": "code",
   "execution_count": 5,
   "metadata": {
    "collapsed": true
   },
   "outputs": [],
   "source": [
    "## load example dataset\n",
    "element_names = np.array(['V_H', 'TI_H', 'CA_H','FE_H', 'K_H', 'MN_H', 'NI_H', 'SI_H', 'S_H'])\n",
    "ap_table = Table.read(\"example_dataset.csv\")\n",
    "# ap_table = pickle.load(open(\"example_dataset.p\",\"rb\")) "
   ]
  },
  {
   "cell_type": "code",
   "execution_count": 6,
   "metadata": {},
   "outputs": [
    {
     "data": {
      "text/html": [
       "&lt;Table masked=False length=2039&gt;\n",
       "<table id=\"table125218544\">\n",
       "<thead><tr><th>APOGEE_ID</th><th>GLON</th><th>GLAT</th><th>RA</th><th>DEC</th><th>VHELIO_AVG</th><th>LOGG</th><th>TEFF</th><th>PMRA</th><th>PMDEC</th><th>AL_H</th><th>NA_H</th><th>O_H</th><th>MG_H</th><th>C_H</th><th>N_H</th><th>V_H</th><th>TI_H</th><th>CA_H</th><th>FE_H</th><th>K_H</th><th>MN_H</th><th>NI_H</th><th>SI_H</th><th>S_H</th><th>SNR</th><th>cluster_name</th><th>label</th></tr></thead>\n",
       "<thead><tr><th>string144</th><th>float64</th><th>float64</th><th>float64</th><th>float64</th><th>float64</th><th>float64</th><th>float64</th><th>float64</th><th>float64</th><th>float64</th><th>float64</th><th>float64</th><th>float64</th><th>float64</th><th>float64</th><th>float64</th><th>float64</th><th>float64</th><th>float64</th><th>float64</th><th>float64</th><th>float64</th><th>float64</th><th>float64</th><th>float64</th><th>string80</th><th>int32</th></tr></thead>\n",
       "<tr><td>2M00005666+1647445</td><td>105.904404447</td><td>-44.4001106393</td><td>0.236115</td><td>16.795702</td><td>-23.7415008545</td><td>2.8715294931</td><td>4773.73131936</td><td>-6.19999980927</td><td>-9.10000038147</td><td>0.0310876399126</td><td>-0.0505834542441</td><td>-0.0562509748948</td><td>-0.132933818897</td><td>-0.138534605803</td><td>-0.127732381404</td><td>-0.575796900918</td><td>-0.0929587119829</td><td>-0.179256336164</td><td>-0.150893812206</td><td>-0.207718718232</td><td>-0.11609392439</td><td>-0.195493113552</td><td>-0.00906666934762</td><td>0.0841851145521</td><td>135.143005371</td><td>background</td><td>-1</td></tr>\n",
       "<tr><td>2M00012694+1639052</td><td>106.012581468</td><td>-44.5717214285</td><td>0.362289</td><td>16.651464</td><td>-73.3161010742</td><td>1.40537893446</td><td>3990.77909841</td><td>211.0</td><td>-73.0</td><td>-1.54021759857</td><td>-2.38119434449</td><td>-1.39105364945</td><td>-1.41880702745</td><td>-1.86242482052</td><td>-1.44112638017</td><td>-2.3689723296</td><td>-1.7798236975</td><td>-1.30127067836</td><td>-1.77137284977</td><td>-1.55960186774</td><td>-2.11441771733</td><td>-1.90335184939</td><td>-1.44241477365</td><td>-1.2577370007</td><td>125.549003601</td><td>background</td><td>-1</td></tr>\n",
       "<tr><td>2M00012984+7052497</td><td>118.827240711</td><td>8.40794295219</td><td>0.37435</td><td>70.880486</td><td>-93.3716964722</td><td>2.52892530342</td><td>4720.50823869</td><td>6.0</td><td>-4.0</td><td>0.0105429509999</td><td>-0.474391262866</td><td>-0.0543582733746</td><td>-0.133940022562</td><td>-0.137732021751</td><td>-0.210047643174</td><td>-0.443915958603</td><td>-0.0850458336879</td><td>-0.326723886977</td><td>-0.25330882075</td><td>-0.20215311554</td><td>-0.25735658152</td><td>-0.187665013666</td><td>0.0348171397216</td><td>0.0640326544529</td><td>129.013000488</td><td>background</td><td>-1</td></tr>\n",
       "<tr><td>2M00013568+5638516</td><td>116.086624386</td><td>-5.56003539912</td><td>0.398708</td><td>56.647671</td><td>-88.9654006958</td><td>1.26611342744</td><td>4127.92040391</td><td>0.0</td><td>0.0</td><td>-0.299780604063</td><td>-0.537552128264</td><td>-0.206990789484</td><td>-0.367487290785</td><td>-0.491208368926</td><td>-0.116617727264</td><td>-0.702416513559</td><td>-0.386137933957</td><td>-0.396036637034</td><td>-0.401351138261</td><td>-0.285475038606</td><td>-0.337990168455</td><td>-0.401043058124</td><td>-0.17437511868</td><td>-0.252349548498</td><td>225.942001343</td><td>background</td><td>-1</td></tr>\n",
       "<tr><td>2M00013901+1658396</td><td>106.200409563</td><td>-44.2704853169</td><td>0.412571</td><td>16.977688</td><td>-3.21912002563</td><td>2.70478262076</td><td>4816.89820312</td><td>-16.0</td><td>-24.2999992371</td><td>0.204324411053</td><td>0.112202098441</td><td>0.106522074562</td><td>0.0312500568846</td><td>0.0300811541743</td><td>0.292481863147</td><td>0.0354341060213</td><td>0.157226965455</td><td>0.0169800087507</td><td>0.100375038426</td><td>-0.0400850833934</td><td>0.23252706999</td><td>0.122681061779</td><td>0.250232199894</td><td>0.127239552033</td><td>721.568969727</td><td>background</td><td>-1</td></tr>\n",
       "<tr><td>2M00015350+6459174</td><td>117.72291688</td><td>2.6188491138</td><td>0.472954</td><td>64.988167</td><td>-83.3326034546</td><td>0.832128201268</td><td>3779.16827318</td><td>0.0</td><td>0.0</td><td>-0.189549732255</td><td>-0.0172572763789</td><td>-0.022246233334</td><td>-0.038906088923</td><td>-0.0936783342868</td><td>0.129901356605</td><td>-0.201345356035</td><td>-0.138932045045</td><td>-0.15420965985</td><td>-0.10769482813</td><td>-0.0756767966919</td><td>0.165611219994</td><td>-0.0304030471768</td><td>-0.075063219931</td><td>0.0598534930044</td><td>576.156982422</td><td>background</td><td>-1</td></tr>\n",
       "<tr><td>2M00024516+5635133</td><td>116.232097836</td><td>-5.64993749695</td><td>0.688167</td><td>56.587036</td><td>-17.1861991882</td><td>3.76423003039</td><td>5639.9298158</td><td>-4.0</td><td>-10.0</td><td>-0.529113872955</td><td>-0.199665724564</td><td>-0.469594406675</td><td>-0.38297762203</td><td>-0.174485943998</td><td>-0.61443782238</td><td>-0.286305608718</td><td>-0.563471906644</td><td>-0.51764347022</td><td>-0.522117160132</td><td>-0.623421046862</td><td>-0.432371101308</td><td>-0.50862384843</td><td>-0.3899995443</td><td>-0.162409275297</td><td>144.152999878</td><td>background</td><td>-1</td></tr>\n",
       "<tr><td>2M00035027+7026134</td><td>118.934390435</td><td>7.93578704033</td><td>0.959485</td><td>70.437057</td><td>-5.9220199585</td><td>4.22380923094</td><td>5024.74509686</td><td>12.0</td><td>-4.0</td><td>-0.0129889117747</td><td>0.0171634425746</td><td>7.33988694145e-05</td><td>0.0792348663483</td><td>0.103159876656</td><td>-0.425652860198</td><td>0.0533097535637</td><td>0.0198684453101</td><td>-0.0795691701145</td><td>-0.0209522936111</td><td>-0.295179950863</td><td>0.0663605465456</td><td>-0.0365425212517</td><td>0.00460125970399</td><td>-0.230291078272</td><td>100.008003235</td><td>background</td><td>-1</td></tr>\n",
       "<tr><td>2M00035120+7551279</td><td>119.965803063</td><td>13.2609260464</td><td>0.96335</td><td>75.857765</td><td>-58.7495002747</td><td>2.98852471066</td><td>4942.12990374</td><td>0.0</td><td>0.0</td><td>0.209094739275</td><td>-0.0176456055329</td><td>0.143748703143</td><td>0.0994181509926</td><td>0.0170186434697</td><td>0.449720252274</td><td>-0.0214957953592</td><td>0.105349603082</td><td>0.109718686088</td><td>0.158843591363</td><td>-0.0740924868228</td><td>0.285979416466</td><td>0.195799257335</td><td>0.214434611579</td><td>0.209588552448</td><td>380.403015137</td><td>background</td><td>-1</td></tr>\n",
       "<tr><td>2M00042503+7344200</td><td>119.598317676</td><td>11.1723914739</td><td>1.10429798123</td><td>73.7388987584</td><td>-24.9806003571</td><td>3.26232735952</td><td>5533.22335136</td><td>-8.89999961853</td><td>-3.0</td><td>-1.01964090004</td><td>-1.01380801685</td><td>-0.768712615942</td><td>-0.799095118402</td><td>-0.722458282867</td><td>-0.455461010777</td><td>-0.686644514269</td><td>-0.718006904701</td><td>-0.953232707423</td><td>-0.966700990669</td><td>-1.18982108029</td><td>-0.86314617141</td><td>-0.8430458882</td><td>-0.844979813226</td><td>-0.603117827617</td><td>251.358001709</td><td>background</td><td>-1</td></tr>\n",
       "<tr><td>...</td><td>...</td><td>...</td><td>...</td><td>...</td><td>...</td><td>...</td><td>...</td><td>...</td><td>...</td><td>...</td><td>...</td><td>...</td><td>...</td><td>...</td><td>...</td><td>...</td><td>...</td><td>...</td><td>...</td><td>...</td><td>...</td><td>...</td><td>...</td><td>...</td><td>...</td><td>...</td><td>...</td></tr>\n",
       "<tr><td>2M23584180+5651146</td><td>115.736660005</td><td>-5.27893320025</td><td>359.674173</td><td>56.854061</td><td>-33.2990989685</td><td>2.31153406575</td><td>4628.89422335</td><td>-2.0</td><td>-2.0</td><td>-0.180294682918</td><td>-0.355914352719</td><td>-0.270667256978</td><td>-0.363956374542</td><td>-0.423531567862</td><td>-0.247874400014</td><td>-0.662550912148</td><td>-0.431013788176</td><td>-0.398741283325</td><td>-0.345826757314</td><td>-0.514554146426</td><td>-0.33653117374</td><td>-0.365981765148</td><td>-0.157234521016</td><td>-0.243649546045</td><td>116.142997742</td><td>background</td><td>-1</td></tr>\n",
       "<tr><td>2M23594481+1626355</td><td>105.38112752</td><td>-44.6597318382</td><td>359.936728</td><td>16.443201</td><td>-91.9978027344</td><td>1.66394337489</td><td>4505.98152278</td><td>0.0</td><td>0.0</td><td>-1.43479517282</td><td>-1.11321711525</td><td>-1.00058549076</td><td>-1.18240503574</td><td>-1.62187789419</td><td>-1.13412124647</td><td>-1.62834882489</td><td>-1.2748281776</td><td>-1.15373070393</td><td>-1.30576274294</td><td>-1.14667184207</td><td>-1.48944403893</td><td>-1.36209568877</td><td>-0.913439157265</td><td>-0.896309325219</td><td>95.1934967041</td><td>background</td><td>-1</td></tr>\n",
       "<tr><td>2M23594776+1524307</td><td>104.98323254</td><td>-45.655690668</td><td>359.949033</td><td>15.408548</td><td>-21.3633003235</td><td>2.55524897999</td><td>4812.52426949</td><td>-5.69999980927</td><td>-6.80000019073</td><td>-0.0456309914438</td><td>-0.265196082828</td><td>-0.198595874851</td><td>-0.215436791516</td><td>-0.277482353093</td><td>-0.330563629701</td><td>-0.453184109559</td><td>-0.317559904416</td><td>-0.294057669089</td><td>-0.366697770052</td><td>-0.43353768774</td><td>-0.395973954159</td><td>-0.414562363054</td><td>0.0823479371085</td><td>-0.0818370046965</td><td>243.136001587</td><td>background</td><td>-1</td></tr>\n",
       "<tr><td>AP00403029+4116087</td><td>120.723316185</td><td>-21.555650991</td><td>10.1262</td><td>41.269092</td><td>-324.825012207</td><td>1.70822458605</td><td>4307.69172818</td><td>-9999.99023438</td><td>-9999.99023438</td><td>-0.874782575134</td><td>-1.46926911269</td><td>-0.460208000753</td><td>-0.82723801365</td><td>-0.813547685511</td><td>-0.635524623369</td><td>-1.2607755987</td><td>-1.02882740146</td><td>-0.912194851457</td><td>-1.00062573496</td><td>-1.19732794448</td><td>-1.04591076162</td><td>-0.785282158379</td><td>-0.6157419888</td><td>-0.38893806944</td><td>24.71159935</td><td>background</td><td>-1</td></tr>\n",
       "<tr><td>AP00415411+4111007</td><td>121.001654394</td><td>-21.6523618771</td><td>10.475458</td><td>41.183528</td><td>-259.692993164</td><td>2.33160266608</td><td>4725.68720194</td><td>-9999.99023438</td><td>-9999.99023438</td><td>-1.23628750536</td><td>-1.18765328053</td><td>-0.773548182936</td><td>-0.859279429897</td><td>-0.621785373847</td><td>-1.55153205861</td><td>-1.74754040334</td><td>-1.20214300852</td><td>-0.965487560787</td><td>-1.21702190302</td><td>-1.26037193681</td><td>-1.56187629739</td><td>-1.211897251</td><td>-0.917687026763</td><td>-1.08034299479</td><td>8.92290973663</td><td>background</td><td>-1</td></tr>\n",
       "<tr><td>AP00430330+4121215</td><td>121.241429155</td><td>-21.4881436159</td><td>10.76375</td><td>41.355972</td><td>-86.50050354</td><td>1.97494243916</td><td>4130.26382802</td><td>-9999.99023438</td><td>-9999.99023438</td><td>-1.07835360622</td><td>-0.640194970242</td><td>-0.693727481604</td><td>-0.650054666991</td><td>-0.516357231204</td><td>-0.799084953041</td><td>-1.03571232769</td><td>-0.745669310068</td><td>-0.854359787178</td><td>-0.921941187934</td><td>-0.895016421409</td><td>-0.77007992708</td><td>-0.668274768001</td><td>-0.931276760643</td><td>-0.662945840398</td><td>28.5627002716</td><td>background</td><td>-1</td></tr>\n",
       "<tr><td>AP00432347+4050418</td><td>121.290679716</td><td>-22.0010454698</td><td>10.847792</td><td>40.844944</td><td>-293.609985352</td><td>1.27777628204</td><td>3799.88537053</td><td>-9999.99023438</td><td>-9999.99023438</td><td>-0.76195571436</td><td>-2.45835796053</td><td>-0.81367594149</td><td>-1.59545844709</td><td>-2.23160560262</td><td>-1.11653443108</td><td>-2.52559668375</td><td>0.132414575902</td><td>-0.802063375108</td><td>-1.04698985183</td><td>-1.95442113583</td><td>-0.647932844491</td><td>-1.19391443123</td><td>-0.432624639926</td><td>-1.39349287316</td><td>10.100399971</td><td>background</td><td>-1</td></tr>\n",
       "<tr><td>AP00433694+4102024</td><td>121.343117479</td><td>-21.8135012495</td><td>10.903917</td><td>41.034</td><td>-187.869003296</td><td>1.93545643741</td><td>4331.32472849</td><td>-9999.99023438</td><td>-9999.99023438</td><td>-1.03955652077</td><td>-0.58411873937</td><td>-0.433018733911</td><td>-0.595410200824</td><td>-0.544752211518</td><td>-0.699907285537</td><td>-1.07322651526</td><td>-0.888516058996</td><td>-0.7047977619</td><td>-0.886513641074</td><td>-1.09603433704</td><td>-0.797316847292</td><td>-0.814748164507</td><td>-0.810781751111</td><td>-0.574256284531</td><td>19.1301994324</td><td>background</td><td>-1</td></tr>\n",
       "<tr><td>AP00442307+4133064</td><td>121.515607014</td><td>-21.3004571498</td><td>11.096125</td><td>41.551778</td><td>-759.775024414</td><td>2.16128455372</td><td>4635.51406034</td><td>-9999.99023438</td><td>-9999.99023438</td><td>-0.922803881534</td><td>-1.20800307751</td><td>-0.799849121472</td><td>-0.93394266564</td><td>-0.82783169504</td><td>-1.10007064717</td><td>-1.23252610115</td><td>-1.00657419216</td><td>-1.12054096925</td><td>-1.19267109647</td><td>-1.12901012335</td><td>-1.22051069417</td><td>-1.0601344884</td><td>-0.980125069211</td><td>-0.845345642877</td><td>8.08384990692</td><td>background</td><td>-1</td></tr>\n",
       "<tr><td>AP00452505+4106222</td><td>121.710924634</td><td>-21.7512000953</td><td>11.35437</td><td>41.10616</td><td>-53.9527015686</td><td>2.21057664448</td><td>4674.23144441</td><td>-9999.99023438</td><td>-9999.99023438</td><td>-1.74622083155</td><td>-1.77754629578</td><td>-1.20342260941</td><td>-1.35713181566</td><td>-1.28310932743</td><td>-1.39964527667</td><td>-2.21029334932</td><td>-1.62704679529</td><td>-1.34046608996</td><td>-1.59948648346</td><td>-1.67273020376</td><td>-1.82268483445</td><td>-1.55927844927</td><td>-1.33822100379</td><td>-1.12479292289</td><td>49.2313995361</td><td>background</td><td>-1</td></tr>\n",
       "</table>"
      ],
      "text/plain": [
       "<Table masked=False length=2039>\n",
       "    APOGEE_ID           GLON          GLAT      ... cluster_name label\n",
       "    string144         float64       float64     ...   string80   int32\n",
       "------------------ ------------- -------------- ... ------------ -----\n",
       "2M00005666+1647445 105.904404447 -44.4001106393 ...   background    -1\n",
       "2M00012694+1639052 106.012581468 -44.5717214285 ...   background    -1\n",
       "2M00012984+7052497 118.827240711  8.40794295219 ...   background    -1\n",
       "2M00013568+5638516 116.086624386 -5.56003539912 ...   background    -1\n",
       "2M00013901+1658396 106.200409563 -44.2704853169 ...   background    -1\n",
       "2M00015350+6459174  117.72291688   2.6188491138 ...   background    -1\n",
       "2M00024516+5635133 116.232097836 -5.64993749695 ...   background    -1\n",
       "2M00035027+7026134 118.934390435  7.93578704033 ...   background    -1\n",
       "2M00035120+7551279 119.965803063  13.2609260464 ...   background    -1\n",
       "2M00042503+7344200 119.598317676  11.1723914739 ...   background    -1\n",
       "               ...           ...            ... ...          ...   ...\n",
       "2M23584180+5651146 115.736660005 -5.27893320025 ...   background    -1\n",
       "2M23594481+1626355  105.38112752 -44.6597318382 ...   background    -1\n",
       "2M23594776+1524307  104.98323254  -45.655690668 ...   background    -1\n",
       "AP00403029+4116087 120.723316185  -21.555650991 ...   background    -1\n",
       "AP00415411+4111007 121.001654394 -21.6523618771 ...   background    -1\n",
       "AP00430330+4121215 121.241429155 -21.4881436159 ...   background    -1\n",
       "AP00432347+4050418 121.290679716 -22.0010454698 ...   background    -1\n",
       "AP00433694+4102024 121.343117479 -21.8135012495 ...   background    -1\n",
       "AP00442307+4133064 121.515607014 -21.3004571498 ...   background    -1\n",
       "AP00452505+4106222 121.710924634 -21.7512000953 ...   background    -1"
      ]
     },
     "execution_count": 6,
     "metadata": {},
     "output_type": "execute_result"
    }
   ],
   "source": [
    "ap_table"
   ]
  },
  {
   "cell_type": "code",
   "execution_count": 7,
   "metadata": {},
   "outputs": [
    {
     "name": "stdout",
     "output_type": "stream",
     "text": [
      "(2039, 9)\n",
      "(2039, 10)\n"
     ]
    }
   ],
   "source": [
    "## Compile a matrix that contains chemical abundances and radial velocity\n",
    "Fe_index = np.where(element_names == 'FE_H')[0][0]\n",
    "chem = [ap_table[element]-ap_table['FE_H'] for element in element_names]\n",
    "chem[Fe_index] = ap_table['FE_H']\n",
    "chem.append(ap_table['VHELIO_AVG'])\n",
    "chem_RV = np.array(chem).T\n",
    "chem = np.delete(chem_RV,-1,1)\n",
    "print chem.shape\n",
    "print chem_RV.shape"
   ]
  },
  {
   "cell_type": "code",
   "execution_count": 8,
   "metadata": {},
   "outputs": [
    {
     "name": "stdout",
     "output_type": "stream",
     "text": [
      "Wall time: 343 ms\n"
     ]
    }
   ],
   "source": [
    "%%time \n",
    "## Get the indices of nearest neighbors in chemical and radial velocity space for every star\n",
    "indices = get_friends(chem_RV, 9, 150, 50)"
   ]
  },
  {
   "cell_type": "code",
   "execution_count": 9,
   "metadata": {},
   "outputs": [
    {
     "name": "stdout",
     "output_type": "stream",
     "text": [
      "Number of Stars/ Threshold\n",
      "902 5.9\n",
      "867 10.8\n",
      "143 15.7\n",
      "31 20.6\n",
      "6 25.5\n",
      "10 30.4\n",
      "17 35.3\n",
      "24 40.2\n",
      "23 45.1\n",
      "16 50.0\n"
     ]
    }
   ],
   "source": [
    "## find min_samples for DBSCAN\n",
    "lengths = np.array([len(indices[n]) for n in range(len(indices))])\n",
    "H, edges = np.histogram(lengths)\n",
    "print \"Number of Stars/ Threshold\"\n",
    "for n in range(len(H)):\n",
    "    print H[n], edges[n+1]"
   ]
  },
  {
   "cell_type": "code",
   "execution_count": 10,
   "metadata": {},
   "outputs": [
    {
     "name": "stdout",
     "output_type": "stream",
     "text": [
      "[38 39 50 43 40 32 45 42 36 41 40 42 42  2 37 33 39 33 27 36 38 35 49 33 41\n",
      " 34 39 37 41 39 44 39 46 44 38 42 40 48 46 48 39 38 45 37 41 43 47 49 45 47\n",
      " 44 34 47 43 42 50 49 42 39 47 49 35 37 39 45 36 47 31 34 29 46]\n"
     ]
    }
   ],
   "source": [
    "## check if known members have sufficient number of neighbors\n",
    "c_name = \"M13\"\n",
    "members = np.where(ap_table['cluster_name'] == c_name)[0]\n",
    "print lengths[members]"
   ]
  },
  {
   "cell_type": "code",
   "execution_count": 11,
   "metadata": {},
   "outputs": [
    {
     "name": "stdout",
     "output_type": "stream",
     "text": [
      "1981 stars has more than 1 neighbors\n"
     ]
    }
   ],
   "source": [
    "## Select stars with more than N_cut number of neighbors\n",
    "N_cut = 1\n",
    "non_noise = np.where(lengths > N_cut)[0]\n",
    "print \"%i stars has more than %i neighbors\"%(len(non_noise), N_cut)"
   ]
  },
  {
   "cell_type": "code",
   "execution_count": 12,
   "metadata": {},
   "outputs": [
    {
     "name": "stdout",
     "output_type": "stream",
     "text": [
      "Wall time: 1min 11s\n"
     ]
    }
   ],
   "source": [
    "%%time\n",
    "\n",
    "## Get the distance matrix\n",
    "S = lil_matrix((len(non_noise), len(non_noise)))\n",
    "for (n, m, dist) in iterator_dist(indices[non_noise]):\n",
    "    S[n,m] = dist\n",
    "    S[m,n] = dist"
   ]
  },
  {
   "cell_type": "code",
   "execution_count": 13,
   "metadata": {
    "collapsed": true
   },
   "outputs": [],
   "source": [
    "## find eps for DBSCAN\n",
    "core = np.where(lengths[non_noise] > 11)[0]\n",
    "S_core = S[core][:,core]\n",
    "dist = np.array([])\n",
    "for n in range(len(core)):\n",
    "    row = S_core[n].todense()\n",
    "    d = np.asarray(row[row > 0])[0]\n",
    "    dist = np.append(dist, np.sort(d)[:11])\n",
    "dist = np.sort(dist)\n",
    "x = np.arange(len(dist))"
   ]
  },
  {
   "cell_type": "code",
   "execution_count": 14,
   "metadata": {},
   "outputs": [
    {
     "data": {
      "image/png": "[encoded data removed]",
      "text/plain": [
       "<matplotlib.figure.Figure at 0x39940f0>"
      ]
     },
     "metadata": {},
     "output_type": "display_data"
    }
   ],
   "source": [
    "plt.axhline(y=0.4, xmin=0, xmax=1)\n",
    "plt.plot(x, dist, \"r.\")\n",
    "plt.show()"
   ]
  },
  {
   "cell_type": "code",
   "execution_count": 15,
   "metadata": {
    "scrolled": true
   },
   "outputs": [
    {
     "name": "stdout",
     "output_type": "stream",
     "text": [
      "2 clusters found\n",
      "#Categorized as Member/ Ratio of Member:  95 / 0.0479555779909\n",
      "Wall time: 32 ms\n"
     ]
    }
   ],
   "source": [
    "%%time \n",
    "\n",
    "## DBSCAN SNN\n",
    "db = DBSCAN(eps=0.4, min_samples=11, metric='precomputed').fit(S, lengths[non_noise])\n",
    "labels = db.labels_\n",
    "n_clumps = np.amax(labels) + 1\n",
    "true_labels = ap_table[\"label\"][non_noise]\n",
    "print \"%i clusters found\"%n_clumps\n",
    "print \"#Categorized as Member/ Ratio of Member: \", \n",
    "print len(np.where(labels != -1)[0]), \"/\", len(np.where(labels != -1)[0])*1.0/len(labels)"
   ]
  },
  {
   "cell_type": "code",
   "execution_count": 16,
   "metadata": {},
   "outputs": [
    {
     "name": "stdout",
     "output_type": "stream",
     "text": [
      "70 members recovered:\n",
      "84 stars in this group\n"
     ]
    },
    {
     "data": {
      "image/png": "[encoded data removed]",
      "text/plain": [
       "<matplotlib.figure.Figure at 0x7c7d2b0>"
      ]
     },
     "metadata": {},
     "output_type": "display_data"
    }
   ],
   "source": [
    "xlab = \"[Fe/H]\"\n",
    "ylab = \"RV(km/s)\"\n",
    "X = ap_table['FE_H']\n",
    "Y = ap_table['VHELIO_AVG']\n",
    "for n in range(max(labels)+1):\n",
    "    group = non_noise[np.where(labels == n)[0]]\n",
    "    group_members = np.intersect1d(members, group)\n",
    "    if len(group_members) > 0:\n",
    "        print \"%i members recovered:\"%len(group_members)\n",
    "        print \"%i stars in this group\"%len(group)\n",
    "        fig = plt.figure(figsize=(5.5, 4))\n",
    "        plt.plot(X[group], Y[group], \".\", c=\"lightgrey\", label=\"BG\")\n",
    "        plt.plot(X[group_members], Y[group_members], \".\", c='r', label=\"M13\")\n",
    "        plt.xlabel(xlab)\n",
    "        plt.ylabel(ylab)\n",
    "        plt.xticks(fontsize=\"small\")\n",
    "        plt.yticks(fontsize=\"small\")\n",
    "        plt.legend(loc=3, fontsize=\"small\", numpoints=1)\n",
    "        plt.title(\"SNN Group %i\"%n)\n",
    "        plt.savefig(\"SNN_Group_%i.png\"%n, dpi=500)\n",
    "        plt.show()"
   ]
  },
  {
   "cell_type": "code",
   "execution_count": 17,
   "metadata": {
    "collapsed": true
   },
   "outputs": [],
   "source": [
    "## KMeans Chemical Tagging\n",
    "k_num = 3\n",
    "random_state = 123\n",
    "kmeans = KMeans(n_clusters=k_num, random_state=random_state, max_iter=200)\n",
    "kmeans.fit_predict(chem)\n",
    "km_labels = kmeans.labels_"
   ]
  },
  {
   "cell_type": "code",
   "execution_count": 18,
   "metadata": {},
   "outputs": [
    {
     "name": "stdout",
     "output_type": "stream",
     "text": [
      "70 members recovered:\n",
      "503 stars in this group\n"
     ]
    },
    {
     "data": {
      "image/png": "[encoded data removed]",
      "text/plain": [
       "<matplotlib.figure.Figure at 0x7c7dd50>"
      ]
     },
     "metadata": {},
     "output_type": "display_data"
    },
    {
     "name": "stdout",
     "output_type": "stream",
     "text": [
      "1 members recovered:\n",
      "658 stars in this group\n"
     ]
    },
    {
     "data": {
      "image/png": "[encoded data removed]",
      "text/plain": [
       "<matplotlib.figure.Figure at 0x95d6430>"
      ]
     },
     "metadata": {},
     "output_type": "display_data"
    }
   ],
   "source": [
    "xlab = \"[Fe/H]\"\n",
    "ylab = \"RV(km/s)\"\n",
    "X = ap_table['FE_H']\n",
    "Y = ap_table['VHELIO_AVG']\n",
    "for n in range(max(km_labels)+1):\n",
    "    group = np.where(km_labels == n)[0]\n",
    "    group_members = np.intersect1d(members, group)\n",
    "    if len(group_members) > 0:\n",
    "        print \"%i members recovered:\"%len(group_members)\n",
    "        print \"%i stars in this group\"%len(group)\n",
    "        fig = plt.figure(figsize=(5.5, 4))\n",
    "        plt.plot(X[group], Y[group], \".\", c=\"lightgrey\", label=\"BG\")\n",
    "        plt.plot(X[group_members], Y[group_members], \".\", c='r', label=\"M13\")\n",
    "        plt.xlabel(xlab)\n",
    "        plt.ylabel(ylab)\n",
    "        plt.xticks(fontsize=\"small\")\n",
    "        plt.yticks(fontsize=\"small\")\n",
    "        plt.legend(loc=0, fontsize=\"small\", numpoints=1)\n",
    "        plt.title(\"KMeans Group %i\"%n)\n",
    "        plt.savefig(\"KMeans Group %i\"%n, dpi=500)\n",
    "        plt.show()"
   ]
  },
  {
   "cell_type": "code",
   "execution_count": 19,
   "metadata": {
    "collapsed": true
   },
   "outputs": [],
   "source": [
    "## find eps for DBSCAN\n",
    "nbrs = NearestNeighbors(n_neighbors=25, algorithm='ball_tree', metric='manhattan').fit(chem)\n",
    "dist, indices = nbrs.kneighbors(chem)\n",
    "dist = dist.flatten()\n",
    "dist = dist[dist > 0]\n",
    "dist = np.sort(dist)\n",
    "x = np.arange(len(dist))"
   ]
  },
  {
   "cell_type": "code",
   "execution_count": 20,
   "metadata": {},
   "outputs": [
    {
     "data": {
      "image/png": "[encoded data removed]",
      "text/plain": [
       "<matplotlib.figure.Figure at 0x776abf0>"
      ]
     },
     "metadata": {},
     "output_type": "display_data"
    }
   ],
   "source": [
    "plt.axhline(y=0.8, xmin=0, xmax=1)\n",
    "plt.plot(x, dist, \"r.\")\n",
    "plt.show()"
   ]
  },
  {
   "cell_type": "code",
   "execution_count": 21,
   "metadata": {},
   "outputs": [
    {
     "name": "stdout",
     "output_type": "stream",
     "text": [
      "2039 groups found\n"
     ]
    }
   ],
   "source": [
    "## DBSCAN Chemical Tagging\n",
    "db = DBSCAN(eps=0.45, min_samples=25, metric='manhattan').fit(chem)\n",
    "db_labels = db.labels_\n",
    "print \"%i groups found\"%len(db_labels)"
   ]
  },
  {
   "cell_type": "code",
   "execution_count": 22,
   "metadata": {},
   "outputs": [
    {
     "name": "stdout",
     "output_type": "stream",
     "text": [
      "57 members recovered:\n",
      "183 stars in this group\n"
     ]
    },
    {
     "data": {
      "image/png": "[encoded data removed]",
      "text/plain": [
       "<matplotlib.figure.Figure at 0x93c3510>"
      ]
     },
     "metadata": {},
     "output_type": "display_data"
    }
   ],
   "source": [
    "xlab = \"[Fe/H]\"\n",
    "ylab = \"RV(km/s)\"\n",
    "X = ap_table['FE_H']\n",
    "Y = ap_table['VHELIO_AVG']\n",
    "for n in range(max(db_labels)+1):\n",
    "    group = np.where(db_labels == n)[0]\n",
    "    group_members = np.intersect1d(members, group)\n",
    "    if len(group_members) > 0:\n",
    "        print \"%i members recovered:\"%len(group_members)\n",
    "        print \"%i stars in this group\"%len(group)\n",
    "        fig = plt.figure(figsize=(5.5, 4))\n",
    "        plt.plot(X[group], Y[group], \".\", c=\"lightgrey\", label=\"BG\")\n",
    "        plt.plot(X[group_members], Y[group_members], \".\", c='r', label=\"M13\")\n",
    "        plt.xlabel(xlab)\n",
    "        plt.ylabel(ylab)\n",
    "        plt.xticks(fontsize=\"small\")\n",
    "        plt.yticks(fontsize=\"small\")\n",
    "        plt.legend(loc=0, fontsize=\"small\", numpoints=1)\n",
    "        plt.title(\"DBSCAN Group %i\"%n)\n",
    "        plt.savefig(\"DBSCAN Group %i\"%n, dpi=500)\n",
    "        plt.show()"
   ]
  },
  {
   "cell_type": "code",
   "execution_count": null,
   "metadata": {
    "collapsed": true
   },
   "outputs": [],
   "source": []
  }
 ],
 "metadata": {
  "kernelspec": {
   "display_name": "Python 2",
   "language": "python",
   "name": "python2"
  },
  "language_info": {
   "codemirror_mode": {
    "name": "ipython",
    "version": 2
   },
   "file_extension": ".py",
   "mimetype": "text/x-python",
   "name": "python",
   "nbconvert_exporter": "python",
   "pygments_lexer": "ipython2",
   "version": "2.7.13"
  }
 },
 "nbformat": 4,
 "nbformat_minor": 1
}
