{
 "cells": [
  {
   "cell_type": "code",
   "execution_count": 1,
   "metadata": {},
   "outputs": [],
   "source": [
    "import numpy as np\n",
    "from astropy.table import Table\n",
    "from scipy.sparse import lil_matrix\n",
    "from sklearn.cluster import DBSCAN\n",
    "from sklearn.neighbors import NearestNeighbors\n",
    "import time"
   ]
  },
  {
   "cell_type": "code",
   "execution_count": 2,
   "metadata": {},
   "outputs": [],
   "source": [
    "def jaccard(a,b):\n",
    "    \"\"\"\n",
    "    Calculate Jaccard distance between two arrays.\n",
    "    :param a: array\n",
    "        array of neighbors\n",
    "    :param b: array\n",
    "        array of neighbors\n",
    "    :return: Jaccard distance.\n",
    "    \"\"\"\n",
    "    a = np.array(a, dtype='int')\n",
    "    b = np.array(b, dtype='int')\n",
    "    a = a[a > -1]\n",
    "    b = b[b > -1]\n",
    "    union = np.union1d(a, b)\n",
    "    intersection = np.intersect1d(a, b)\n",
    "    return 1.0 - len(intersection)*1.0 / len(union)\n",
    "\n",
    "\n",
    "def iterator_dist(indices, min_k):\n",
    "    \"\"\"\n",
    "    Generator for computing distance matrix.\n",
    "    :param indices: 2d array\n",
    "        array of arrays of neighbors\n",
    "    :param min_k: int\n",
    "        minimum number of shared neighbors\n",
    "    \"\"\"\n",
    "    for n in range(len(indices)):\n",
    "        for m in indices[n][indices[n] > n]:\n",
    "            if len(np.intersect1d(indices[m], indices[n])) > min_k:\n",
    "                dist = jaccard(indices[n], indices[m])\n",
    "                yield (n, m, dist)\n"
   ]
  },
  {
   "cell_type": "code",
   "execution_count": 7,
   "metadata": {},
   "outputs": [
    {
     "name": "stderr",
     "output_type": "stream",
     "text": [
      "WARNING: hdu= was not specified but multiple tables are present, reading in first available table (hdu=1) [astropy.io.fits.connect]\n"
     ]
    },
    {
     "name": "stdout",
     "output_type": "stream",
     "text": [
      "17638 stars left after dropping NaNs and applying the cut in b\n"
     ]
    }
   ],
   "source": [
    "# load data from APOGEE\n",
    "directory = '/home/boquan/Data/'\n",
    "filename = 'allStar-l31c.2.fits' # download data from https://www.sdss.org/dr14/irspec/spectro_data/\n",
    "table = Table.read(directory+filename)\n",
    "table = table[table['GLAT'] > 15]  # a subsample of stars with galactic latitude > 15 degrees\n",
    "elements = ['C_FE', 'CI_FE', 'N_FE', 'O_FE', 'NA_FE', 'MG_FE', 'AL_FE', 'SI_FE', 'P_FE', 'S_FE', 'K_FE', 'CA_FE',\n",
    "            'TI_FE', 'TIII_FE', 'V_FE', 'CR_FE', 'MN_FE', 'FE_H', 'CO_FE', 'NI_FE']\n",
    "df = table[elements+['VHELIO_AVG', 'APOGEE_ID', 'SNR', 'STARFLAG']].to_pandas()\n",
    "df = df[df['STARFLAG'] == 0]\n",
    "df['APOGEE_ID'] = df['APOGEE_ID'].str.decode('utf-8') # remove duplicates by keeping the highest SNR\n",
    "df = df.sort_values('SNR', ascending=False)\n",
    "df = df.drop_duplicates(subset='APOGEE_ID', keep='first')\n",
    "df = df.mask(df == -9999)\n",
    "df = df.dropna(subset=elements+['VHELIO_AVG']) \n",
    "print(f'{len(df)} stars left after dropping NaNs and applying the cut in b')"
   ]
  },
  {
   "cell_type": "code",
   "execution_count": 8,
   "metadata": {},
   "outputs": [],
   "source": [
    "# parameters\n",
    "num_nbhrs = 50  # number of nearest neighbors to retrieve for each star in the initial data space\n",
    "min_k = 10  # minimum number of shared neighbors between two stars to be connected\n",
    "eps = 0.35  # search radius parameter in DBSCAN\n",
    "min_samples = 8  # minimum number of data points within the search radius to be considered a core point"
   ]
  },
  {
   "cell_type": "code",
   "execution_count": 9,
   "metadata": {},
   "outputs": [],
   "source": [
    "# data matrix\n",
    "data = df[elements].values"
   ]
  },
  {
   "cell_type": "code",
   "execution_count": 10,
   "metadata": {},
   "outputs": [
    {
     "name": "stdout",
     "output_type": "stream",
     "text": [
      "Nearest neighbors found. \n",
      "Took 10.63 seconds\n"
     ]
    }
   ],
   "source": [
    "# get nearest neighbors\n",
    "start = time.time()\n",
    "nbrs = NearestNeighbors(n_neighbors=num_nbhrs, metric='manhattan').fit(data)\n",
    "distances, indices = nbrs.kneighbors(data)\n",
    "print('Nearest neighbors found. ')\n",
    "print(f'Took {time.time() - start:.2f} seconds')"
   ]
  },
  {
   "cell_type": "code",
   "execution_count": 11,
   "metadata": {},
   "outputs": [
    {
     "name": "stdout",
     "output_type": "stream",
     "text": [
      "Distance matrix created. \n",
      "Took 12.60 seconds\n"
     ]
    }
   ],
   "source": [
    "# generate distance matrix\n",
    "start = time.time()\n",
    "S = lil_matrix((data.shape[0], data.shape[0]))\n",
    "for (n, m, dist) in iterator_dist(indices, min_k):\n",
    "    S[n, m] = dist\n",
    "S += S.transpose()\n",
    "print('Distance matrix created. ')\n",
    "print(f'Took {time.time() - start:.2f} seconds')"
   ]
  },
  {
   "cell_type": "code",
   "execution_count": 12,
   "metadata": {},
   "outputs": [
    {
     "name": "stdout",
     "output_type": "stream",
     "text": [
      "3 clusters found (103 stars left)\n",
      "Took 0.10 seconds\n"
     ]
    }
   ],
   "source": [
    "# DBSCAN clustering with precomputed distance matrix\n",
    "start = time.time()\n",
    "db = DBSCAN(eps=eps, min_samples=min_samples, metric='precomputed', n_jobs=-1).fit(S)\n",
    "labels = db.labels_\n",
    "n_clumps = max(labels)+1\n",
    "print(f'{n_clumps} clusters found ({np.sum(labels > -1)} stars left)')\n",
    "print(f'Took {time.time() - start:.2f} seconds')"
   ]
  },
  {
   "cell_type": "code",
   "execution_count": null,
   "metadata": {},
   "outputs": [],
   "source": []
  }
 ],
 "metadata": {
  "kernelspec": {
   "display_name": "Python 3",
   "language": "python",
   "name": "python3"
  },
  "language_info": {
   "codemirror_mode": {
    "name": "ipython",
    "version": 3
   },
   "file_extension": ".py",
   "mimetype": "text/x-python",
   "name": "python",
   "nbconvert_exporter": "python",
   "pygments_lexer": "ipython3",
   "version": "3.7.0"
  }
 },
 "nbformat": 4,
 "nbformat_minor": 2
}
