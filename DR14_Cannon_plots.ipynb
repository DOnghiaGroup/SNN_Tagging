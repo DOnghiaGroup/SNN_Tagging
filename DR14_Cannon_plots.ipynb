{
 "cells": [
  {
   "cell_type": "code",
   "execution_count": 1,
   "metadata": {
    "collapsed": true
   },
   "outputs": [],
   "source": [
    "__author__ = 'Erwin Chen'\n",
    "%matplotlib inline\n",
    "import math\n",
    "import matplotlib.pyplot as plt\n",
    "import matplotlib as mpl\n",
    "from matplotlib import style\n",
    "from pylab import MaxNLocator\n",
    "from astropy.io import fits\n",
    "from astropy.table import Table, join, Column\n",
    "import numpy as np\n",
    "from ipywidgets import interact\n",
    "import ipywidgets as widgets\n",
    "\n",
    "style.use('fivethirtyeight')"
   ]
  },
  {
   "cell_type": "code",
   "execution_count": 2,
   "metadata": {
    "collapsed": true
   },
   "outputs": [],
   "source": [
    "ap_file = fits.open('allStarCannon-l31c.2.fits')\n",
    "ap_data = ap_file[1].data\n",
    "ap_header = ap_file[1].header\n",
    "# print ap_header"
   ]
  },
  {
   "cell_type": "code",
   "execution_count": 3,
   "metadata": {},
   "outputs": [
    {
     "name": "stdout",
     "output_type": "stream",
     "text": [
      "The following elements are in the data:\n",
      "['Fe' 'C' 'Ci' 'N' 'O' 'Na' 'Mg' 'Al' 'Si' 'P' 'S' 'K' 'Ca' 'Ti' 'Tiii' 'V'\n",
      " 'Cr' 'Mn' 'Co' 'Ni']\n"
     ]
    }
   ],
   "source": [
    "## load data from APOGEE\n",
    "ap_file = fits.open('allStarCannon-l31c.2.fits')\n",
    "# print (ap_file[1].header.keys)\n",
    "ap_data = ap_file[1].data\n",
    "feature_names = ['APOGEE_ID', 'FE_H', 'C_H', 'CI_H', 'N_H', 'O_H', 'NA_H', 'MG_H', 'AL_H', 'SI_H', 'P_H', 'S_H', 'K_H', 'CA_H', 'TI_H', 'TIII_H', 'V_H', 'CR_H', 'MN_H', 'CO_H', 'NI_H']\n",
    "feature_names = np.array(feature_names)\n",
    "element_names = ['FE_H', 'C_H', 'CI_H', 'N_H', 'O_H', 'NA_H', 'MG_H', 'AL_H', 'SI_H', 'P_H', 'S_H', 'K_H', 'CA_H', 'TI_H', 'TIII_H', 'V_H', 'CR_H', 'MN_H', 'CO_H', 'NI_H']\n",
    "element_names = np.array(element_names)\n",
    "elements = np.array([name.replace('_H', '').title() for name in element_names])\n",
    "print(\"The following elements are in the data:\")\n",
    "print(elements)\n",
    "\n",
    "## append data into columns\n",
    "ap_cols = []\n",
    "for name in feature_names:\n",
    "    ap_cols.append(ap_data.field(name))\n",
    "ap_cols = np.array(ap_cols)\n",
    "ap_cols = ap_cols.T\n",
    "\n",
    "## create a table with the data columns\n",
    "dtype = ['float' for n in range(len(feature_names))]\n",
    "dtype[0] = 'string'\n",
    "ap_table = Table(data=ap_cols, names=feature_names, dtype=dtype)\n",
    "\n",
    "ap_file.close()"
   ]
  },
  {
   "cell_type": "code",
   "execution_count": 4,
   "metadata": {
    "collapsed": true
   },
   "outputs": [],
   "source": [
    "## add membership and number labels for clusters\n",
    "known_clusters = np.loadtxt('table4.dat', usecols=(0, 1), dtype=('S', 'S'), unpack=True)\n",
    "member_IDs = known_clusters[0]\n",
    "member_names = known_clusters[1]\n",
    "labels = np.zeros(len(member_IDs))-1\n",
    "cluster_names = list(set(member_names))\n",
    "\n",
    "names = ['APOGEE_ID', 'cluster_name']\n",
    "dtype=['string', 'string']\n",
    "member_table = Table(data=[member_IDs, member_names], names=names, dtype=dtype)\n",
    "ap_table = join(ap_table, member_table, keys='APOGEE_ID', join_type='left')"
   ]
  },
  {
   "cell_type": "code",
   "execution_count": 5,
   "metadata": {
    "collapsed": true
   },
   "outputs": [],
   "source": [
    "## fill missing values\n",
    "ap_table['cluster_name'].fill_value = 'Background'\n",
    "for element in element_names:\n",
    "    ap_table[element].mask = np.isnan(ap_table[element])\n",
    "    ap_table[element].fill_value = -9999.\n",
    "ap_table = ap_table.filled()"
   ]
  },
  {
   "cell_type": "code",
   "execution_count": 6,
   "metadata": {
    "collapsed": true
   },
   "outputs": [],
   "source": [
    "## group table by cluster names\n",
    "\n",
    "ap_table_by_name = ap_table.group_by('cluster_name')\n",
    "cluster_names = [name for name in ap_table_by_name.groups.keys['cluster_name'] if name != 'Background']"
   ]
  },
  {
   "cell_type": "code",
   "execution_count": 7,
   "metadata": {},
   "outputs": [
    {
     "name": "stdout",
     "output_type": "stream",
     "text": [
      "Background has 276550 members\n",
      "M107 has 18 members\n",
      "M13 has 87 members\n",
      "M15 has 18 members\n",
      "M2 has 40 members\n",
      "M3 has 140 members\n",
      "M35 has 1 members\n",
      "M5 has 203 members\n",
      "M53 has 19 members\n",
      "M67 has 38 members\n",
      "M71 has 14 members\n",
      "M92 has 50 members\n",
      "N188 has 10 members\n",
      "N2158 has 10 members\n",
      "N2420 has 9 members\n",
      "N4147 has 3 members\n",
      "N5466 has 11 members\n",
      "N6791 has 23 members\n",
      "N6819 has 30 members\n",
      "N7789 has 5 members\n",
      "Pleiades has 92 members\n"
     ]
    }
   ],
   "source": [
    "## show clusters\n",
    "\n",
    "for group in ap_table_by_name.groups:\n",
    "    name = group['cluster_name'][0]\n",
    "    print(\"%s has %i members\"%(name, len(group)))"
   ]
  },
  {
   "cell_type": "code",
   "execution_count": 8,
   "metadata": {
    "collapsed": true
   },
   "outputs": [],
   "source": [
    "## functions for getting chemical abundances and their labels\n",
    "\n",
    "def get_element(group, element):\n",
    "    if element == 'FE_H':\n",
    "        return group[element]\n",
    "    else:\n",
    "        return group[element] - group['FE_H']\n",
    "    \n",
    "def get_label(element):\n",
    "    label = element.replace('_H', '').title()\n",
    "    if element == 'FE_H':\n",
    "        return '[' + label + '/H]'\n",
    "    else:\n",
    "        return '[' + label + '/Fe]'"
   ]
  },
  {
   "cell_type": "code",
   "execution_count": 9,
   "metadata": {},
   "outputs": [],
   "source": [
    "## individual histogram\n",
    "\n",
    "def ind_hist(view_cluster, view_element):\n",
    "    \n",
    "    mask = ap_table_by_name.groups.keys['cluster_name'] == view_cluster\n",
    "    group = ap_table_by_name.groups[mask]\n",
    "    valid = np.where(group[view_element] > -999.)[0]\n",
    "\n",
    "    xlabel = get_label(view_element)\n",
    "    ylabel = \"Number of Members\"\n",
    "    X = get_element(group, view_element)\n",
    "    X = X[valid]\n",
    "\n",
    "    fig, ax = plt.subplots(nrows=2, ncols=1, figsize=(6,10))\n",
    "\n",
    "    y_axis = ax[0].get_yaxis()\n",
    "    y_axis.set_major_locator(MaxNLocator(integer=True))\n",
    "\n",
    "    ax[0].hist(X, histtype='bar', ec='black', label=group['cluster_name'][0])\n",
    "    ax[0].set_xlabel(xlabel)\n",
    "    ax[0].set_ylabel(ylabel)\n",
    "    ax[0].legend(loc=0)\n",
    "    y_axis = ax[0].get_yaxis()\n",
    "    y_axis.set_major_locator(MaxNLocator(integer=True))\n",
    "\n",
    "    ax[1].hist(X, histtype='bar', ec='black', cumulative=True, label=group['cluster_name'][0])\n",
    "    ax[1].set_xlabel(xlabel)\n",
    "    ax[1].set_ylabel(ylabel)\n",
    "    ax[1].legend(loc=0)\n",
    "    y_axis = ax[1].get_yaxis()\n",
    "    y_axis.set_major_locator(MaxNLocator(integer=True))\n",
    "\n",
    "    plt.show()"
   ]
  },
  {
   "cell_type": "code",
   "execution_count": 10,
   "metadata": {},
   "outputs": [
    {
     "data": {
      "application/vnd.jupyter.widget-view+json": {
       "model_id": "8b0f4e6708c947b69294df1776c1e0c8"
      }
     },
     "metadata": {},
     "output_type": "display_data"
    },
    {
     "data": {
      "text/plain": [
       "<function __main__.ind_hist>"
      ]
     },
     "execution_count": 10,
     "metadata": {},
     "output_type": "execute_result"
    }
   ],
   "source": [
    "interact(ind_hist, view_cluster=cluster_names, view_element=element_names)"
   ]
  },
  {
   "cell_type": "code",
   "execution_count": 11,
   "metadata": {},
   "outputs": [],
   "source": [
    "## 2d_scatter\n",
    "def two_element_scatter(element_0, element_1, view_cluster):\n",
    "    # colors\n",
    "    num_cluster = len(view_cluster)\n",
    "    colors = np.linspace(0, 1, num_cluster)\n",
    "    cm = plt.get_cmap('rainbow')\n",
    "\n",
    "    fig, ax = plt.subplots(figsize=(8,6))\n",
    "\n",
    "    i = 0\n",
    "    for name in view_cluster:\n",
    "        mask = ap_table_by_name.groups.keys['cluster_name'] == name\n",
    "        group = ap_table_by_name.groups[mask]\n",
    "        valid = np.where((group[element_0] > -999.) * (group[element_1] > -999.))[0]\n",
    "        if name != 'Background':\n",
    "            X = get_element(group, element_0)\n",
    "            Y = get_element(group, element_1)\n",
    "            X = X[valid]\n",
    "            Y = Y[valid]\n",
    "            ax.plot(X, Y, '.', c=cm(colors[i]), label=name)\n",
    "            i += 1\n",
    "\n",
    "    xlabel = get_label(element_0)\n",
    "    ylabel =get_label(element_1)\n",
    "    ax.set_xlabel(xlabel)\n",
    "    ax.set_ylabel(ylabel)\n",
    "    ax.legend(loc=0, fontsize='x-small', ncol=5)\n",
    "    plt.show()"
   ]
  },
  {
   "cell_type": "code",
   "execution_count": 13,
   "metadata": {},
   "outputs": [
    {
     "name": "stdout",
     "output_type": "stream",
     "text": [
      "Select one or more clusters and specify two elements\n"
     ]
    },
    {
     "data": {
      "application/vnd.jupyter.widget-view+json": {
       "model_id": "4709134d98724e3bad59df99f8289f18"
      }
     },
     "metadata": {},
     "output_type": "display_data"
    },
    {
     "data": {
      "text/plain": [
       "<function __main__.two_element_scatter>"
      ]
     },
     "execution_count": 13,
     "metadata": {},
     "output_type": "execute_result"
    }
   ],
   "source": [
    "interact(two_element_scatter, element_0 = element_names, element_1 = element_names, \n",
    "         view_cluster = widgets.SelectMultiple(options=cluster_names, value=['M107'], description='cluster name'))"
   ]
  },
  {
   "cell_type": "code",
   "execution_count": null,
   "metadata": {
    "collapsed": true
   },
   "outputs": [],
   "source": []
  }
 ],
 "metadata": {
  "kernelspec": {
   "display_name": "Python 2",
   "language": "python",
   "name": "python2"
  },
  "language_info": {
   "codemirror_mode": {
    "name": "ipython",
    "version": 2
   },
   "file_extension": ".py",
   "mimetype": "text/x-python",
   "name": "python",
   "nbconvert_exporter": "python",
   "pygments_lexer": "ipython2",
   "version": "2.7.13"
  },
  "widgets": {
   "application/vnd.jupyter.widget-state+json": {
    "state": {
     "011de06f477a41cea2245e6f4d241b64": {
      "model_module": "jupyter-js-widgets",
      "model_module_version": "~2.1.4",
      "model_name": "LayoutModel",
      "state": {
       "_model_module_version": "~2.1.4",
       "_view_module_version": "~2.1.4"
      }
     },
     "01704aba94264c33b0899b4347780fbf": {
      "model_module": "jupyter-js-widgets",
      "model_module_version": "~2.1.4",
      "model_name": "LayoutModel",
      "state": {
       "_model_module_version": "~2.1.4",
       "_view_module_version": "~2.1.4"
      }
     },
     "0263bcb584794233a4a099d524dfd2ec": {
      "model_module": "jupyter-js-widgets",
      "model_module_version": "~2.1.4",
      "model_name": "OutputModel",
      "state": {
       "_dom_classes": [],
       "_model_module": "jupyter-js-widgets",
       "_model_module_version": "~2.1.4",
       "_view_module": "jupyter-js-widgets",
       "_view_module_version": "~2.1.4",
       "layout": "IPY_MODEL_88f89c0832e04e378d20f946e03bb91b",
       "msg_throttle": 1
      }
     },
     "02ead0bd404c4e11b7f2c7a749287fef": {
      "model_module": "jupyter-js-widgets",
      "model_module_version": "~2.1.4",
      "model_name": "DropdownModel",
      "state": {
       "_model_module_version": "~2.1.4",
       "_options_labels": [
        "FE_H",
        "C_H",
        "CI_H",
        "N_H",
        "O_H",
        "NA_H",
        "MG_H",
        "AL_H",
        "SI_H",
        "P_H",
        "S_H",
        "K_H",
        "CA_H",
        "TI_H",
        "TIII_H",
        "V_H",
        "CR_H",
        "MN_H",
        "CO_H",
        "NI_H"
       ],
       "_view_module_version": "~2.1.4",
       "description": "element_0",
       "layout": "IPY_MODEL_285bd440c7a24b2f9f309afa2485cc1c",
       "value": "FE_H"
      }
     },
     "044662663ce6473295ea8c53d4f6c935": {
      "model_module": "jupyter-js-widgets",
      "model_module_version": "~2.1.4",
      "model_name": "VBoxModel",
      "state": {
       "_dom_classes": [
        "widget-interact"
       ],
       "_model_module_version": "~2.1.4",
       "_view_module_version": "~2.1.4",
       "children": [
        "IPY_MODEL_efd9b9c62f2a44af84d91f0f72c18745",
        "IPY_MODEL_16b70323bf2a4ec388d9c6135dacb1e3",
        "IPY_MODEL_6ac1e372f9d14decaa1c4ffe702902d7",
        "IPY_MODEL_4e4b057f8bea4b8ca70447c5bf284c3e"
       ],
       "layout": "IPY_MODEL_8c45d9e9fcea4bc4a0d7195a9e1ff0d6"
      }
     },
     "0449fd402dd44a8a9eb6250e05da689d": {
      "model_module": "jupyter-js-widgets",
      "model_module_version": "~2.1.4",
      "model_name": "DropdownModel",
      "state": {
       "_model_module_version": "~2.1.4",
       "_options_labels": [
        "FE_H",
        "C_H",
        "CI_H",
        "N_H",
        "O_H",
        "NA_H",
        "MG_H",
        "AL_H",
        "SI_H",
        "P_H",
        "S_H",
        "K_H",
        "CA_H",
        "TI_H",
        "TIII_H",
        "V_H",
        "CR_H",
        "MN_H",
        "CO_H",
        "NI_H"
       ],
       "_view_module_version": "~2.1.4",
       "description": "element_1",
       "layout": "IPY_MODEL_d72318b58cb24559b200458beda99517",
       "value": "FE_H"
      }
     },
     "0628daf060d24fba8868b5b11f6bf9d7": {
      "model_module": "jupyter-js-widgets",
      "model_module_version": "~2.1.4",
      "model_name": "OutputModel",
      "state": {
       "_dom_classes": [],
       "_model_module": "jupyter-js-widgets",
       "_model_module_version": "~2.1.4",
       "_view_module": "jupyter-js-widgets",
       "_view_module_version": "~2.1.4",
       "layout": "IPY_MODEL_babf488ff0d641398be69d35508240c5",
       "msg_throttle": 1
      }
     },
     "064e165fdcfb4fef99bfefe5d958210a": {
      "model_module": "jupyter-js-widgets",
      "model_module_version": "~2.1.4",
      "model_name": "VBoxModel",
      "state": {
       "_dom_classes": [
        "widget-interact"
       ],
       "_model_module_version": "~2.1.4",
       "_view_module_version": "~2.1.4",
       "children": [
        "IPY_MODEL_34a07bda49194ebaac06f86d71dd32b1",
        "IPY_MODEL_935361188bed46e390ac4cf2cd5fe7e7",
        "IPY_MODEL_eedf7f216af3410e861a5ffd87d3facb"
       ],
       "layout": "IPY_MODEL_e9dbaa47d78346efbf81027ffa5f3906"
      }
     },
     "06b8d5053cfc4b668dfa8b1e0ba63a80": {
      "model_module": "jupyter-js-widgets",
      "model_module_version": "~2.1.4",
      "model_name": "VBoxModel",
      "state": {
       "_dom_classes": [
        "widget-interact"
       ],
       "_model_module_version": "~2.1.4",
       "_view_module_version": "~2.1.4",
       "children": [
        "IPY_MODEL_a27cc12779894803aa4c84eccdf10d42",
        "IPY_MODEL_96417e22018343318cf9aaac5e754bf7",
        "IPY_MODEL_74d5216cbcc847719693ebaef9ccb648",
        "IPY_MODEL_0628daf060d24fba8868b5b11f6bf9d7"
       ],
       "layout": "IPY_MODEL_6b7588b8fb4f45ff92d8173ff4b20796"
      }
     },
     "097b2142304449de81f56a6def1eac0f": {
      "model_module": "jupyter-js-widgets",
      "model_module_version": "~2.1.4",
      "model_name": "OutputModel",
      "state": {
       "_dom_classes": [],
       "_model_module": "jupyter-js-widgets",
       "_model_module_version": "~2.1.4",
       "_view_module": "jupyter-js-widgets",
       "_view_module_version": "~2.1.4",
       "layout": "IPY_MODEL_3ac7fd90a0354ef4b414bf58b6853916",
       "msg_throttle": 1
      }
     },
     "0999d42939894814be3174583e6823dd": {
      "model_module": "jupyter-js-widgets",
      "model_module_version": "~2.1.4",
      "model_name": "LayoutModel",
      "state": {
       "_model_module_version": "~2.1.4",
       "_view_module_version": "~2.1.4"
      }
     },
     "0a33a33f5a4945a29a98f130f7331023": {
      "model_module": "jupyter-js-widgets",
      "model_module_version": "~2.1.4",
      "model_name": "DropdownModel",
      "state": {
       "_model_module_version": "~2.1.4",
       "_options_labels": [
        "FE_H",
        "C_H",
        "CI_H",
        "N_H",
        "O_H",
        "NA_H",
        "MG_H",
        "AL_H",
        "SI_H",
        "P_H",
        "S_H",
        "K_H",
        "CA_H",
        "TI_H",
        "TIII_H",
        "V_H",
        "CR_H",
        "MN_H",
        "CO_H",
        "NI_H"
       ],
       "_view_module_version": "~2.1.4",
       "description": "element_1",
       "layout": "IPY_MODEL_6accdf2f95c14579bf7699fab0b7c76f",
       "value": "FE_H"
      }
     },
     "0c18e54412a641e78d1c77ddaeb24aaf": {
      "model_module": "jupyter-js-widgets",
      "model_module_version": "~2.1.4",
      "model_name": "OutputModel",
      "state": {
       "_dom_classes": [],
       "_model_module": "jupyter-js-widgets",
       "_model_module_version": "~2.1.4",
       "_view_module": "jupyter-js-widgets",
       "_view_module_version": "~2.1.4",
       "layout": "IPY_MODEL_4c02cbf202a548499761106135848eea",
       "msg_throttle": 1
      }
     },
     "0df39a68bc1e4a65ab4aed1b91313abe": {
      "model_module": "jupyter-js-widgets",
      "model_module_version": "~2.1.4",
      "model_name": "VBoxModel",
      "state": {
       "_dom_classes": [
        "widget-interact"
       ],
       "_model_module_version": "~2.1.4",
       "_view_module_version": "~2.1.4",
       "children": [
        "IPY_MODEL_850df32143f545b3bdd27440650c00a6",
        "IPY_MODEL_5ad6118489524a8188d782c5ef889ad5",
        "IPY_MODEL_bfede11efe33479cbee6e21f7dc57ff5",
        "IPY_MODEL_ac562bc0ff5d45f9bd0bd9dbddaa8a09"
       ],
       "layout": "IPY_MODEL_98156dee32d542cc8d0060a82a050833"
      }
     },
     "0f5112992a5f44bcb5be61b8a002952f": {
      "model_module": "jupyter-js-widgets",
      "model_module_version": "~2.1.4",
      "model_name": "OutputModel",
      "state": {
       "_dom_classes": [],
       "_model_module": "jupyter-js-widgets",
       "_model_module_version": "~2.1.4",
       "_view_module": "jupyter-js-widgets",
       "_view_module_version": "~2.1.4",
       "layout": "IPY_MODEL_fc0330bfc4c04fd49ee0c6b1d96efff3",
       "msg_throttle": 1
      }
     },
     "103d3cd70050442690f31e8cb12626c4": {
      "model_module": "jupyter-js-widgets",
      "model_module_version": "~2.1.4",
      "model_name": "LayoutModel",
      "state": {
       "_model_module_version": "~2.1.4",
       "_view_module_version": "~2.1.4"
      }
     },
     "11e70b784ae44c1f8b3097f7d4ec1e16": {
      "model_module": "jupyter-js-widgets",
      "model_module_version": "~2.1.4",
      "model_name": "LayoutModel",
      "state": {
       "_model_module_version": "~2.1.4",
       "_view_module_version": "~2.1.4"
      }
     },
     "12d49d6255a64ef99f06c9811a8d2e78": {
      "model_module": "jupyter-js-widgets",
      "model_module_version": "~2.1.4",
      "model_name": "LayoutModel",
      "state": {
       "_model_module_version": "~2.1.4",
       "_view_module_version": "~2.1.4"
      }
     },
     "130aac425ce14c869f9a1d1b31e899aa": {
      "model_module": "jupyter-js-widgets",
      "model_module_version": "~2.1.4",
      "model_name": "DropdownModel",
      "state": {
       "_model_module_version": "~2.1.4",
       "_options_labels": [
        "M107",
        "M13",
        "M15",
        "M2",
        "M3",
        "M35",
        "M5",
        "M53",
        "M67",
        "M71",
        "M92",
        "N188",
        "N2158",
        "N2420",
        "N4147",
        "N5466",
        "N6791",
        "N6819",
        "N7789",
        "Pleiades"
       ],
       "_view_module_version": "~2.1.4",
       "description": "view_cluster",
       "layout": "IPY_MODEL_1ef56500da124c58b2907fca261e02dd",
       "value": "M92"
      }
     },
     "13dc921d761e4cbb8b0b20f94340401f": {
      "model_module": "jupyter-js-widgets",
      "model_module_version": "~2.1.4",
      "model_name": "LayoutModel",
      "state": {
       "_model_module_version": "~2.1.4",
       "_view_module_version": "~2.1.4"
      }
     },
     "143ef70e34ae45f5b29acf230afd7c80": {
      "model_module": "jupyter-js-widgets",
      "model_module_version": "~2.1.4",
      "model_name": "SelectMultipleModel",
      "state": {
       "_model_module_version": "~2.1.4",
       "_options_labels": [
        "M107",
        "M13",
        "M15",
        "M2",
        "M3",
        "M35",
        "M5",
        "M53",
        "M67",
        "M71",
        "M92",
        "N188",
        "N2158",
        "N2420",
        "N4147",
        "N5466",
        "N6791",
        "N6819",
        "N7789",
        "Pleiades"
       ],
       "_view_module_version": "~2.1.4",
       "description": "cluster name",
       "layout": "IPY_MODEL_e63f287172504c85a83d25fa8722763c",
       "value": [
        "M107"
       ]
      }
     },
     "1472dd9c10ca48b8b1e90784d8f6d337": {
      "model_module": "jupyter-js-widgets",
      "model_module_version": "~2.1.4",
      "model_name": "VBoxModel",
      "state": {
       "_dom_classes": [
        "widget-interact"
       ],
       "_model_module_version": "~2.1.4",
       "_view_module_version": "~2.1.4",
       "children": [
        "IPY_MODEL_2035ed0f41b14aac8587434b3b53a1f7",
        "IPY_MODEL_f919ba8e3e254407abb6973753aa1784",
        "IPY_MODEL_eb0d12051688455a99353a90f38c81fb"
       ],
       "layout": "IPY_MODEL_3b31fbb364df48bfa5e2f3ebdc66617e"
      }
     },
     "14ad5c4927414835aff3b2029475c18b": {
      "model_module": "jupyter-js-widgets",
      "model_module_version": "~2.1.4",
      "model_name": "SelectMultipleModel",
      "state": {
       "_model_module_version": "~2.1.4",
       "_options_labels": [
        "M107",
        "M13",
        "M15",
        "M2",
        "M3",
        "M35",
        "M5",
        "M53",
        "M67",
        "M71",
        "M92",
        "N188",
        "N2158",
        "N2420",
        "N4147",
        "N5466",
        "N6791",
        "N6819",
        "N7789",
        "Pleiades"
       ],
       "_view_module_version": "~2.1.4",
       "description": "cluster name",
       "layout": "IPY_MODEL_d53cd83a7a7041aca452815a0d14cb9c",
       "value": [
        "M13",
        "M15",
        "M2"
       ]
      }
     },
     "14c07487fdfb4da78e9ed1458400e3fe": {
      "model_module": "jupyter-js-widgets",
      "model_module_version": "~2.1.4",
      "model_name": "LayoutModel",
      "state": {
       "_model_module_version": "~2.1.4",
       "_view_module_version": "~2.1.4"
      }
     },
     "1548f1a4c2644e198191c3be46e4d72d": {
      "model_module": "jupyter-js-widgets",
      "model_module_version": "~2.1.4",
      "model_name": "DropdownModel",
      "state": {
       "_model_module_version": "~2.1.4",
       "_options_labels": [
        "FE_H",
        "C_H",
        "CI_H",
        "N_H",
        "O_H",
        "NA_H",
        "MG_H",
        "AL_H",
        "SI_H",
        "P_H",
        "S_H",
        "K_H",
        "CA_H",
        "TI_H",
        "TIII_H",
        "V_H",
        "CR_H",
        "MN_H",
        "CO_H",
        "NI_H"
       ],
       "_view_module_version": "~2.1.4",
       "description": "element_1",
       "layout": "IPY_MODEL_ce4091c7fca74e9e9b5ed17aa89effaa",
       "value": "MN_H"
      }
     },
     "16b70323bf2a4ec388d9c6135dacb1e3": {
      "model_module": "jupyter-js-widgets",
      "model_module_version": "~2.1.4",
      "model_name": "DropdownModel",
      "state": {
       "_model_module_version": "~2.1.4",
       "_options_labels": [
        "FE_H",
        "C_H",
        "CI_H",
        "N_H",
        "O_H",
        "NA_H",
        "MG_H",
        "AL_H",
        "SI_H",
        "P_H",
        "S_H",
        "K_H",
        "CA_H",
        "TI_H",
        "TIII_H",
        "V_H",
        "CR_H",
        "MN_H",
        "CO_H",
        "NI_H"
       ],
       "_view_module_version": "~2.1.4",
       "description": "element_1",
       "layout": "IPY_MODEL_be5e50b1a71f4b809970b986ffd40296",
       "value": "O_H"
      }
     },
     "1749fcc2135444cb8a17ae7bec7e40de": {
      "model_module": "jupyter-js-widgets",
      "model_module_version": "~2.1.4",
      "model_name": "OutputModel",
      "state": {
       "_dom_classes": [],
       "_model_module": "jupyter-js-widgets",
       "_model_module_version": "~2.1.4",
       "_view_module": "jupyter-js-widgets",
       "_view_module_version": "~2.1.4",
       "layout": "IPY_MODEL_a0ce051953f04fcfb3eef419ec1d5431",
       "msg_throttle": 1
      }
     },
     "180b0ab84da7454babfc4456b59ef59c": {
      "model_module": "jupyter-js-widgets",
      "model_module_version": "~2.1.4",
      "model_name": "DropdownModel",
      "state": {
       "_model_module_version": "~2.1.4",
       "_options_labels": [
        "Background",
        "M107",
        "M13",
        "M15",
        "M2",
        "M3",
        "M35",
        "M5",
        "M53",
        "M67",
        "M71",
        "M92",
        "N188",
        "N2158",
        "N2420",
        "N4147",
        "N5466",
        "N6791",
        "N6819",
        "N7789",
        "Pleiades"
       ],
       "_view_module_version": "~2.1.4",
       "description": "view_cluster",
       "layout": "IPY_MODEL_27427e58c7584faa9e6a1d80abdb61b8",
       "value": "M67"
      }
     },
     "18c91ece3ef242e293aab3009bd8c1cc": {
      "model_module": "jupyter-js-widgets",
      "model_module_version": "~2.1.4",
      "model_name": "VBoxModel",
      "state": {
       "_dom_classes": [
        "widget-interact"
       ],
       "_model_module_version": "~2.1.4",
       "_view_module_version": "~2.1.4",
       "children": [
        "IPY_MODEL_97fc57ee07594014a8a12598fa309317",
        "IPY_MODEL_a70d42c586714e33ada8aa2b243a2226",
        "IPY_MODEL_4ef0d5f98f544d9dabe5fc081ee1a4f2",
        "IPY_MODEL_c79d347621594ba4b1d00e6dcfd1b5d8"
       ],
       "layout": "IPY_MODEL_d30f1ab3ffd043df97ec68d4b662d8ee"
      }
     },
     "18ea3094c5954d9c88384a26d3729aa8": {
      "model_module": "jupyter-js-widgets",
      "model_module_version": "~2.1.4",
      "model_name": "OutputModel",
      "state": {
       "_dom_classes": [],
       "_model_module": "jupyter-js-widgets",
       "_model_module_version": "~2.1.4",
       "_view_module": "jupyter-js-widgets",
       "_view_module_version": "~2.1.4",
       "layout": "IPY_MODEL_12d49d6255a64ef99f06c9811a8d2e78",
       "msg_throttle": 1
      }
     },
     "1c210941776b4f26ab62252f64d93229": {
      "model_module": "jupyter-js-widgets",
      "model_module_version": "~2.1.4",
      "model_name": "OutputModel",
      "state": {
       "_dom_classes": [],
       "_model_module": "jupyter-js-widgets",
       "_model_module_version": "~2.1.4",
       "_view_module": "jupyter-js-widgets",
       "_view_module_version": "~2.1.4",
       "layout": "IPY_MODEL_dcb387747efb45d2b9386824762b637f",
       "msg_throttle": 1
      }
     },
     "1c2cc9d838e444b6bad020d78ad31b25": {
      "model_module": "jupyter-js-widgets",
      "model_module_version": "~2.1.4",
      "model_name": "LayoutModel",
      "state": {
       "_model_module_version": "~2.1.4",
       "_view_module_version": "~2.1.4"
      }
     },
     "1c9865a7faf246e7a55f77744a57355b": {
      "model_module": "jupyter-js-widgets",
      "model_module_version": "~2.1.4",
      "model_name": "LayoutModel",
      "state": {
       "_model_module_version": "~2.1.4",
       "_view_module_version": "~2.1.4"
      }
     },
     "1ef56500da124c58b2907fca261e02dd": {
      "model_module": "jupyter-js-widgets",
      "model_module_version": "~2.1.4",
      "model_name": "LayoutModel",
      "state": {
       "_model_module_version": "~2.1.4",
       "_view_module_version": "~2.1.4"
      }
     },
     "1f8759cab6f1486cab2896bb698ba7aa": {
      "model_module": "jupyter-js-widgets",
      "model_module_version": "~2.1.4",
      "model_name": "DropdownModel",
      "state": {
       "_model_module_version": "~2.1.4",
       "_options_labels": [
        "M107",
        "M13",
        "M15",
        "M2",
        "M3",
        "M35",
        "M5",
        "M53",
        "M67",
        "M71",
        "M92",
        "N188",
        "N2158",
        "N2420",
        "N4147",
        "N5466",
        "N6791",
        "N6819",
        "N7789",
        "Pleiades"
       ],
       "_view_module_version": "~2.1.4",
       "description": "view_cluster",
       "layout": "IPY_MODEL_b3fb8e26bde7499aa3bb5c4cfe887ed0",
       "value": "M107"
      }
     },
     "1fb2a35a38a04537ba9081c7c6b7e433": {
      "model_module": "jupyter-js-widgets",
      "model_module_version": "~2.1.4",
      "model_name": "LayoutModel",
      "state": {
       "_model_module_version": "~2.1.4",
       "_view_module_version": "~2.1.4"
      }
     },
     "2035ed0f41b14aac8587434b3b53a1f7": {
      "model_module": "jupyter-js-widgets",
      "model_module_version": "~2.1.4",
      "model_name": "DropdownModel",
      "state": {
       "_model_module_version": "~2.1.4",
       "_options_labels": [
        "M107",
        "M13",
        "M15",
        "M2",
        "M3",
        "M35",
        "M5",
        "M53",
        "M67",
        "M71",
        "M92",
        "N188",
        "N2158",
        "N2420",
        "N4147",
        "N5466",
        "N6791",
        "N6819",
        "N7789",
        "Pleiades"
       ],
       "_view_module_version": "~2.1.4",
       "description": "view_cluster",
       "layout": "IPY_MODEL_6963bb430b4246a5b688b8f916208784",
       "value": "M107"
      }
     },
     "21c53017f9b8404ba7ef35edf95c1e15": {
      "model_module": "jupyter-js-widgets",
      "model_module_version": "~2.1.4",
      "model_name": "DropdownModel",
      "state": {
       "_model_module_version": "~2.1.4",
       "_options_labels": [
        "M107",
        "M13",
        "M15",
        "M2",
        "M3",
        "M35",
        "M5",
        "M53",
        "M67",
        "M71",
        "M92",
        "N188",
        "N2158",
        "N2420",
        "N4147",
        "N5466",
        "N6791",
        "N6819",
        "N7789",
        "Pleiades"
       ],
       "_view_module_version": "~2.1.4",
       "description": "view_cluster",
       "layout": "IPY_MODEL_e8f2f3df5d0340d8a6fa83ec686f3b74",
       "value": "M107"
      }
     },
     "2224b469ab0a4c8095ffa31b68204f76": {
      "model_module": "jupyter-js-widgets",
      "model_module_version": "~2.1.4",
      "model_name": "LayoutModel",
      "state": {
       "_model_module_version": "~2.1.4",
       "_view_module_version": "~2.1.4"
      }
     },
     "2603718ca0884d8aa724ce99c0ec5a3c": {
      "model_module": "jupyter-js-widgets",
      "model_module_version": "~2.1.4",
      "model_name": "VBoxModel",
      "state": {
       "_dom_classes": [
        "widget-interact"
       ],
       "_model_module_version": "~2.1.4",
       "_view_module_version": "~2.1.4",
       "children": [
        "IPY_MODEL_7910141dc16a47d381cbe1f562c7299f",
        "IPY_MODEL_563ba2e43783424fab38c75fcef5dfda",
        "IPY_MODEL_143ef70e34ae45f5b29acf230afd7c80",
        "IPY_MODEL_49b596aac59843ba9a9148ac96b702d8"
       ],
       "layout": "IPY_MODEL_c6871997b7d745b6aaab1f6890ad34f6"
      }
     },
     "27427e58c7584faa9e6a1d80abdb61b8": {
      "model_module": "jupyter-js-widgets",
      "model_module_version": "~2.1.4",
      "model_name": "LayoutModel",
      "state": {
       "_model_module_version": "~2.1.4",
       "_view_module_version": "~2.1.4"
      }
     },
     "2826cfc79ca945b7af1dcffd64b275b3": {
      "model_module": "jupyter-js-widgets",
      "model_module_version": "~2.1.4",
      "model_name": "OutputModel",
      "state": {
       "_dom_classes": [],
       "_model_module": "jupyter-js-widgets",
       "_model_module_version": "~2.1.4",
       "_view_module": "jupyter-js-widgets",
       "_view_module_version": "~2.1.4",
       "layout": "IPY_MODEL_dca714be5bb14098a1861f7d6e963b55",
       "msg_throttle": 1
      }
     },
     "285bd440c7a24b2f9f309afa2485cc1c": {
      "model_module": "jupyter-js-widgets",
      "model_module_version": "~2.1.4",
      "model_name": "LayoutModel",
      "state": {
       "_model_module_version": "~2.1.4",
       "_view_module_version": "~2.1.4"
      }
     },
     "28c5a59096ff44ea9fe2c1fe87506b9f": {
      "model_module": "jupyter-js-widgets",
      "model_module_version": "~2.1.4",
      "model_name": "VBoxModel",
      "state": {
       "_dom_classes": [
        "widget-interact"
       ],
       "_model_module_version": "~2.1.4",
       "_view_module_version": "~2.1.4",
       "layout": "IPY_MODEL_57ef63ef00bd4c1eb0225e87df7a6591"
      }
     },
     "2b52746c467c4a36a4282e837a488db9": {
      "model_module": "jupyter-js-widgets",
      "model_module_version": "~2.1.4",
      "model_name": "LayoutModel",
      "state": {
       "_model_module_version": "~2.1.4",
       "_view_module_version": "~2.1.4"
      }
     },
     "2b613c8599d742e1b2cff3ff58d63cec": {
      "model_module": "jupyter-js-widgets",
      "model_module_version": "~2.1.4",
      "model_name": "OutputModel",
      "state": {
       "_dom_classes": [],
       "_model_module": "jupyter-js-widgets",
       "_model_module_version": "~2.1.4",
       "_view_module": "jupyter-js-widgets",
       "_view_module_version": "~2.1.4",
       "layout": "IPY_MODEL_b5359b0295ac49cea2e957810a5bd362",
       "msg_throttle": 1
      }
     },
     "2d750f0dcfff45f5816c858f557467c2": {
      "model_module": "jupyter-js-widgets",
      "model_module_version": "~2.1.4",
      "model_name": "LayoutModel",
      "state": {
       "_model_module_version": "~2.1.4",
       "_view_module_version": "~2.1.4"
      }
     },
     "2ed5de5c95ff4a37baad32b5e53129e8": {
      "model_module": "jupyter-js-widgets",
      "model_module_version": "~2.1.4",
      "model_name": "VBoxModel",
      "state": {
       "_dom_classes": [
        "widget-interact"
       ],
       "_model_module_version": "~2.1.4",
       "_view_module_version": "~2.1.4",
       "children": [
        "IPY_MODEL_996c2d4b75ee4641a411a8306a1433a8",
        "IPY_MODEL_fa840a4d429047e8a8e8f6ec4eb612fb",
        "IPY_MODEL_097b2142304449de81f56a6def1eac0f"
       ],
       "layout": "IPY_MODEL_a39a96ad7c29473782619889914007fa"
      }
     },
     "34a07bda49194ebaac06f86d71dd32b1": {
      "model_module": "jupyter-js-widgets",
      "model_module_version": "~2.1.4",
      "model_name": "DropdownModel",
      "state": {
       "_model_module_version": "~2.1.4",
       "_options_labels": [
        "M107",
        "M13",
        "M15",
        "M2",
        "M3",
        "M35",
        "M5",
        "M53",
        "M67",
        "M71",
        "M92",
        "N188",
        "N2158",
        "N2420",
        "N4147",
        "N5466",
        "N6791",
        "N6819",
        "N7789",
        "Pleiades"
       ],
       "_view_module_version": "~2.1.4",
       "description": "view_cluster",
       "layout": "IPY_MODEL_52aa0307d01742f8975bf0cff292dbab",
       "value": "M107"
      }
     },
     "36a0c7799a014f43b0a56c8491bf9349": {
      "model_module": "jupyter-js-widgets",
      "model_module_version": "~2.1.4",
      "model_name": "LayoutModel",
      "state": {
       "_model_module_version": "~2.1.4",
       "_view_module_version": "~2.1.4"
      }
     },
     "39cf093be5a94937adf40535d246c33e": {
      "model_module": "jupyter-js-widgets",
      "model_module_version": "~2.1.4",
      "model_name": "LayoutModel",
      "state": {
       "_model_module_version": "~2.1.4",
       "_view_module_version": "~2.1.4"
      }
     },
     "3ac7fd90a0354ef4b414bf58b6853916": {
      "model_module": "jupyter-js-widgets",
      "model_module_version": "~2.1.4",
      "model_name": "LayoutModel",
      "state": {
       "_model_module_version": "~2.1.4",
       "_view_module_version": "~2.1.4"
      }
     },
     "3b31fbb364df48bfa5e2f3ebdc66617e": {
      "model_module": "jupyter-js-widgets",
      "model_module_version": "~2.1.4",
      "model_name": "LayoutModel",
      "state": {
       "_model_module_version": "~2.1.4",
       "_view_module_version": "~2.1.4"
      }
     },
     "3e88e5a60a134d409603b53578cc2890": {
      "model_module": "jupyter-js-widgets",
      "model_module_version": "~2.1.4",
      "model_name": "LayoutModel",
      "state": {
       "_model_module_version": "~2.1.4",
       "_view_module_version": "~2.1.4"
      }
     },
     "441807f4887b49d48a4f49ea2e9a32bc": {
      "model_module": "jupyter-js-widgets",
      "model_module_version": "~2.1.4",
      "model_name": "LayoutModel",
      "state": {
       "_model_module_version": "~2.1.4",
       "_view_module_version": "~2.1.4"
      }
     },
     "4636696bf74841c48b7528fc1b486db2": {
      "model_module": "jupyter-js-widgets",
      "model_module_version": "~2.1.4",
      "model_name": "LayoutModel",
      "state": {
       "_model_module_version": "~2.1.4",
       "_view_module_version": "~2.1.4"
      }
     },
     "4709134d98724e3bad59df99f8289f18": {
      "model_module": "jupyter-js-widgets",
      "model_module_version": "~2.1.4",
      "model_name": "VBoxModel",
      "state": {
       "_dom_classes": [
        "widget-interact"
       ],
       "_model_module_version": "~2.1.4",
       "_view_module_version": "~2.1.4",
       "children": [
        "IPY_MODEL_e48500c499e5427d9aa7422833ad8b5c",
        "IPY_MODEL_96c0979720a64f28be168f6cab935da4",
        "IPY_MODEL_c51b0de9c36c4166b392768c1693d6f7",
        "IPY_MODEL_2826cfc79ca945b7af1dcffd64b275b3"
       ],
       "layout": "IPY_MODEL_cb28da24b49c49e583e424a453b1857f"
      }
     },
     "4729394affb246219dbf5cd8be6512a8": {
      "model_module": "jupyter-js-widgets",
      "model_module_version": "~2.1.4",
      "model_name": "VBoxModel",
      "state": {
       "_dom_classes": [
        "widget-interact"
       ],
       "_model_module_version": "~2.1.4",
       "_view_module_version": "~2.1.4",
       "children": [
        "IPY_MODEL_da648886049741c99fa171f179e2e2f2",
        "IPY_MODEL_e3349e3bbd33419497001983295f47f8",
        "IPY_MODEL_475328a84ff24abd985fc79ca5687be9"
       ],
       "layout": "IPY_MODEL_e97a98b44c884752bc11ef31c7deabd8"
      }
     },
     "475328a84ff24abd985fc79ca5687be9": {
      "model_module": "jupyter-js-widgets",
      "model_module_version": "~2.1.4",
      "model_name": "OutputModel",
      "state": {
       "_dom_classes": [],
       "_model_module": "jupyter-js-widgets",
       "_model_module_version": "~2.1.4",
       "_view_module": "jupyter-js-widgets",
       "_view_module_version": "~2.1.4",
       "layout": "IPY_MODEL_db29aedd8cdc4d8c940fdc3746c7ab96",
       "msg_throttle": 1
      }
     },
     "47ff71abced9451db0c47375459c1653": {
      "model_module": "jupyter-js-widgets",
      "model_module_version": "~2.1.4",
      "model_name": "SelectMultipleModel",
      "state": {
       "_model_module_version": "~2.1.4",
       "_options_labels": [
        "M107",
        "M13",
        "M15",
        "M2",
        "M3",
        "M35",
        "M5",
        "M53",
        "M67",
        "M71",
        "M92",
        "N188",
        "N2158",
        "N2420",
        "N4147",
        "N5466",
        "N6791",
        "N6819",
        "N7789",
        "Pleiades"
       ],
       "_view_module_version": "~2.1.4",
       "description": "Cluster Name",
       "layout": "IPY_MODEL_722c6efa41c6468f91075679ded00550",
       "value": [
        "M107"
       ]
      }
     },
     "4831b8b3990d4b5984d1ad740f71180a": {
      "model_module": "jupyter-js-widgets",
      "model_module_version": "~2.1.4",
      "model_name": "LayoutModel",
      "state": {
       "_model_module_version": "~2.1.4",
       "_view_module_version": "~2.1.4"
      }
     },
     "485997b6f04546d6b44f6f14d9168ee1": {
      "model_module": "jupyter-js-widgets",
      "model_module_version": "~2.1.4",
      "model_name": "LayoutModel",
      "state": {
       "_model_module_version": "~2.1.4",
       "_view_module_version": "~2.1.4"
      }
     },
     "4893647c090b40049912097c10bea35f": {
      "model_module": "jupyter-js-widgets",
      "model_module_version": "~2.1.4",
      "model_name": "VBoxModel",
      "state": {
       "_dom_classes": [
        "widget-interact"
       ],
       "_model_module_version": "~2.1.4",
       "_view_module_version": "~2.1.4",
       "children": [
        "IPY_MODEL_9c524ce70990462d80d4affd65d7d03e",
        "IPY_MODEL_d348486a6cc9439bbc5c90d3c3d4fc24",
        "IPY_MODEL_dad3e68da43849ff862d004e7c232eb3"
       ],
       "layout": "IPY_MODEL_11e70b784ae44c1f8b3097f7d4ec1e16"
      }
     },
     "49b596aac59843ba9a9148ac96b702d8": {
      "model_module": "jupyter-js-widgets",
      "model_module_version": "~2.1.4",
      "model_name": "OutputModel",
      "state": {
       "_dom_classes": [],
       "_model_module": "jupyter-js-widgets",
       "_model_module_version": "~2.1.4",
       "_view_module": "jupyter-js-widgets",
       "_view_module_version": "~2.1.4",
       "layout": "IPY_MODEL_dc454131bb484001aef276837d129261",
       "msg_throttle": 1
      }
     },
     "4af06b9f066e4421bcee3efd76fb048f": {
      "model_module": "jupyter-js-widgets",
      "model_module_version": "~2.1.4",
      "model_name": "DropdownModel",
      "state": {
       "_model_module_version": "~2.1.4",
       "_options_labels": [
        "FE_H",
        "C_H",
        "CI_H",
        "N_H",
        "O_H",
        "NA_H",
        "MG_H",
        "AL_H",
        "SI_H",
        "P_H",
        "S_H",
        "K_H",
        "CA_H",
        "TI_H",
        "TIII_H",
        "V_H",
        "CR_H",
        "MN_H",
        "CO_H",
        "NI_H"
       ],
       "_view_module_version": "~2.1.4",
       "description": "view_element",
       "layout": "IPY_MODEL_9528f90cb4e84c4eac4b2e1c13865e56",
       "value": "FE_H"
      }
     },
     "4bae9d57f2d4429f9299e8d1a7c1a4c6": {
      "model_module": "jupyter-js-widgets",
      "model_module_version": "~2.1.4",
      "model_name": "DropdownModel",
      "state": {
       "_model_module_version": "~2.1.4",
       "_options_labels": [
        "FE_H",
        "C_H",
        "CI_H",
        "N_H",
        "O_H",
        "NA_H",
        "MG_H",
        "AL_H",
        "SI_H",
        "P_H",
        "S_H",
        "K_H",
        "CA_H",
        "TI_H",
        "TIII_H",
        "V_H",
        "CR_H",
        "MN_H",
        "CO_H",
        "NI_H"
       ],
       "_view_module_version": "~2.1.4",
       "description": "element_1",
       "layout": "IPY_MODEL_13dc921d761e4cbb8b0b20f94340401f",
       "value": "FE_H"
      }
     },
     "4c02cbf202a548499761106135848eea": {
      "model_module": "jupyter-js-widgets",
      "model_module_version": "~2.1.4",
      "model_name": "LayoutModel",
      "state": {
       "_model_module_version": "~2.1.4",
       "_view_module_version": "~2.1.4"
      }
     },
     "4d462db5ca294fd285dd8a97b9b2f0c6": {
      "model_module": "jupyter-js-widgets",
      "model_module_version": "~2.1.4",
      "model_name": "DropdownModel",
      "state": {
       "_model_module_version": "~2.1.4",
       "_options_labels": [
        "FE_H",
        "C_H",
        "CI_H",
        "N_H",
        "O_H",
        "NA_H",
        "MG_H",
        "AL_H",
        "SI_H",
        "P_H",
        "S_H",
        "K_H",
        "CA_H",
        "TI_H",
        "TIII_H",
        "V_H",
        "CR_H",
        "MN_H",
        "CO_H",
        "NI_H"
       ],
       "_view_module_version": "~2.1.4",
       "description": "element_0",
       "layout": "IPY_MODEL_b218a80e51694eaca2e7687267cb3c46",
       "value": "FE_H"
      }
     },
     "4def9914419842119d3cbdf144db52ec": {
      "model_module": "jupyter-js-widgets",
      "model_module_version": "~2.1.4",
      "model_name": "LayoutModel",
      "state": {
       "_model_module_version": "~2.1.4",
       "_view_module_version": "~2.1.4"
      }
     },
     "4e4b057f8bea4b8ca70447c5bf284c3e": {
      "model_module": "jupyter-js-widgets",
      "model_module_version": "~2.1.4",
      "model_name": "OutputModel",
      "state": {
       "_dom_classes": [],
       "_model_module": "jupyter-js-widgets",
       "_model_module_version": "~2.1.4",
       "_view_module": "jupyter-js-widgets",
       "_view_module_version": "~2.1.4",
       "layout": "IPY_MODEL_71cc494c231d4c81b8055cb891e21a3f",
       "msg_throttle": 1
      }
     },
     "4ef0d5f98f544d9dabe5fc081ee1a4f2": {
      "model_module": "jupyter-js-widgets",
      "model_module_version": "~2.1.4",
      "model_name": "SelectMultipleModel",
      "state": {
       "_model_module_version": "~2.1.4",
       "_options_labels": [
        "M107",
        "M13",
        "M15",
        "M2",
        "M3",
        "M35",
        "M5",
        "M53",
        "M67",
        "M71",
        "M92",
        "N188",
        "N2158",
        "N2420",
        "N4147",
        "N5466",
        "N6791",
        "N6819",
        "N7789",
        "Pleiades"
       ],
       "_view_module_version": "~2.1.4",
       "description": "cluster name",
       "layout": "IPY_MODEL_c254fb3f1f9c407e8ea16dfe24d6b971",
       "value": [
        "M107"
       ]
      }
     },
     "4f2819a18b9047f79dae06ae3e2960f3": {
      "model_module": "jupyter-js-widgets",
      "model_module_version": "~2.1.4",
      "model_name": "LayoutModel",
      "state": {
       "_model_module_version": "~2.1.4",
       "_view_module_version": "~2.1.4"
      }
     },
     "525ad1b8670c428e91a468e0900be399": {
      "model_module": "jupyter-js-widgets",
      "model_module_version": "~2.1.4",
      "model_name": "OutputModel",
      "state": {
       "_dom_classes": [],
       "_model_module": "jupyter-js-widgets",
       "_model_module_version": "~2.1.4",
       "_view_module": "jupyter-js-widgets",
       "_view_module_version": "~2.1.4",
       "layout": "IPY_MODEL_39cf093be5a94937adf40535d246c33e",
       "msg_throttle": 1
      }
     },
     "52a959786f544554b0be1ec8eaae5400": {
      "model_module": "jupyter-js-widgets",
      "model_module_version": "~2.1.4",
      "model_name": "LayoutModel",
      "state": {
       "_model_module_version": "~2.1.4",
       "_view_module_version": "~2.1.4"
      }
     },
     "52aa0307d01742f8975bf0cff292dbab": {
      "model_module": "jupyter-js-widgets",
      "model_module_version": "~2.1.4",
      "model_name": "LayoutModel",
      "state": {
       "_model_module_version": "~2.1.4",
       "_view_module_version": "~2.1.4"
      }
     },
     "55497d59e2fa419b84790d6d5b036711": {
      "model_module": "jupyter-js-widgets",
      "model_module_version": "~2.1.4",
      "model_name": "LayoutModel",
      "state": {
       "_model_module_version": "~2.1.4",
       "_view_module_version": "~2.1.4"
      }
     },
     "55e3e203d3614ed4896c0fbbbe8eb654": {
      "model_module": "jupyter-js-widgets",
      "model_module_version": "~2.1.4",
      "model_name": "LayoutModel",
      "state": {
       "_model_module_version": "~2.1.4",
       "_view_module_version": "~2.1.4"
      }
     },
     "563ba2e43783424fab38c75fcef5dfda": {
      "model_module": "jupyter-js-widgets",
      "model_module_version": "~2.1.4",
      "model_name": "DropdownModel",
      "state": {
       "_model_module_version": "~2.1.4",
       "_options_labels": [
        "FE_H",
        "C_H",
        "CI_H",
        "N_H",
        "O_H",
        "NA_H",
        "MG_H",
        "AL_H",
        "SI_H",
        "P_H",
        "S_H",
        "K_H",
        "CA_H",
        "TI_H",
        "TIII_H",
        "V_H",
        "CR_H",
        "MN_H",
        "CO_H",
        "NI_H"
       ],
       "_view_module_version": "~2.1.4",
       "description": "element_1",
       "layout": "IPY_MODEL_e7474f8dab304aa28fcde57eb1f59be9",
       "value": "FE_H"
      }
     },
     "5647011d305b4199a8edc0ac2c8d411c": {
      "model_module": "jupyter-js-widgets",
      "model_module_version": "~2.1.4",
      "model_name": "DropdownModel",
      "state": {
       "_model_module_version": "~2.1.4",
       "_options_labels": [
        "FE_H",
        "C_H",
        "CI_H",
        "N_H",
        "O_H",
        "NA_H",
        "MG_H",
        "AL_H",
        "SI_H",
        "P_H",
        "S_H",
        "K_H",
        "CA_H",
        "TI_H",
        "TIII_H",
        "V_H",
        "CR_H",
        "MN_H",
        "CO_H",
        "NI_H"
       ],
       "_view_module_version": "~2.1.4",
       "description": "view_element",
       "layout": "IPY_MODEL_485997b6f04546d6b44f6f14d9168ee1",
       "value": "FE_H"
      }
     },
     "56db15dee5c74d8981b1bdd716f259a5": {
      "model_module": "jupyter-js-widgets",
      "model_module_version": "~2.1.4",
      "model_name": "LayoutModel",
      "state": {
       "_model_module_version": "~2.1.4",
       "_view_module_version": "~2.1.4"
      }
     },
     "57ef63ef00bd4c1eb0225e87df7a6591": {
      "model_module": "jupyter-js-widgets",
      "model_module_version": "~2.1.4",
      "model_name": "LayoutModel",
      "state": {
       "_model_module_version": "~2.1.4",
       "_view_module_version": "~2.1.4"
      }
     },
     "5a2ebbaad78b48c5b850d8a3381d78cf": {
      "model_module": "jupyter-js-widgets",
      "model_module_version": "~2.1.4",
      "model_name": "LayoutModel",
      "state": {
       "_model_module_version": "~2.1.4",
       "_view_module_version": "~2.1.4"
      }
     },
     "5ad6118489524a8188d782c5ef889ad5": {
      "model_module": "jupyter-js-widgets",
      "model_module_version": "~2.1.4",
      "model_name": "DropdownModel",
      "state": {
       "_model_module_version": "~2.1.4",
       "_options_labels": [
        "FE_H",
        "C_H",
        "CI_H",
        "N_H",
        "O_H",
        "NA_H",
        "MG_H",
        "AL_H",
        "SI_H",
        "P_H",
        "S_H",
        "K_H",
        "CA_H",
        "TI_H",
        "TIII_H",
        "V_H",
        "CR_H",
        "MN_H",
        "CO_H",
        "NI_H"
       ],
       "_view_module_version": "~2.1.4",
       "description": "element_1",
       "layout": "IPY_MODEL_7180176c4e734e4094c5c02235ea49c0",
       "value": "FE_H"
      }
     },
     "5b1e716a79af40208356b17298963fa9": {
      "model_module": "jupyter-js-widgets",
      "model_module_version": "~2.1.4",
      "model_name": "LayoutModel",
      "state": {
       "_model_module_version": "~2.1.4",
       "_view_module_version": "~2.1.4"
      }
     },
     "5d943dcf9c7645c383c781275e582bb0": {
      "model_module": "jupyter-js-widgets",
      "model_module_version": "~2.1.4",
      "model_name": "DropdownModel",
      "state": {
       "_model_module_version": "~2.1.4",
       "_options_labels": [
        "FE_H",
        "C_H",
        "CI_H",
        "N_H",
        "O_H",
        "NA_H",
        "MG_H",
        "AL_H",
        "SI_H",
        "P_H",
        "S_H",
        "K_H",
        "CA_H",
        "TI_H",
        "TIII_H",
        "V_H",
        "CR_H",
        "MN_H",
        "CO_H",
        "NI_H"
       ],
       "_view_module_version": "~2.1.4",
       "description": "element_0",
       "layout": "IPY_MODEL_bea9b04d4e16438eafd121bd354a10f8",
       "value": "FE_H"
      }
     },
     "5f0e4caa93d948b5a989a783ce3e8fc5": {
      "model_module": "jupyter-js-widgets",
      "model_module_version": "~2.1.4",
      "model_name": "SelectMultipleModel",
      "state": {
       "_model_module_version": "~2.1.4",
       "_options_labels": [
        "M107",
        "M13",
        "M15",
        "M2",
        "M3",
        "M35",
        "M5",
        "M53",
        "M67",
        "M71",
        "M92",
        "N188",
        "N2158",
        "N2420",
        "N4147",
        "N5466",
        "N6791",
        "N6819",
        "N7789",
        "Pleiades"
       ],
       "_view_module_version": "~2.1.4",
       "description": "view_cluster",
       "layout": "IPY_MODEL_2b52746c467c4a36a4282e837a488db9",
       "value": []
      }
     },
     "5f2d75d73be247c594cff4183df4d9c8": {
      "model_module": "jupyter-js-widgets",
      "model_module_version": "~2.1.4",
      "model_name": "LayoutModel",
      "state": {
       "_model_module_version": "~2.1.4",
       "_view_module_version": "~2.1.4"
      }
     },
     "616ee2d72c6b4f019d55e9866c031348": {
      "model_module": "jupyter-js-widgets",
      "model_module_version": "~2.1.4",
      "model_name": "DropdownModel",
      "state": {
       "_model_module_version": "~2.1.4",
       "_options_labels": [
        "FE_H",
        "C_H",
        "CI_H",
        "N_H",
        "O_H",
        "NA_H",
        "MG_H",
        "AL_H",
        "SI_H",
        "P_H",
        "S_H",
        "K_H",
        "CA_H",
        "TI_H",
        "TIII_H",
        "V_H",
        "CR_H",
        "MN_H",
        "CO_H",
        "NI_H"
       ],
       "_view_module_version": "~2.1.4",
       "description": "element_1",
       "layout": "IPY_MODEL_4831b8b3990d4b5984d1ad740f71180a",
       "value": "MG_H"
      }
     },
     "645dd728ab284e72a1ef5fb2cc8fa2dd": {
      "model_module": "jupyter-js-widgets",
      "model_module_version": "~2.1.4",
      "model_name": "VBoxModel",
      "state": {
       "_dom_classes": [
        "widget-interact"
       ],
       "_model_module_version": "~2.1.4",
       "_view_module_version": "~2.1.4",
       "children": [
        "IPY_MODEL_180b0ab84da7454babfc4456b59ef59c",
        "IPY_MODEL_70dd0b2093df44988d664ffb258759ea",
        "IPY_MODEL_8b9085487f8e44e3b23cc5621c766a35"
       ],
       "layout": "IPY_MODEL_55e3e203d3614ed4896c0fbbbe8eb654"
      }
     },
     "648473597c5c4d44aca5f3a7eb99dce9": {
      "model_module": "jupyter-js-widgets",
      "model_module_version": "~2.1.4",
      "model_name": "OutputModel",
      "state": {
       "_dom_classes": [],
       "_model_module": "jupyter-js-widgets",
       "_model_module_version": "~2.1.4",
       "_view_module": "jupyter-js-widgets",
       "_view_module_version": "~2.1.4",
       "layout": "IPY_MODEL_5f2d75d73be247c594cff4183df4d9c8",
       "msg_throttle": 1
      }
     },
     "648be77778a24843abebb0029ec9055d": {
      "model_module": "jupyter-js-widgets",
      "model_module_version": "~2.1.4",
      "model_name": "OutputModel",
      "state": {
       "_dom_classes": [],
       "_model_module": "jupyter-js-widgets",
       "_model_module_version": "~2.1.4",
       "_view_module": "jupyter-js-widgets",
       "_view_module_version": "~2.1.4",
       "layout": "IPY_MODEL_103d3cd70050442690f31e8cb12626c4",
       "msg_throttle": 1
      }
     },
     "6904b4f464fc41bf9691fcf9dae06fb4": {
      "model_module": "jupyter-js-widgets",
      "model_module_version": "~2.1.4",
      "model_name": "VBoxModel",
      "state": {
       "_dom_classes": [
        "widget-interact"
       ],
       "_model_module_version": "~2.1.4",
       "_view_module_version": "~2.1.4",
       "children": [
        "IPY_MODEL_ce26b9b3acc946e3892cf84353076b8a",
        "IPY_MODEL_c06b9f9b102546ce9419c1668f5c2c7c",
        "IPY_MODEL_dd4a289bc061409e83b51813026c0913",
        "IPY_MODEL_0f5112992a5f44bcb5be61b8a002952f"
       ],
       "layout": "IPY_MODEL_e04b855aa4114a1e8a54f93446d0c10c"
      }
     },
     "6963bb430b4246a5b688b8f916208784": {
      "model_module": "jupyter-js-widgets",
      "model_module_version": "~2.1.4",
      "model_name": "LayoutModel",
      "state": {
       "_model_module_version": "~2.1.4",
       "_view_module_version": "~2.1.4"
      }
     },
     "6a3efe3876b14b4d82f4ccfd7e00c221": {
      "model_module": "jupyter-js-widgets",
      "model_module_version": "~2.1.4",
      "model_name": "LayoutModel",
      "state": {
       "_model_module_version": "~2.1.4",
       "_view_module_version": "~2.1.4"
      }
     },
     "6ac1e372f9d14decaa1c4ffe702902d7": {
      "model_module": "jupyter-js-widgets",
      "model_module_version": "~2.1.4",
      "model_name": "SelectMultipleModel",
      "state": {
       "_model_module_version": "~2.1.4",
       "_options_labels": [
        "M107",
        "M13",
        "M15",
        "M2",
        "M3",
        "M35",
        "M5",
        "M53",
        "M67",
        "M71",
        "M92",
        "N188",
        "N2158",
        "N2420",
        "N4147",
        "N5466",
        "N6791",
        "N6819",
        "N7789",
        "Pleiades"
       ],
       "_view_module_version": "~2.1.4",
       "description": "view_cluster",
       "layout": "IPY_MODEL_ba7a990d8e574cba87a4f523925dc162",
       "value": [
        "M13"
       ]
      }
     },
     "6accdf2f95c14579bf7699fab0b7c76f": {
      "model_module": "jupyter-js-widgets",
      "model_module_version": "~2.1.4",
      "model_name": "LayoutModel",
      "state": {
       "_model_module_version": "~2.1.4",
       "_view_module_version": "~2.1.4"
      }
     },
     "6b7588b8fb4f45ff92d8173ff4b20796": {
      "model_module": "jupyter-js-widgets",
      "model_module_version": "~2.1.4",
      "model_name": "LayoutModel",
      "state": {
       "_model_module_version": "~2.1.4",
       "_view_module_version": "~2.1.4"
      }
     },
     "6cb2ac8688764db8b57c672440f943ef": {
      "model_module": "jupyter-js-widgets",
      "model_module_version": "~2.1.4",
      "model_name": "VBoxModel",
      "state": {
       "_dom_classes": [
        "widget-interact"
       ],
       "_model_module_version": "~2.1.4",
       "_view_module_version": "~2.1.4",
       "children": [
        "IPY_MODEL_4d462db5ca294fd285dd8a97b9b2f0c6",
        "IPY_MODEL_6d8b2675edb940999323298bcf96ff66",
        "IPY_MODEL_f27b87b4b7724384854fd55fbd92421d",
        "IPY_MODEL_a52c1dddbabb4495b8474a6975d500aa"
       ],
       "layout": "IPY_MODEL_011de06f477a41cea2245e6f4d241b64"
      }
     },
     "6d8b2675edb940999323298bcf96ff66": {
      "model_module": "jupyter-js-widgets",
      "model_module_version": "~2.1.4",
      "model_name": "DropdownModel",
      "state": {
       "_model_module_version": "~2.1.4",
       "_options_labels": [
        "FE_H",
        "C_H",
        "CI_H",
        "N_H",
        "O_H",
        "NA_H",
        "MG_H",
        "AL_H",
        "SI_H",
        "P_H",
        "S_H",
        "K_H",
        "CA_H",
        "TI_H",
        "TIII_H",
        "V_H",
        "CR_H",
        "MN_H",
        "CO_H",
        "NI_H"
       ],
       "_view_module_version": "~2.1.4",
       "description": "element_1",
       "layout": "IPY_MODEL_c67b12e7ea274fd89dfea4796ac63a80",
       "value": "FE_H"
      }
     },
     "6e36510e780442ab8471d0e5d2d20cfa": {
      "model_module": "jupyter-js-widgets",
      "model_module_version": "~2.1.4",
      "model_name": "LayoutModel",
      "state": {
       "_model_module_version": "~2.1.4",
       "_view_module_version": "~2.1.4"
      }
     },
     "70dd0b2093df44988d664ffb258759ea": {
      "model_module": "jupyter-js-widgets",
      "model_module_version": "~2.1.4",
      "model_name": "DropdownModel",
      "state": {
       "_model_module_version": "~2.1.4",
       "_options_labels": [
        "FE_H",
        "AL_H"
       ],
       "_view_module_version": "~2.1.4",
       "description": "view_element",
       "layout": "IPY_MODEL_7d6028dcac6148fa93fabd7436bc5326",
       "value": "FE_H"
      }
     },
     "7180176c4e734e4094c5c02235ea49c0": {
      "model_module": "jupyter-js-widgets",
      "model_module_version": "~2.1.4",
      "model_name": "LayoutModel",
      "state": {
       "_model_module_version": "~2.1.4",
       "_view_module_version": "~2.1.4"
      }
     },
     "71cc494c231d4c81b8055cb891e21a3f": {
      "model_module": "jupyter-js-widgets",
      "model_module_version": "~2.1.4",
      "model_name": "LayoutModel",
      "state": {
       "_model_module_version": "~2.1.4",
       "_view_module_version": "~2.1.4"
      }
     },
     "722c6efa41c6468f91075679ded00550": {
      "model_module": "jupyter-js-widgets",
      "model_module_version": "~2.1.4",
      "model_name": "LayoutModel",
      "state": {
       "_model_module_version": "~2.1.4",
       "_view_module_version": "~2.1.4"
      }
     },
     "74a820a36def449c9120e1ddfc9e5a81": {
      "model_module": "jupyter-js-widgets",
      "model_module_version": "~2.1.4",
      "model_name": "VBoxModel",
      "state": {
       "_dom_classes": [
        "widget-interact"
       ],
       "_model_module_version": "~2.1.4",
       "_view_module_version": "~2.1.4",
       "layout": "IPY_MODEL_e1ec4019dff24c7c9a38ebb6eb4a7afe"
      }
     },
     "74d5216cbcc847719693ebaef9ccb648": {
      "model_module": "jupyter-js-widgets",
      "model_module_version": "~2.1.4",
      "model_name": "DropdownModel",
      "state": {
       "_model_module_version": "~2.1.4",
       "_options_labels": [
        "M107",
        "M13",
        "M15",
        "M2",
        "M3",
        "M35",
        "M5",
        "M53",
        "M67",
        "M71",
        "M92",
        "N188",
        "N2158",
        "N2420",
        "N4147",
        "N5466",
        "N6791",
        "N6819",
        "N7789",
        "Pleiades"
       ],
       "_view_module_version": "~2.1.4",
       "description": "view_cluster",
       "layout": "IPY_MODEL_9fffd00b4c3f4417ae6f0a080e41a51d",
       "value": "M107"
      }
     },
     "7910141dc16a47d381cbe1f562c7299f": {
      "model_module": "jupyter-js-widgets",
      "model_module_version": "~2.1.4",
      "model_name": "DropdownModel",
      "state": {
       "_model_module_version": "~2.1.4",
       "_options_labels": [
        "FE_H",
        "C_H",
        "CI_H",
        "N_H",
        "O_H",
        "NA_H",
        "MG_H",
        "AL_H",
        "SI_H",
        "P_H",
        "S_H",
        "K_H",
        "CA_H",
        "TI_H",
        "TIII_H",
        "V_H",
        "CR_H",
        "MN_H",
        "CO_H",
        "NI_H"
       ],
       "_view_module_version": "~2.1.4",
       "description": "element_0",
       "layout": "IPY_MODEL_dcc6cb3d48ef4fafb4c0df23fb11c7a5",
       "value": "FE_H"
      }
     },
     "7a61c008cae44b3795396cc3bf85bd95": {
      "model_module": "jupyter-js-widgets",
      "model_module_version": "~2.1.4",
      "model_name": "LayoutModel",
      "state": {
       "_model_module_version": "~2.1.4",
       "_view_module_version": "~2.1.4"
      }
     },
     "7aadf5dd16544a9dafb48e2c81e501c9": {
      "model_module": "jupyter-js-widgets",
      "model_module_version": "~2.1.4",
      "model_name": "VBoxModel",
      "state": {
       "_dom_classes": [
        "widget-interact"
       ],
       "_model_module_version": "~2.1.4",
       "_view_module_version": "~2.1.4",
       "children": [
        "IPY_MODEL_aca879f8d6e44451bf9dcc4d08f160db",
        "IPY_MODEL_5647011d305b4199a8edc0ac2c8d411c",
        "IPY_MODEL_648be77778a24843abebb0029ec9055d"
       ],
       "layout": "IPY_MODEL_eea8af7042b54da08b97288cf4a87166"
      }
     },
     "7baf57f39c73488caebe78cc1d16dbb0": {
      "model_module": "jupyter-js-widgets",
      "model_module_version": "~2.1.4",
      "model_name": "LayoutModel",
      "state": {
       "_model_module_version": "~2.1.4",
       "_view_module_version": "~2.1.4"
      }
     },
     "7c1d663546b143f8ac31fdab45e91553": {
      "model_module": "jupyter-js-widgets",
      "model_module_version": "~2.1.4",
      "model_name": "LayoutModel",
      "state": {
       "_model_module_version": "~2.1.4",
       "_view_module_version": "~2.1.4"
      }
     },
     "7c55d9e65b384adf908faa2993a5ec0a": {
      "model_module": "jupyter-js-widgets",
      "model_module_version": "~2.1.4",
      "model_name": "LayoutModel",
      "state": {
       "_model_module_version": "~2.1.4",
       "_view_module_version": "~2.1.4"
      }
     },
     "7d6028dcac6148fa93fabd7436bc5326": {
      "model_module": "jupyter-js-widgets",
      "model_module_version": "~2.1.4",
      "model_name": "LayoutModel",
      "state": {
       "_model_module_version": "~2.1.4",
       "_view_module_version": "~2.1.4"
      }
     },
     "7d88c316de6f4435bc167b1922f9f8fb": {
      "model_module": "jupyter-js-widgets",
      "model_module_version": "~2.1.4",
      "model_name": "LayoutModel",
      "state": {
       "_model_module_version": "~2.1.4",
       "_view_module_version": "~2.1.4"
      }
     },
     "7e61731dee074e149535f349c8e1ed20": {
      "model_module": "jupyter-js-widgets",
      "model_module_version": "~2.1.4",
      "model_name": "LayoutModel",
      "state": {
       "_model_module_version": "~2.1.4",
       "_view_module_version": "~2.1.4"
      }
     },
     "7fb45fcc56af4bfea5c43230849cba35": {
      "model_module": "jupyter-js-widgets",
      "model_module_version": "~2.1.4",
      "model_name": "LayoutModel",
      "state": {
       "_model_module_version": "~2.1.4",
       "_view_module_version": "~2.1.4"
      }
     },
     "80909b64f1ae46ffb86b17dbb984fb03": {
      "model_module": "jupyter-js-widgets",
      "model_module_version": "~2.1.4",
      "model_name": "VBoxModel",
      "state": {
       "_dom_classes": [
        "widget-interact"
       ],
       "_model_module_version": "~2.1.4",
       "_view_module_version": "~2.1.4",
       "children": [
        "IPY_MODEL_df67da01de704c8c9bc6db13532a3efc",
        "IPY_MODEL_d97d360829a6402e939320176f238911",
        "IPY_MODEL_525ad1b8670c428e91a468e0900be399"
       ],
       "layout": "IPY_MODEL_ac4a84afec9b4ff08e9581d4ac9229f3"
      }
     },
     "8191b76e83f449a3b7777deb55d58a56": {
      "model_module": "jupyter-js-widgets",
      "model_module_version": "~2.1.4",
      "model_name": "VBoxModel",
      "state": {
       "_dom_classes": [
        "widget-interact"
       ],
       "_model_module_version": "~2.1.4",
       "_view_module_version": "~2.1.4",
       "layout": "IPY_MODEL_7c1d663546b143f8ac31fdab45e91553"
      }
     },
     "83c8384db5814afcaa2144c61390b873": {
      "model_module": "jupyter-js-widgets",
      "model_module_version": "~2.1.4",
      "model_name": "SelectMultipleModel",
      "state": {
       "_model_module_version": "~2.1.4",
       "_options_labels": [
        "M107",
        "M13",
        "M15",
        "M2",
        "M3",
        "M35",
        "M5",
        "M53",
        "M67",
        "M71",
        "M92",
        "N188",
        "N2158",
        "N2420",
        "N4147",
        "N5466",
        "N6791",
        "N6819",
        "N7789",
        "Pleiades"
       ],
       "_view_module_version": "~2.1.4",
       "description": "view_cluster",
       "layout": "IPY_MODEL_a80d68cc40434399b6f0e47d435ac644",
       "value": [
        "M107"
       ]
      }
     },
     "850df32143f545b3bdd27440650c00a6": {
      "model_module": "jupyter-js-widgets",
      "model_module_version": "~2.1.4",
      "model_name": "DropdownModel",
      "state": {
       "_model_module_version": "~2.1.4",
       "_options_labels": [
        "FE_H",
        "C_H",
        "CI_H",
        "N_H",
        "O_H",
        "NA_H",
        "MG_H",
        "AL_H",
        "SI_H",
        "P_H",
        "S_H",
        "K_H",
        "CA_H",
        "TI_H",
        "TIII_H",
        "V_H",
        "CR_H",
        "MN_H",
        "CO_H",
        "NI_H"
       ],
       "_view_module_version": "~2.1.4",
       "description": "element_0",
       "layout": "IPY_MODEL_7a61c008cae44b3795396cc3bf85bd95",
       "value": "FE_H"
      }
     },
     "857d18a862f94cfab5b25f29b91fa8bf": {
      "model_module": "jupyter-js-widgets",
      "model_module_version": "~2.1.4",
      "model_name": "LayoutModel",
      "state": {
       "_model_module_version": "~2.1.4",
       "_view_module_version": "~2.1.4"
      }
     },
     "86c6eaa8db1b4818ae2ea62d5b337b06": {
      "model_module": "jupyter-js-widgets",
      "model_module_version": "~2.1.4",
      "model_name": "OutputModel",
      "state": {
       "_dom_classes": [],
       "_model_module": "jupyter-js-widgets",
       "_model_module_version": "~2.1.4",
       "_view_module": "jupyter-js-widgets",
       "_view_module_version": "~2.1.4",
       "layout": "IPY_MODEL_d3f03f6d582e48dcac4143ad06f3a091",
       "msg_throttle": 1
      }
     },
     "8772f05b4da64de98df551b45073d4c1": {
      "model_module": "jupyter-js-widgets",
      "model_module_version": "~2.1.4",
      "model_name": "LayoutModel",
      "state": {
       "_model_module_version": "~2.1.4",
       "_view_module_version": "~2.1.4"
      }
     },
     "88f89c0832e04e378d20f946e03bb91b": {
      "model_module": "jupyter-js-widgets",
      "model_module_version": "~2.1.4",
      "model_name": "LayoutModel",
      "state": {
       "_model_module_version": "~2.1.4",
       "_view_module_version": "~2.1.4"
      }
     },
     "8b0f4e6708c947b69294df1776c1e0c8": {
      "model_module": "jupyter-js-widgets",
      "model_module_version": "~2.1.4",
      "model_name": "VBoxModel",
      "state": {
       "_dom_classes": [
        "widget-interact"
       ],
       "_model_module_version": "~2.1.4",
       "_view_module_version": "~2.1.4",
       "children": [
        "IPY_MODEL_ef4772b30e154f06bf0d39ecad94a981",
        "IPY_MODEL_9276052c7bbf412cb22491472a9db2ac",
        "IPY_MODEL_0263bcb584794233a4a099d524dfd2ec"
       ],
       "layout": "IPY_MODEL_d893b40dc38545579e716601e2a03718"
      }
     },
     "8b9085487f8e44e3b23cc5621c766a35": {
      "model_module": "jupyter-js-widgets",
      "model_module_version": "~2.1.4",
      "model_name": "OutputModel",
      "state": {
       "_dom_classes": [],
       "_model_module": "jupyter-js-widgets",
       "_model_module_version": "~2.1.4",
       "_view_module": "jupyter-js-widgets",
       "_view_module_version": "~2.1.4",
       "layout": "IPY_MODEL_9b784d595c574065b9bd7760a4555076",
       "msg_throttle": 1
      }
     },
     "8c45d9e9fcea4bc4a0d7195a9e1ff0d6": {
      "model_module": "jupyter-js-widgets",
      "model_module_version": "~2.1.4",
      "model_name": "LayoutModel",
      "state": {
       "_model_module_version": "~2.1.4",
       "_view_module_version": "~2.1.4"
      }
     },
     "8e29f1be064f4b60b9ec37b4dffc4e59": {
      "model_module": "jupyter-js-widgets",
      "model_module_version": "~2.1.4",
      "model_name": "LayoutModel",
      "state": {
       "_model_module_version": "~2.1.4",
       "_view_module_version": "~2.1.4"
      }
     },
     "8e2a7fb140634e5a918195d9b2d3116d": {
      "model_module": "jupyter-js-widgets",
      "model_module_version": "~2.1.4",
      "model_name": "LayoutModel",
      "state": {
       "_model_module_version": "~2.1.4",
       "_view_module_version": "~2.1.4"
      }
     },
     "905ced57a94f41ee9b87ee3024c8fbda": {
      "model_module": "jupyter-js-widgets",
      "model_module_version": "~2.1.4",
      "model_name": "VBoxModel",
      "state": {
       "_dom_classes": [
        "widget-interact"
       ],
       "_model_module_version": "~2.1.4",
       "_view_module_version": "~2.1.4",
       "children": [
        "IPY_MODEL_9e2a8482e7a3482c817bf6bba24c8710",
        "IPY_MODEL_616ee2d72c6b4f019d55e9866c031348",
        "IPY_MODEL_14ad5c4927414835aff3b2029475c18b",
        "IPY_MODEL_cc51d2a77a514b3b83409eea9368e279"
       ],
       "layout": "IPY_MODEL_7c55d9e65b384adf908faa2993a5ec0a"
      }
     },
     "925fb87c9da74f8d929522356590ea8e": {
      "model_module": "jupyter-js-widgets",
      "model_module_version": "~2.1.4",
      "model_name": "LayoutModel",
      "state": {
       "_model_module_version": "~2.1.4",
       "_view_module_version": "~2.1.4"
      }
     },
     "9276052c7bbf412cb22491472a9db2ac": {
      "model_module": "jupyter-js-widgets",
      "model_module_version": "~2.1.4",
      "model_name": "DropdownModel",
      "state": {
       "_model_module_version": "~2.1.4",
       "_options_labels": [
        "FE_H",
        "C_H",
        "CI_H",
        "N_H",
        "O_H",
        "NA_H",
        "MG_H",
        "AL_H",
        "SI_H",
        "P_H",
        "S_H",
        "K_H",
        "CA_H",
        "TI_H",
        "TIII_H",
        "V_H",
        "CR_H",
        "MN_H",
        "CO_H",
        "NI_H"
       ],
       "_view_module_version": "~2.1.4",
       "description": "view_element",
       "layout": "IPY_MODEL_7e61731dee074e149535f349c8e1ed20",
       "value": "FE_H"
      }
     },
     "935361188bed46e390ac4cf2cd5fe7e7": {
      "model_module": "jupyter-js-widgets",
      "model_module_version": "~2.1.4",
      "model_name": "DropdownModel",
      "state": {
       "_model_module_version": "~2.1.4",
       "_options_labels": [
        "FE_H",
        "C_H",
        "CI_H",
        "N_H",
        "O_H",
        "NA_H",
        "MG_H",
        "AL_H",
        "SI_H",
        "P_H",
        "S_H",
        "K_H",
        "CA_H",
        "TI_H",
        "TIII_H",
        "V_H",
        "CR_H",
        "MN_H",
        "CO_H",
        "NI_H"
       ],
       "_view_module_version": "~2.1.4",
       "description": "view_element",
       "layout": "IPY_MODEL_8e29f1be064f4b60b9ec37b4dffc4e59",
       "value": "FE_H"
      }
     },
     "9528f90cb4e84c4eac4b2e1c13865e56": {
      "model_module": "jupyter-js-widgets",
      "model_module_version": "~2.1.4",
      "model_name": "LayoutModel",
      "state": {
       "_model_module_version": "~2.1.4",
       "_view_module_version": "~2.1.4"
      }
     },
     "96417e22018343318cf9aaac5e754bf7": {
      "model_module": "jupyter-js-widgets",
      "model_module_version": "~2.1.4",
      "model_name": "DropdownModel",
      "state": {
       "_model_module_version": "~2.1.4",
       "_options_labels": [
        "FE_H",
        "C_H",
        "CI_H",
        "N_H",
        "O_H",
        "NA_H",
        "MG_H",
        "AL_H",
        "SI_H",
        "P_H",
        "S_H",
        "K_H",
        "CA_H",
        "TI_H",
        "TIII_H",
        "V_H",
        "CR_H",
        "MN_H",
        "CO_H",
        "NI_H"
       ],
       "_view_module_version": "~2.1.4",
       "description": "element_1",
       "layout": "IPY_MODEL_a8316c457a2b44a48bf6ce5b38078809",
       "value": "FE_H"
      }
     },
     "96c0979720a64f28be168f6cab935da4": {
      "model_module": "jupyter-js-widgets",
      "model_module_version": "~2.1.4",
      "model_name": "DropdownModel",
      "state": {
       "_model_module_version": "~2.1.4",
       "_options_labels": [
        "FE_H",
        "C_H",
        "CI_H",
        "N_H",
        "O_H",
        "NA_H",
        "MG_H",
        "AL_H",
        "SI_H",
        "P_H",
        "S_H",
        "K_H",
        "CA_H",
        "TI_H",
        "TIII_H",
        "V_H",
        "CR_H",
        "MN_H",
        "CO_H",
        "NI_H"
       ],
       "_view_module_version": "~2.1.4",
       "description": "element_1",
       "layout": "IPY_MODEL_56db15dee5c74d8981b1bdd716f259a5",
       "value": "FE_H"
      }
     },
     "97607b35a61d42c8b353d7f24f50c8c4": {
      "model_module": "jupyter-js-widgets",
      "model_module_version": "~2.1.4",
      "model_name": "LayoutModel",
      "state": {
       "_model_module_version": "~2.1.4",
       "_view_module_version": "~2.1.4"
      }
     },
     "97fc57ee07594014a8a12598fa309317": {
      "model_module": "jupyter-js-widgets",
      "model_module_version": "~2.1.4",
      "model_name": "DropdownModel",
      "state": {
       "_model_module_version": "~2.1.4",
       "_options_labels": [
        "FE_H",
        "C_H",
        "CI_H",
        "N_H",
        "O_H",
        "NA_H",
        "MG_H",
        "AL_H",
        "SI_H",
        "P_H",
        "S_H",
        "K_H",
        "CA_H",
        "TI_H",
        "TIII_H",
        "V_H",
        "CR_H",
        "MN_H",
        "CO_H",
        "NI_H"
       ],
       "_view_module_version": "~2.1.4",
       "description": "element_0",
       "layout": "IPY_MODEL_4def9914419842119d3cbdf144db52ec",
       "value": "FE_H"
      }
     },
     "98156dee32d542cc8d0060a82a050833": {
      "model_module": "jupyter-js-widgets",
      "model_module_version": "~2.1.4",
      "model_name": "LayoutModel",
      "state": {
       "_model_module_version": "~2.1.4",
       "_view_module_version": "~2.1.4"
      }
     },
     "981fcb4c7fe04ef789f879526e5520f7": {
      "model_module": "jupyter-js-widgets",
      "model_module_version": "~2.1.4",
      "model_name": "LayoutModel",
      "state": {
       "_model_module_version": "~2.1.4",
       "_view_module_version": "~2.1.4"
      }
     },
     "986d5b624c154a0380688964922193a2": {
      "model_module": "jupyter-js-widgets",
      "model_module_version": "~2.1.4",
      "model_name": "OutputModel",
      "state": {
       "_dom_classes": [],
       "_model_module": "jupyter-js-widgets",
       "_model_module_version": "~2.1.4",
       "_view_module": "jupyter-js-widgets",
       "_view_module_version": "~2.1.4",
       "layout": "IPY_MODEL_5b1e716a79af40208356b17298963fa9",
       "msg_throttle": 1
      }
     },
     "9886aad1922148ec83561ec4ae147306": {
      "model_module": "jupyter-js-widgets",
      "model_module_version": "~2.1.4",
      "model_name": "LayoutModel",
      "state": {
       "_model_module_version": "~2.1.4",
       "_view_module_version": "~2.1.4"
      }
     },
     "996c2d4b75ee4641a411a8306a1433a8": {
      "model_module": "jupyter-js-widgets",
      "model_module_version": "~2.1.4",
      "model_name": "DropdownModel",
      "state": {
       "_model_module_version": "~2.1.4",
       "_options_labels": [
        "M107",
        "M13",
        "M15",
        "M2",
        "M3",
        "M35",
        "M5",
        "M53",
        "M67",
        "M71",
        "M92",
        "N188",
        "N2158",
        "N2420",
        "N4147",
        "N5466",
        "N6791",
        "N6819",
        "N7789",
        "Pleiades"
       ],
       "_view_module_version": "~2.1.4",
       "description": "view_cluster",
       "layout": "IPY_MODEL_f36bf0d5885b4299a465ba3e11e8ff78",
       "value": "M107"
      }
     },
     "9b784d595c574065b9bd7760a4555076": {
      "model_module": "jupyter-js-widgets",
      "model_module_version": "~2.1.4",
      "model_name": "LayoutModel",
      "state": {
       "_model_module_version": "~2.1.4",
       "_view_module_version": "~2.1.4"
      }
     },
     "9c524ce70990462d80d4affd65d7d03e": {
      "model_module": "jupyter-js-widgets",
      "model_module_version": "~2.1.4",
      "model_name": "DropdownModel",
      "state": {
       "_model_module_version": "~2.1.4",
       "_options_labels": [
        "M107",
        "M67"
       ],
       "_view_module_version": "~2.1.4",
       "description": "view_cluster",
       "layout": "IPY_MODEL_36a0c7799a014f43b0a56c8491bf9349",
       "value": "M67"
      }
     },
     "9e2a8482e7a3482c817bf6bba24c8710": {
      "model_module": "jupyter-js-widgets",
      "model_module_version": "~2.1.4",
      "model_name": "DropdownModel",
      "state": {
       "_model_module_version": "~2.1.4",
       "_options_labels": [
        "FE_H",
        "C_H",
        "CI_H",
        "N_H",
        "O_H",
        "NA_H",
        "MG_H",
        "AL_H",
        "SI_H",
        "P_H",
        "S_H",
        "K_H",
        "CA_H",
        "TI_H",
        "TIII_H",
        "V_H",
        "CR_H",
        "MN_H",
        "CO_H",
        "NI_H"
       ],
       "_view_module_version": "~2.1.4",
       "description": "element_0",
       "layout": "IPY_MODEL_55497d59e2fa419b84790d6d5b036711",
       "value": "FE_H"
      }
     },
     "9f7f214bf9394c2d817b97e4f399a0c7": {
      "model_module": "jupyter-js-widgets",
      "model_module_version": "~2.1.4",
      "model_name": "LayoutModel",
      "state": {
       "_model_module_version": "~2.1.4",
       "_view_module_version": "~2.1.4"
      }
     },
     "9fe5a0831ee14e4391a3830cb76b848b": {
      "model_module": "jupyter-js-widgets",
      "model_module_version": "~2.1.4",
      "model_name": "LayoutModel",
      "state": {
       "_model_module_version": "~2.1.4",
       "_view_module_version": "~2.1.4"
      }
     },
     "9fffd00b4c3f4417ae6f0a080e41a51d": {
      "model_module": "jupyter-js-widgets",
      "model_module_version": "~2.1.4",
      "model_name": "LayoutModel",
      "state": {
       "_model_module_version": "~2.1.4",
       "_view_module_version": "~2.1.4"
      }
     },
     "a0ce051953f04fcfb3eef419ec1d5431": {
      "model_module": "jupyter-js-widgets",
      "model_module_version": "~2.1.4",
      "model_name": "LayoutModel",
      "state": {
       "_model_module_version": "~2.1.4",
       "_view_module_version": "~2.1.4"
      }
     },
     "a21709f626f645faa7c944564162b7b9": {
      "model_module": "jupyter-js-widgets",
      "model_module_version": "~2.1.4",
      "model_name": "LayoutModel",
      "state": {
       "_model_module_version": "~2.1.4",
       "_view_module_version": "~2.1.4"
      }
     },
     "a24afc6675074bc6b5c1a378bdbfdbd5": {
      "model_module": "jupyter-js-widgets",
      "model_module_version": "~2.1.4",
      "model_name": "VBoxModel",
      "state": {
       "_dom_classes": [
        "widget-interact"
       ],
       "_model_module_version": "~2.1.4",
       "_view_module_version": "~2.1.4",
       "children": [
        "IPY_MODEL_1f8759cab6f1486cab2896bb698ba7aa",
        "IPY_MODEL_e1ccc5968f534ce582217cf4c334f249",
        "IPY_MODEL_2b613c8599d742e1b2cff3ff58d63cec"
       ],
       "layout": "IPY_MODEL_c7f1c80036384388ba10fa9b6cc2ff05"
      }
     },
     "a27cc12779894803aa4c84eccdf10d42": {
      "model_module": "jupyter-js-widgets",
      "model_module_version": "~2.1.4",
      "model_name": "DropdownModel",
      "state": {
       "_model_module_version": "~2.1.4",
       "_options_labels": [
        "FE_H",
        "C_H",
        "CI_H",
        "N_H",
        "O_H",
        "NA_H",
        "MG_H",
        "AL_H",
        "SI_H",
        "P_H",
        "S_H",
        "K_H",
        "CA_H",
        "TI_H",
        "TIII_H",
        "V_H",
        "CR_H",
        "MN_H",
        "CO_H",
        "NI_H"
       ],
       "_view_module_version": "~2.1.4",
       "description": "element_0",
       "layout": "IPY_MODEL_2d750f0dcfff45f5816c858f557467c2",
       "value": "FE_H"
      }
     },
     "a3215cd0bca14a528186cfe455f76bd5": {
      "model_module": "jupyter-js-widgets",
      "model_module_version": "~2.1.4",
      "model_name": "DropdownModel",
      "state": {
       "_model_module_version": "~2.1.4",
       "_options_labels": [
        "FE_H",
        "C_H",
        "CI_H",
        "N_H",
        "O_H",
        "NA_H",
        "MG_H",
        "AL_H",
        "SI_H",
        "P_H",
        "S_H",
        "K_H",
        "CA_H",
        "TI_H",
        "TIII_H",
        "V_H",
        "CR_H",
        "MN_H",
        "CO_H",
        "NI_H"
       ],
       "_view_module_version": "~2.1.4",
       "description": "element_0",
       "layout": "IPY_MODEL_a8c05c7f51614d1e90aea4fab30db7b5",
       "value": "FE_H"
      }
     },
     "a39a96ad7c29473782619889914007fa": {
      "model_module": "jupyter-js-widgets",
      "model_module_version": "~2.1.4",
      "model_name": "LayoutModel",
      "state": {
       "_model_module_version": "~2.1.4",
       "_view_module_version": "~2.1.4"
      }
     },
     "a4855e8c09864c979349b6d1550b7105": {
      "model_module": "jupyter-js-widgets",
      "model_module_version": "~2.1.4",
      "model_name": "LayoutModel",
      "state": {
       "_model_module_version": "~2.1.4",
       "_view_module_version": "~2.1.4"
      }
     },
     "a52c1dddbabb4495b8474a6975d500aa": {
      "model_module": "jupyter-js-widgets",
      "model_module_version": "~2.1.4",
      "model_name": "OutputModel",
      "state": {
       "_dom_classes": [],
       "_model_module": "jupyter-js-widgets",
       "_model_module_version": "~2.1.4",
       "_view_module": "jupyter-js-widgets",
       "_view_module_version": "~2.1.4",
       "layout": "IPY_MODEL_3e88e5a60a134d409603b53578cc2890",
       "msg_throttle": 1
      }
     },
     "a568fda4635c4e88b35ea6d47399c87c": {
      "model_module": "jupyter-js-widgets",
      "model_module_version": "~2.1.4",
      "model_name": "DropdownModel",
      "state": {
       "_model_module_version": "~2.1.4",
       "_options_labels": [
        "FE_H",
        "AL_H"
       ],
       "_view_module_version": "~2.1.4",
       "description": "view_element",
       "layout": "IPY_MODEL_4f2819a18b9047f79dae06ae3e2960f3",
       "value": "FE_H"
      }
     },
     "a611cc2da9c44a3bb00dd5abbbc8ef17": {
      "model_module": "jupyter-js-widgets",
      "model_module_version": "~2.1.4",
      "model_name": "LayoutModel",
      "state": {
       "_model_module_version": "~2.1.4",
       "_view_module_version": "~2.1.4"
      }
     },
     "a70d42c586714e33ada8aa2b243a2226": {
      "model_module": "jupyter-js-widgets",
      "model_module_version": "~2.1.4",
      "model_name": "DropdownModel",
      "state": {
       "_model_module_version": "~2.1.4",
       "_options_labels": [
        "FE_H",
        "C_H",
        "CI_H",
        "N_H",
        "O_H",
        "NA_H",
        "MG_H",
        "AL_H",
        "SI_H",
        "P_H",
        "S_H",
        "K_H",
        "CA_H",
        "TI_H",
        "TIII_H",
        "V_H",
        "CR_H",
        "MN_H",
        "CO_H",
        "NI_H"
       ],
       "_view_module_version": "~2.1.4",
       "description": "element_1",
       "layout": "IPY_MODEL_0999d42939894814be3174583e6823dd",
       "value": "FE_H"
      }
     },
     "a7ab6afb5e8b4012abc244ecba68d6ae": {
      "model_module": "jupyter-js-widgets",
      "model_module_version": "~2.1.4",
      "model_name": "LayoutModel",
      "state": {
       "_model_module_version": "~2.1.4",
       "_view_module_version": "~2.1.4"
      }
     },
     "a80d68cc40434399b6f0e47d435ac644": {
      "model_module": "jupyter-js-widgets",
      "model_module_version": "~2.1.4",
      "model_name": "LayoutModel",
      "state": {
       "_model_module_version": "~2.1.4",
       "_view_module_version": "~2.1.4"
      }
     },
     "a8316c457a2b44a48bf6ce5b38078809": {
      "model_module": "jupyter-js-widgets",
      "model_module_version": "~2.1.4",
      "model_name": "LayoutModel",
      "state": {
       "_model_module_version": "~2.1.4",
       "_view_module_version": "~2.1.4"
      }
     },
     "a8c05c7f51614d1e90aea4fab30db7b5": {
      "model_module": "jupyter-js-widgets",
      "model_module_version": "~2.1.4",
      "model_name": "LayoutModel",
      "state": {
       "_model_module_version": "~2.1.4",
       "_view_module_version": "~2.1.4"
      }
     },
     "ac4a84afec9b4ff08e9581d4ac9229f3": {
      "model_module": "jupyter-js-widgets",
      "model_module_version": "~2.1.4",
      "model_name": "LayoutModel",
      "state": {
       "_model_module_version": "~2.1.4",
       "_view_module_version": "~2.1.4"
      }
     },
     "ac562bc0ff5d45f9bd0bd9dbddaa8a09": {
      "model_module": "jupyter-js-widgets",
      "model_module_version": "~2.1.4",
      "model_name": "OutputModel",
      "state": {
       "_dom_classes": [],
       "_model_module": "jupyter-js-widgets",
       "_model_module_version": "~2.1.4",
       "_view_module": "jupyter-js-widgets",
       "_view_module_version": "~2.1.4",
       "layout": "IPY_MODEL_8772f05b4da64de98df551b45073d4c1",
       "msg_throttle": 1
      }
     },
     "aca879f8d6e44451bf9dcc4d08f160db": {
      "model_module": "jupyter-js-widgets",
      "model_module_version": "~2.1.4",
      "model_name": "DropdownModel",
      "state": {
       "_model_module_version": "~2.1.4",
       "_options_labels": [
        "M107",
        "M13",
        "M15",
        "M2",
        "M3",
        "M35",
        "M5",
        "M53",
        "M67",
        "M71",
        "M92",
        "N188",
        "N2158",
        "N2420",
        "N4147",
        "N5466",
        "N6791",
        "N6819",
        "N7789",
        "Pleiades"
       ],
       "_view_module_version": "~2.1.4",
       "description": "view_cluster",
       "layout": "IPY_MODEL_1c9865a7faf246e7a55f77744a57355b",
       "value": "M107"
      }
     },
     "afb5368462fe452a81d716bca3436ae4": {
      "model_module": "jupyter-js-widgets",
      "model_module_version": "~2.1.4",
      "model_name": "VBoxModel",
      "state": {
       "_dom_classes": [
        "widget-interact"
       ],
       "_model_module_version": "~2.1.4",
       "_view_module_version": "~2.1.4",
       "children": [
        "IPY_MODEL_c081decb1a264338b6f69de5dbf2bba0",
        "IPY_MODEL_a568fda4635c4e88b35ea6d47399c87c",
        "IPY_MODEL_648473597c5c4d44aca5f3a7eb99dce9"
       ],
       "layout": "IPY_MODEL_da91ccf768e4491e886d187fee0fe103"
      }
     },
     "b09f1e3259574bad9a3b110a1e3fb58d": {
      "model_module": "jupyter-js-widgets",
      "model_module_version": "~2.1.4",
      "model_name": "SelectMultipleModel",
      "state": {
       "_model_module_version": "~2.1.4",
       "_options_labels": [
        "M107",
        "M13",
        "M15",
        "M2",
        "M3",
        "M35",
        "M5",
        "M53",
        "M67",
        "M71",
        "M92",
        "N188",
        "N2158",
        "N2420",
        "N4147",
        "N5466",
        "N6791",
        "N6819",
        "N7789",
        "Pleiades"
       ],
       "_view_module_version": "~2.1.4",
       "description": "view_cluster",
       "layout": "IPY_MODEL_e53fd118f2bf435f9b9e7a053f1c0d82",
       "value": [
        "N7789",
        "Pleiades"
       ]
      }
     },
     "b0d665ad8fc349b5889db9e446f77e6e": {
      "model_module": "jupyter-js-widgets",
      "model_module_version": "~2.1.4",
      "model_name": "DropdownModel",
      "state": {
       "_model_module_version": "~2.1.4",
       "_options_labels": [
        "FE_H",
        "C_H",
        "CI_H",
        "N_H",
        "O_H",
        "NA_H",
        "MG_H",
        "AL_H",
        "SI_H",
        "P_H",
        "S_H",
        "K_H",
        "CA_H",
        "TI_H",
        "TIII_H",
        "V_H",
        "CR_H",
        "MN_H",
        "CO_H",
        "NI_H"
       ],
       "_view_module_version": "~2.1.4",
       "description": "element_0",
       "layout": "IPY_MODEL_fbd74d1a5f5b4516844caed40c5dea78",
       "value": "FE_H"
      }
     },
     "b218a80e51694eaca2e7687267cb3c46": {
      "model_module": "jupyter-js-widgets",
      "model_module_version": "~2.1.4",
      "model_name": "LayoutModel",
      "state": {
       "_model_module_version": "~2.1.4",
       "_view_module_version": "~2.1.4"
      }
     },
     "b295c34589f64a7699f5bfd46e49a497": {
      "model_module": "jupyter-js-widgets",
      "model_module_version": "~2.1.4",
      "model_name": "LayoutModel",
      "state": {
       "_model_module_version": "~2.1.4",
       "_view_module_version": "~2.1.4"
      }
     },
     "b3fb8e26bde7499aa3bb5c4cfe887ed0": {
      "model_module": "jupyter-js-widgets",
      "model_module_version": "~2.1.4",
      "model_name": "LayoutModel",
      "state": {
       "_model_module_version": "~2.1.4",
       "_view_module_version": "~2.1.4"
      }
     },
     "b5359b0295ac49cea2e957810a5bd362": {
      "model_module": "jupyter-js-widgets",
      "model_module_version": "~2.1.4",
      "model_name": "LayoutModel",
      "state": {
       "_model_module_version": "~2.1.4",
       "_view_module_version": "~2.1.4"
      }
     },
     "b6f981960f714e73a4298b2f57b23a22": {
      "model_module": "jupyter-js-widgets",
      "model_module_version": "~2.1.4",
      "model_name": "VBoxModel",
      "state": {
       "_dom_classes": [
        "widget-interact"
       ],
       "_model_module_version": "~2.1.4",
       "_view_module_version": "~2.1.4",
       "children": [
        "IPY_MODEL_a3215cd0bca14a528186cfe455f76bd5",
        "IPY_MODEL_4bae9d57f2d4429f9299e8d1a7c1a4c6",
        "IPY_MODEL_b09f1e3259574bad9a3b110a1e3fb58d",
        "IPY_MODEL_0c18e54412a641e78d1c77ddaeb24aaf"
       ],
       "layout": "IPY_MODEL_1fb2a35a38a04537ba9081c7c6b7e433"
      }
     },
     "b8751f81d24f4ff8ae5b556a4564feca": {
      "model_module": "jupyter-js-widgets",
      "model_module_version": "~2.1.4",
      "model_name": "OutputModel",
      "state": {
       "_dom_classes": [],
       "_model_module": "jupyter-js-widgets",
       "_model_module_version": "~2.1.4",
       "_view_module": "jupyter-js-widgets",
       "_view_module_version": "~2.1.4",
       "layout": "IPY_MODEL_7baf57f39c73488caebe78cc1d16dbb0",
       "msg_throttle": 1
      }
     },
     "b90f09dfae73495d8638d44616cd2bcc": {
      "model_module": "jupyter-js-widgets",
      "model_module_version": "~2.1.4",
      "model_name": "LayoutModel",
      "state": {
       "_model_module_version": "~2.1.4",
       "_view_module_version": "~2.1.4"
      }
     },
     "ba7a990d8e574cba87a4f523925dc162": {
      "model_module": "jupyter-js-widgets",
      "model_module_version": "~2.1.4",
      "model_name": "LayoutModel",
      "state": {
       "_model_module_version": "~2.1.4",
       "_view_module_version": "~2.1.4"
      }
     },
     "babf488ff0d641398be69d35508240c5": {
      "model_module": "jupyter-js-widgets",
      "model_module_version": "~2.1.4",
      "model_name": "LayoutModel",
      "state": {
       "_model_module_version": "~2.1.4",
       "_view_module_version": "~2.1.4"
      }
     },
     "be272d85b5f74d85839a5c44b89bbb4c": {
      "model_module": "jupyter-js-widgets",
      "model_module_version": "~2.1.4",
      "model_name": "VBoxModel",
      "state": {
       "_dom_classes": [
        "widget-interact"
       ],
       "_model_module_version": "~2.1.4",
       "_view_module_version": "~2.1.4",
       "children": [
        "IPY_MODEL_faa17b3090214cbebfc05896d0c4bcdf",
        "IPY_MODEL_1548f1a4c2644e198191c3be46e4d72d",
        "IPY_MODEL_18ea3094c5954d9c88384a26d3729aa8"
       ],
       "layout": "IPY_MODEL_c5bcd247e4924d9cba098f0a47a9e923"
      }
     },
     "be5e50b1a71f4b809970b986ffd40296": {
      "model_module": "jupyter-js-widgets",
      "model_module_version": "~2.1.4",
      "model_name": "LayoutModel",
      "state": {
       "_model_module_version": "~2.1.4",
       "_view_module_version": "~2.1.4"
      }
     },
     "bea9b04d4e16438eafd121bd354a10f8": {
      "model_module": "jupyter-js-widgets",
      "model_module_version": "~2.1.4",
      "model_name": "LayoutModel",
      "state": {
       "_model_module_version": "~2.1.4",
       "_view_module_version": "~2.1.4"
      }
     },
     "bfede11efe33479cbee6e21f7dc57ff5": {
      "model_module": "jupyter-js-widgets",
      "model_module_version": "~2.1.4",
      "model_name": "DropdownModel",
      "state": {
       "_model_module_version": "~2.1.4",
       "_options_labels": [
        "M107",
        "M13",
        "M15",
        "M2",
        "M3",
        "M35",
        "M5",
        "M53",
        "M67",
        "M71",
        "M92",
        "N188",
        "N2158",
        "N2420",
        "N4147",
        "N5466",
        "N6791",
        "N6819",
        "N7789",
        "Pleiades"
       ],
       "_view_module_version": "~2.1.4",
       "description": "view_cluster",
       "layout": "IPY_MODEL_a4855e8c09864c979349b6d1550b7105",
       "value": "M107"
      }
     },
     "c06b9f9b102546ce9419c1668f5c2c7c": {
      "model_module": "jupyter-js-widgets",
      "model_module_version": "~2.1.4",
      "model_name": "DropdownModel",
      "state": {
       "_model_module_version": "~2.1.4",
       "_options_labels": [
        "FE_H",
        "C_H",
        "CI_H",
        "N_H",
        "O_H",
        "NA_H",
        "MG_H",
        "AL_H",
        "SI_H",
        "P_H",
        "S_H",
        "K_H",
        "CA_H",
        "TI_H",
        "TIII_H",
        "V_H",
        "CR_H",
        "MN_H",
        "CO_H",
        "NI_H"
       ],
       "_view_module_version": "~2.1.4",
       "description": "element_1",
       "layout": "IPY_MODEL_857d18a862f94cfab5b25f29b91fa8bf",
       "value": "FE_H"
      }
     },
     "c081decb1a264338b6f69de5dbf2bba0": {
      "model_module": "jupyter-js-widgets",
      "model_module_version": "~2.1.4",
      "model_name": "DropdownModel",
      "state": {
       "_model_module_version": "~2.1.4",
       "_options_labels": [
        "M107",
        "M67"
       ],
       "_view_module_version": "~2.1.4",
       "description": "view_cluster",
       "layout": "IPY_MODEL_2224b469ab0a4c8095ffa31b68204f76",
       "value": "M107"
      }
     },
     "c16abaebe185496e8927afb2e32aebe7": {
      "model_module": "jupyter-js-widgets",
      "model_module_version": "~2.1.4",
      "model_name": "LayoutModel",
      "state": {
       "_model_module_version": "~2.1.4",
       "_view_module_version": "~2.1.4"
      }
     },
     "c254fb3f1f9c407e8ea16dfe24d6b971": {
      "model_module": "jupyter-js-widgets",
      "model_module_version": "~2.1.4",
      "model_name": "LayoutModel",
      "state": {
       "_model_module_version": "~2.1.4",
       "_view_module_version": "~2.1.4"
      }
     },
     "c51b0de9c36c4166b392768c1693d6f7": {
      "model_module": "jupyter-js-widgets",
      "model_module_version": "~2.1.4",
      "model_name": "SelectMultipleModel",
      "state": {
       "_model_module_version": "~2.1.4",
       "_options_labels": [
        "M107",
        "M13",
        "M15",
        "M2",
        "M3",
        "M35",
        "M5",
        "M53",
        "M67",
        "M71",
        "M92",
        "N188",
        "N2158",
        "N2420",
        "N4147",
        "N5466",
        "N6791",
        "N6819",
        "N7789",
        "Pleiades"
       ],
       "_view_module_version": "~2.1.4",
       "description": "cluster name",
       "layout": "IPY_MODEL_6e36510e780442ab8471d0e5d2d20cfa",
       "value": [
        "M107"
       ]
      }
     },
     "c5bcd247e4924d9cba098f0a47a9e923": {
      "model_module": "jupyter-js-widgets",
      "model_module_version": "~2.1.4",
      "model_name": "LayoutModel",
      "state": {
       "_model_module_version": "~2.1.4",
       "_view_module_version": "~2.1.4"
      }
     },
     "c675c1c3215b4ee99dadb6185b11c878": {
      "model_module": "jupyter-js-widgets",
      "model_module_version": "~2.1.4",
      "model_name": "LayoutModel",
      "state": {
       "_model_module_version": "~2.1.4",
       "_view_module_version": "~2.1.4"
      }
     },
     "c67b12e7ea274fd89dfea4796ac63a80": {
      "model_module": "jupyter-js-widgets",
      "model_module_version": "~2.1.4",
      "model_name": "LayoutModel",
      "state": {
       "_model_module_version": "~2.1.4",
       "_view_module_version": "~2.1.4"
      }
     },
     "c6871997b7d745b6aaab1f6890ad34f6": {
      "model_module": "jupyter-js-widgets",
      "model_module_version": "~2.1.4",
      "model_name": "LayoutModel",
      "state": {
       "_model_module_version": "~2.1.4",
       "_view_module_version": "~2.1.4"
      }
     },
     "c79d347621594ba4b1d00e6dcfd1b5d8": {
      "model_module": "jupyter-js-widgets",
      "model_module_version": "~2.1.4",
      "model_name": "OutputModel",
      "state": {
       "_dom_classes": [],
       "_model_module": "jupyter-js-widgets",
       "_model_module_version": "~2.1.4",
       "_view_module": "jupyter-js-widgets",
       "_view_module_version": "~2.1.4",
       "layout": "IPY_MODEL_a611cc2da9c44a3bb00dd5abbbc8ef17",
       "msg_throttle": 1
      }
     },
     "c7f1c80036384388ba10fa9b6cc2ff05": {
      "model_module": "jupyter-js-widgets",
      "model_module_version": "~2.1.4",
      "model_name": "LayoutModel",
      "state": {
       "_model_module_version": "~2.1.4",
       "_view_module_version": "~2.1.4"
      }
     },
     "cb28da24b49c49e583e424a453b1857f": {
      "model_module": "jupyter-js-widgets",
      "model_module_version": "~2.1.4",
      "model_name": "LayoutModel",
      "state": {
       "_model_module_version": "~2.1.4",
       "_view_module_version": "~2.1.4"
      }
     },
     "cc51d2a77a514b3b83409eea9368e279": {
      "model_module": "jupyter-js-widgets",
      "model_module_version": "~2.1.4",
      "model_name": "OutputModel",
      "state": {
       "_dom_classes": [],
       "_model_module": "jupyter-js-widgets",
       "_model_module_version": "~2.1.4",
       "_view_module": "jupyter-js-widgets",
       "_view_module_version": "~2.1.4",
       "layout": "IPY_MODEL_ff37002fbe15404d9107a6197932aa57",
       "msg_throttle": 1
      }
     },
     "ce26b9b3acc946e3892cf84353076b8a": {
      "model_module": "jupyter-js-widgets",
      "model_module_version": "~2.1.4",
      "model_name": "DropdownModel",
      "state": {
       "_model_module_version": "~2.1.4",
       "_options_labels": [
        "FE_H",
        "C_H",
        "CI_H",
        "N_H",
        "O_H",
        "NA_H",
        "MG_H",
        "AL_H",
        "SI_H",
        "P_H",
        "S_H",
        "K_H",
        "CA_H",
        "TI_H",
        "TIII_H",
        "V_H",
        "CR_H",
        "MN_H",
        "CO_H",
        "NI_H"
       ],
       "_view_module_version": "~2.1.4",
       "description": "element_0",
       "layout": "IPY_MODEL_9886aad1922148ec83561ec4ae147306",
       "value": "FE_H"
      }
     },
     "ce4091c7fca74e9e9b5ed17aa89effaa": {
      "model_module": "jupyter-js-widgets",
      "model_module_version": "~2.1.4",
      "model_name": "LayoutModel",
      "state": {
       "_model_module_version": "~2.1.4",
       "_view_module_version": "~2.1.4"
      }
     },
     "d248d962dbfa4e71a1085f963000a633": {
      "model_module": "jupyter-js-widgets",
      "model_module_version": "~2.1.4",
      "model_name": "LayoutModel",
      "state": {
       "_model_module_version": "~2.1.4",
       "_view_module_version": "~2.1.4"
      }
     },
     "d2892b8c24f049948cea617e29304108": {
      "model_module": "jupyter-js-widgets",
      "model_module_version": "~2.1.4",
      "model_name": "VBoxModel",
      "state": {
       "_dom_classes": [
        "widget-interact"
       ],
       "_model_module_version": "~2.1.4",
       "_view_module_version": "~2.1.4",
       "children": [
        "IPY_MODEL_21c53017f9b8404ba7ef35edf95c1e15",
        "IPY_MODEL_4af06b9f066e4421bcee3efd76fb048f",
        "IPY_MODEL_86c6eaa8db1b4818ae2ea62d5b337b06"
       ],
       "layout": "IPY_MODEL_6a3efe3876b14b4d82f4ccfd7e00c221"
      }
     },
     "d30f1ab3ffd043df97ec68d4b662d8ee": {
      "model_module": "jupyter-js-widgets",
      "model_module_version": "~2.1.4",
      "model_name": "LayoutModel",
      "state": {
       "_model_module_version": "~2.1.4",
       "_view_module_version": "~2.1.4"
      }
     },
     "d348486a6cc9439bbc5c90d3c3d4fc24": {
      "model_module": "jupyter-js-widgets",
      "model_module_version": "~2.1.4",
      "model_name": "DropdownModel",
      "state": {
       "_model_module_version": "~2.1.4",
       "_options_labels": [
        "FE_H",
        "AL_H"
       ],
       "_view_module_version": "~2.1.4",
       "description": "view_element",
       "layout": "IPY_MODEL_b90f09dfae73495d8638d44616cd2bcc",
       "value": "FE_H"
      }
     },
     "d3f03f6d582e48dcac4143ad06f3a091": {
      "model_module": "jupyter-js-widgets",
      "model_module_version": "~2.1.4",
      "model_name": "LayoutModel",
      "state": {
       "_model_module_version": "~2.1.4",
       "_view_module_version": "~2.1.4"
      }
     },
     "d4972239416346a0b4a446bbabd57213": {
      "model_module": "jupyter-js-widgets",
      "model_module_version": "~2.1.4",
      "model_name": "VBoxModel",
      "state": {
       "_dom_classes": [
        "widget-interact"
       ],
       "_model_module_version": "~2.1.4",
       "_view_module_version": "~2.1.4",
       "children": [
        "IPY_MODEL_b0d665ad8fc349b5889db9e446f77e6e",
        "IPY_MODEL_daae582d170f4f1abfc9962699ee36b9",
        "IPY_MODEL_47ff71abced9451db0c47375459c1653",
        "IPY_MODEL_986d5b624c154a0380688964922193a2"
       ],
       "layout": "IPY_MODEL_5a2ebbaad78b48c5b850d8a3381d78cf"
      }
     },
     "d53cd83a7a7041aca452815a0d14cb9c": {
      "model_module": "jupyter-js-widgets",
      "model_module_version": "~2.1.4",
      "model_name": "LayoutModel",
      "state": {
       "_model_module_version": "~2.1.4",
       "_view_module_version": "~2.1.4"
      }
     },
     "d72318b58cb24559b200458beda99517": {
      "model_module": "jupyter-js-widgets",
      "model_module_version": "~2.1.4",
      "model_name": "LayoutModel",
      "state": {
       "_model_module_version": "~2.1.4",
       "_view_module_version": "~2.1.4"
      }
     },
     "d893b40dc38545579e716601e2a03718": {
      "model_module": "jupyter-js-widgets",
      "model_module_version": "~2.1.4",
      "model_name": "LayoutModel",
      "state": {
       "_model_module_version": "~2.1.4",
       "_view_module_version": "~2.1.4"
      }
     },
     "d8dd3f7c4318447f853ec1072a1a2b9a": {
      "model_module": "jupyter-js-widgets",
      "model_module_version": "~2.1.4",
      "model_name": "LayoutModel",
      "state": {
       "_model_module_version": "~2.1.4",
       "_view_module_version": "~2.1.4"
      }
     },
     "d97d360829a6402e939320176f238911": {
      "model_module": "jupyter-js-widgets",
      "model_module_version": "~2.1.4",
      "model_name": "DropdownModel",
      "state": {
       "_model_module_version": "~2.1.4",
       "_options_labels": [
        "FE_H",
        "C_H",
        "CI_H",
        "N_H",
        "O_H",
        "NA_H",
        "MG_H",
        "AL_H",
        "SI_H",
        "P_H",
        "S_H",
        "K_H",
        "CA_H",
        "TI_H",
        "TIII_H",
        "V_H",
        "CR_H",
        "MN_H",
        "CO_H",
        "NI_H"
       ],
       "_view_module_version": "~2.1.4",
       "description": "view_element",
       "layout": "IPY_MODEL_9f7f214bf9394c2d817b97e4f399a0c7",
       "value": "FE_H"
      }
     },
     "da648886049741c99fa171f179e2e2f2": {
      "model_module": "jupyter-js-widgets",
      "model_module_version": "~2.1.4",
      "model_name": "DropdownModel",
      "state": {
       "_model_module_version": "~2.1.4",
       "_options_labels": [
        "Background",
        "M107",
        "M13",
        "M15",
        "M2",
        "M3",
        "M35",
        "M5",
        "M53",
        "M67",
        "M71",
        "M92",
        "N188",
        "N2158",
        "N2420",
        "N4147",
        "N5466",
        "N6791",
        "N6819",
        "N7789",
        "Pleiades"
       ],
       "_view_module_version": "~2.1.4",
       "description": "view_cluster",
       "layout": "IPY_MODEL_b295c34589f64a7699f5bfd46e49a497",
       "value": "M107"
      }
     },
     "da91ccf768e4491e886d187fee0fe103": {
      "model_module": "jupyter-js-widgets",
      "model_module_version": "~2.1.4",
      "model_name": "LayoutModel",
      "state": {
       "_model_module_version": "~2.1.4",
       "_view_module_version": "~2.1.4"
      }
     },
     "daae582d170f4f1abfc9962699ee36b9": {
      "model_module": "jupyter-js-widgets",
      "model_module_version": "~2.1.4",
      "model_name": "DropdownModel",
      "state": {
       "_model_module_version": "~2.1.4",
       "_options_labels": [
        "FE_H",
        "C_H",
        "CI_H",
        "N_H",
        "O_H",
        "NA_H",
        "MG_H",
        "AL_H",
        "SI_H",
        "P_H",
        "S_H",
        "K_H",
        "CA_H",
        "TI_H",
        "TIII_H",
        "V_H",
        "CR_H",
        "MN_H",
        "CO_H",
        "NI_H"
       ],
       "_view_module_version": "~2.1.4",
       "description": "element_1",
       "layout": "IPY_MODEL_f799046adbcc4e27853005593971abff",
       "value": "FE_H"
      }
     },
     "dad3e68da43849ff862d004e7c232eb3": {
      "model_module": "jupyter-js-widgets",
      "model_module_version": "~2.1.4",
      "model_name": "OutputModel",
      "state": {
       "_dom_classes": [],
       "_model_module": "jupyter-js-widgets",
       "_model_module_version": "~2.1.4",
       "_view_module": "jupyter-js-widgets",
       "_view_module_version": "~2.1.4",
       "layout": "IPY_MODEL_4636696bf74841c48b7528fc1b486db2",
       "msg_throttle": 1
      }
     },
     "db29aedd8cdc4d8c940fdc3746c7ab96": {
      "model_module": "jupyter-js-widgets",
      "model_module_version": "~2.1.4",
      "model_name": "LayoutModel",
      "state": {
       "_model_module_version": "~2.1.4",
       "_view_module_version": "~2.1.4"
      }
     },
     "dc454131bb484001aef276837d129261": {
      "model_module": "jupyter-js-widgets",
      "model_module_version": "~2.1.4",
      "model_name": "LayoutModel",
      "state": {
       "_model_module_version": "~2.1.4",
       "_view_module_version": "~2.1.4"
      }
     },
     "dca714be5bb14098a1861f7d6e963b55": {
      "model_module": "jupyter-js-widgets",
      "model_module_version": "~2.1.4",
      "model_name": "LayoutModel",
      "state": {
       "_model_module_version": "~2.1.4",
       "_view_module_version": "~2.1.4"
      }
     },
     "dcb387747efb45d2b9386824762b637f": {
      "model_module": "jupyter-js-widgets",
      "model_module_version": "~2.1.4",
      "model_name": "LayoutModel",
      "state": {
       "_model_module_version": "~2.1.4",
       "_view_module_version": "~2.1.4"
      }
     },
     "dcc6cb3d48ef4fafb4c0df23fb11c7a5": {
      "model_module": "jupyter-js-widgets",
      "model_module_version": "~2.1.4",
      "model_name": "LayoutModel",
      "state": {
       "_model_module_version": "~2.1.4",
       "_view_module_version": "~2.1.4"
      }
     },
     "dd4a289bc061409e83b51813026c0913": {
      "model_module": "jupyter-js-widgets",
      "model_module_version": "~2.1.4",
      "model_name": "SelectMultipleModel",
      "state": {
       "_model_module_version": "~2.1.4",
       "_options_labels": [
        "M107",
        "M13",
        "M15",
        "M2",
        "M3",
        "M35",
        "M5",
        "M53",
        "M67",
        "M71",
        "M92",
        "N188",
        "N2158",
        "N2420",
        "N4147",
        "N5466",
        "N6791",
        "N6819",
        "N7789",
        "Pleiades"
       ],
       "_view_module_version": "~2.1.4",
       "description": "cluster name",
       "layout": "IPY_MODEL_8e2a7fb140634e5a918195d9b2d3116d",
       "value": [
        "M107"
       ]
      }
     },
     "dd9f23b237614dabaaac29f4eaa984c1": {
      "model_module": "jupyter-js-widgets",
      "model_module_version": "~2.1.4",
      "model_name": "VBoxModel",
      "state": {
       "_dom_classes": [
        "widget-interact"
       ],
       "_model_module_version": "~2.1.4",
       "_view_module_version": "~2.1.4",
       "children": [
        "IPY_MODEL_5d943dcf9c7645c383c781275e582bb0",
        "IPY_MODEL_0a33a33f5a4945a29a98f130f7331023",
        "IPY_MODEL_130aac425ce14c869f9a1d1b31e899aa",
        "IPY_MODEL_1c210941776b4f26ab62252f64d93229"
       ],
       "layout": "IPY_MODEL_f3941b7f5bd9485d88f1863a283e8a23"
      }
     },
     "df67da01de704c8c9bc6db13532a3efc": {
      "model_module": "jupyter-js-widgets",
      "model_module_version": "~2.1.4",
      "model_name": "DropdownModel",
      "state": {
       "_model_module_version": "~2.1.4",
       "_options_labels": [
        "M107",
        "M13",
        "M15",
        "M2",
        "M3",
        "M35",
        "M5",
        "M53",
        "M67",
        "M71",
        "M92",
        "N188",
        "N2158",
        "N2420",
        "N4147",
        "N5466",
        "N6791",
        "N6819",
        "N7789",
        "Pleiades"
       ],
       "_view_module_version": "~2.1.4",
       "description": "view_cluster",
       "layout": "IPY_MODEL_c16abaebe185496e8927afb2e32aebe7",
       "value": "M107"
      }
     },
     "df6f155e07334b839bde11e1bae8cd43": {
      "model_module": "jupyter-js-widgets",
      "model_module_version": "~2.1.4",
      "model_name": "DropdownModel",
      "state": {
       "_model_module_version": "~2.1.4",
       "_options_labels": [
        "FE_H",
        "C_H",
        "CI_H",
        "N_H",
        "O_H",
        "NA_H",
        "MG_H",
        "AL_H",
        "SI_H",
        "P_H",
        "S_H",
        "K_H",
        "CA_H",
        "TI_H",
        "TIII_H",
        "V_H",
        "CR_H",
        "MN_H",
        "CO_H",
        "NI_H"
       ],
       "_view_module_version": "~2.1.4",
       "description": "element_1",
       "layout": "IPY_MODEL_c675c1c3215b4ee99dadb6185b11c878",
       "value": "MG_H"
      }
     },
     "e04b855aa4114a1e8a54f93446d0c10c": {
      "model_module": "jupyter-js-widgets",
      "model_module_version": "~2.1.4",
      "model_name": "LayoutModel",
      "state": {
       "_model_module_version": "~2.1.4",
       "_view_module_version": "~2.1.4"
      }
     },
     "e1ccc5968f534ce582217cf4c334f249": {
      "model_module": "jupyter-js-widgets",
      "model_module_version": "~2.1.4",
      "model_name": "DropdownModel",
      "state": {
       "_model_module_version": "~2.1.4",
       "_options_labels": [
        "FE_H",
        "C_H",
        "CI_H",
        "N_H",
        "O_H",
        "NA_H",
        "MG_H",
        "AL_H",
        "SI_H",
        "P_H",
        "S_H",
        "K_H",
        "CA_H",
        "TI_H",
        "TIII_H",
        "V_H",
        "CR_H",
        "MN_H",
        "CO_H",
        "NI_H"
       ],
       "_view_module_version": "~2.1.4",
       "description": "view_element",
       "layout": "IPY_MODEL_97607b35a61d42c8b353d7f24f50c8c4",
       "value": "CI_H"
      }
     },
     "e1ec4019dff24c7c9a38ebb6eb4a7afe": {
      "model_module": "jupyter-js-widgets",
      "model_module_version": "~2.1.4",
      "model_name": "LayoutModel",
      "state": {
       "_model_module_version": "~2.1.4",
       "_view_module_version": "~2.1.4"
      }
     },
     "e215a76f34574e98bcd823593081f87c": {
      "model_module": "jupyter-js-widgets",
      "model_module_version": "~2.1.4",
      "model_name": "DropdownModel",
      "state": {
       "_model_module_version": "~2.1.4",
       "_options_labels": [
        "FE_H",
        "C_H",
        "CI_H",
        "N_H",
        "O_H",
        "NA_H",
        "MG_H",
        "AL_H",
        "SI_H",
        "P_H",
        "S_H",
        "K_H",
        "CA_H",
        "TI_H",
        "TIII_H",
        "V_H",
        "CR_H",
        "MN_H",
        "CO_H",
        "NI_H"
       ],
       "_view_module_version": "~2.1.4",
       "description": "element_0",
       "layout": "IPY_MODEL_925fb87c9da74f8d929522356590ea8e",
       "value": "FE_H"
      }
     },
     "e3349e3bbd33419497001983295f47f8": {
      "model_module": "jupyter-js-widgets",
      "model_module_version": "~2.1.4",
      "model_name": "DropdownModel",
      "state": {
       "_model_module_version": "~2.1.4",
       "_options_labels": [
        "FE_H",
        "C_H",
        "CI_H",
        "N_H",
        "O_H",
        "NA_H",
        "MG_H",
        "AL_H",
        "SI_H",
        "P_H",
        "S_H",
        "K_H",
        "CA_H",
        "TI_H",
        "TIII_H",
        "V_H",
        "CR_H",
        "MN_H",
        "CO_H",
        "NI_H"
       ],
       "_view_module_version": "~2.1.4",
       "description": "view_element",
       "layout": "IPY_MODEL_441807f4887b49d48a4f49ea2e9a32bc",
       "value": "K_H"
      }
     },
     "e48500c499e5427d9aa7422833ad8b5c": {
      "model_module": "jupyter-js-widgets",
      "model_module_version": "~2.1.4",
      "model_name": "DropdownModel",
      "state": {
       "_model_module_version": "~2.1.4",
       "_options_labels": [
        "FE_H",
        "C_H",
        "CI_H",
        "N_H",
        "O_H",
        "NA_H",
        "MG_H",
        "AL_H",
        "SI_H",
        "P_H",
        "S_H",
        "K_H",
        "CA_H",
        "TI_H",
        "TIII_H",
        "V_H",
        "CR_H",
        "MN_H",
        "CO_H",
        "NI_H"
       ],
       "_view_module_version": "~2.1.4",
       "description": "element_0",
       "layout": "IPY_MODEL_981fcb4c7fe04ef789f879526e5520f7",
       "value": "FE_H"
      }
     },
     "e53fd118f2bf435f9b9e7a053f1c0d82": {
      "model_module": "jupyter-js-widgets",
      "model_module_version": "~2.1.4",
      "model_name": "LayoutModel",
      "state": {
       "_model_module_version": "~2.1.4",
       "_view_module_version": "~2.1.4"
      }
     },
     "e63f287172504c85a83d25fa8722763c": {
      "model_module": "jupyter-js-widgets",
      "model_module_version": "~2.1.4",
      "model_name": "LayoutModel",
      "state": {
       "_model_module_version": "~2.1.4",
       "_view_module_version": "~2.1.4"
      }
     },
     "e7474f8dab304aa28fcde57eb1f59be9": {
      "model_module": "jupyter-js-widgets",
      "model_module_version": "~2.1.4",
      "model_name": "LayoutModel",
      "state": {
       "_model_module_version": "~2.1.4",
       "_view_module_version": "~2.1.4"
      }
     },
     "e8f2f3df5d0340d8a6fa83ec686f3b74": {
      "model_module": "jupyter-js-widgets",
      "model_module_version": "~2.1.4",
      "model_name": "LayoutModel",
      "state": {
       "_model_module_version": "~2.1.4",
       "_view_module_version": "~2.1.4"
      }
     },
     "e97a98b44c884752bc11ef31c7deabd8": {
      "model_module": "jupyter-js-widgets",
      "model_module_version": "~2.1.4",
      "model_name": "LayoutModel",
      "state": {
       "_model_module_version": "~2.1.4",
       "_view_module_version": "~2.1.4"
      }
     },
     "e9dbaa47d78346efbf81027ffa5f3906": {
      "model_module": "jupyter-js-widgets",
      "model_module_version": "~2.1.4",
      "model_name": "LayoutModel",
      "state": {
       "_model_module_version": "~2.1.4",
       "_view_module_version": "~2.1.4"
      }
     },
     "eac56d0cf9e444408c2c2adb80a4b42f": {
      "model_module": "jupyter-js-widgets",
      "model_module_version": "~2.1.4",
      "model_name": "VBoxModel",
      "state": {
       "_dom_classes": [
        "widget-interact"
       ],
       "_model_module_version": "~2.1.4",
       "_view_module_version": "~2.1.4",
       "children": [
        "IPY_MODEL_02ead0bd404c4e11b7f2c7a749287fef",
        "IPY_MODEL_0449fd402dd44a8a9eb6250e05da689d",
        "IPY_MODEL_5f0e4caa93d948b5a989a783ce3e8fc5",
        "IPY_MODEL_b8751f81d24f4ff8ae5b556a4564feca"
       ],
       "layout": "IPY_MODEL_a21709f626f645faa7c944564162b7b9"
      }
     },
     "eb0d12051688455a99353a90f38c81fb": {
      "model_module": "jupyter-js-widgets",
      "model_module_version": "~2.1.4",
      "model_name": "OutputModel",
      "state": {
       "_dom_classes": [],
       "_model_module": "jupyter-js-widgets",
       "_model_module_version": "~2.1.4",
       "_view_module": "jupyter-js-widgets",
       "_view_module_version": "~2.1.4",
       "layout": "IPY_MODEL_1c2cc9d838e444b6bad020d78ad31b25",
       "msg_throttle": 1
      }
     },
     "eea8af7042b54da08b97288cf4a87166": {
      "model_module": "jupyter-js-widgets",
      "model_module_version": "~2.1.4",
      "model_name": "LayoutModel",
      "state": {
       "_model_module_version": "~2.1.4",
       "_view_module_version": "~2.1.4"
      }
     },
     "eedf7f216af3410e861a5ffd87d3facb": {
      "model_module": "jupyter-js-widgets",
      "model_module_version": "~2.1.4",
      "model_name": "OutputModel",
      "state": {
       "_dom_classes": [],
       "_model_module": "jupyter-js-widgets",
       "_model_module_version": "~2.1.4",
       "_view_module": "jupyter-js-widgets",
       "_view_module_version": "~2.1.4",
       "layout": "IPY_MODEL_7fb45fcc56af4bfea5c43230849cba35",
       "msg_throttle": 1
      }
     },
     "ef4772b30e154f06bf0d39ecad94a981": {
      "model_module": "jupyter-js-widgets",
      "model_module_version": "~2.1.4",
      "model_name": "DropdownModel",
      "state": {
       "_model_module_version": "~2.1.4",
       "_options_labels": [
        "M107",
        "M13",
        "M15",
        "M2",
        "M3",
        "M35",
        "M5",
        "M53",
        "M67",
        "M71",
        "M92",
        "N188",
        "N2158",
        "N2420",
        "N4147",
        "N5466",
        "N6791",
        "N6819",
        "N7789",
        "Pleiades"
       ],
       "_view_module_version": "~2.1.4",
       "description": "view_cluster",
       "layout": "IPY_MODEL_14c07487fdfb4da78e9ed1458400e3fe",
       "value": "M107"
      }
     },
     "efd9b9c62f2a44af84d91f0f72c18745": {
      "model_module": "jupyter-js-widgets",
      "model_module_version": "~2.1.4",
      "model_name": "DropdownModel",
      "state": {
       "_model_module_version": "~2.1.4",
       "_options_labels": [
        "FE_H",
        "C_H",
        "CI_H",
        "N_H",
        "O_H",
        "NA_H",
        "MG_H",
        "AL_H",
        "SI_H",
        "P_H",
        "S_H",
        "K_H",
        "CA_H",
        "TI_H",
        "TIII_H",
        "V_H",
        "CR_H",
        "MN_H",
        "CO_H",
        "NI_H"
       ],
       "_view_module_version": "~2.1.4",
       "description": "element_0",
       "layout": "IPY_MODEL_7d88c316de6f4435bc167b1922f9f8fb",
       "value": "FE_H"
      }
     },
     "f27b87b4b7724384854fd55fbd92421d": {
      "model_module": "jupyter-js-widgets",
      "model_module_version": "~2.1.4",
      "model_name": "SelectMultipleModel",
      "state": {
       "_model_module_version": "~2.1.4",
       "_options_labels": [
        "M107",
        "M13",
        "M15",
        "M2",
        "M3",
        "M35",
        "M5",
        "M53",
        "M67",
        "M71",
        "M92",
        "N188",
        "N2158",
        "N2420",
        "N4147",
        "N5466",
        "N6791",
        "N6819",
        "N7789",
        "Pleiades"
       ],
       "_view_module_version": "~2.1.4",
       "description": "cluster name",
       "layout": "IPY_MODEL_a7ab6afb5e8b4012abc244ecba68d6ae",
       "value": [
        "M107"
       ]
      }
     },
     "f36bf0d5885b4299a465ba3e11e8ff78": {
      "model_module": "jupyter-js-widgets",
      "model_module_version": "~2.1.4",
      "model_name": "LayoutModel",
      "state": {
       "_model_module_version": "~2.1.4",
       "_view_module_version": "~2.1.4"
      }
     },
     "f3941b7f5bd9485d88f1863a283e8a23": {
      "model_module": "jupyter-js-widgets",
      "model_module_version": "~2.1.4",
      "model_name": "LayoutModel",
      "state": {
       "_model_module_version": "~2.1.4",
       "_view_module_version": "~2.1.4"
      }
     },
     "f799046adbcc4e27853005593971abff": {
      "model_module": "jupyter-js-widgets",
      "model_module_version": "~2.1.4",
      "model_name": "LayoutModel",
      "state": {
       "_model_module_version": "~2.1.4",
       "_view_module_version": "~2.1.4"
      }
     },
     "f919ba8e3e254407abb6973753aa1784": {
      "model_module": "jupyter-js-widgets",
      "model_module_version": "~2.1.4",
      "model_name": "DropdownModel",
      "state": {
       "_model_module_version": "~2.1.4",
       "_options_labels": [
        "FE_H",
        "C_H",
        "CI_H",
        "N_H",
        "O_H",
        "NA_H",
        "MG_H",
        "AL_H",
        "SI_H",
        "P_H",
        "S_H",
        "K_H",
        "CA_H",
        "TI_H",
        "TIII_H",
        "V_H",
        "CR_H",
        "MN_H",
        "CO_H",
        "NI_H"
       ],
       "_view_module_version": "~2.1.4",
       "description": "view_element",
       "layout": "IPY_MODEL_d8dd3f7c4318447f853ec1072a1a2b9a",
       "value": "FE_H"
      }
     },
     "fa840a4d429047e8a8e8f6ec4eb612fb": {
      "model_module": "jupyter-js-widgets",
      "model_module_version": "~2.1.4",
      "model_name": "DropdownModel",
      "state": {
       "_model_module_version": "~2.1.4",
       "_options_labels": [
        "FE_H",
        "C_H",
        "CI_H",
        "N_H",
        "O_H",
        "NA_H",
        "MG_H",
        "AL_H",
        "SI_H",
        "P_H",
        "S_H",
        "K_H",
        "CA_H",
        "TI_H",
        "TIII_H",
        "V_H",
        "CR_H",
        "MN_H",
        "CO_H",
        "NI_H"
       ],
       "_view_module_version": "~2.1.4",
       "description": "view_element",
       "layout": "IPY_MODEL_01704aba94264c33b0899b4347780fbf",
       "value": "MG_H"
      }
     },
     "faa17b3090214cbebfc05896d0c4bcdf": {
      "model_module": "jupyter-js-widgets",
      "model_module_version": "~2.1.4",
      "model_name": "DropdownModel",
      "state": {
       "_model_module_version": "~2.1.4",
       "_options_labels": [
        "FE_H",
        "C_H",
        "CI_H",
        "N_H",
        "O_H",
        "NA_H",
        "MG_H",
        "AL_H",
        "SI_H",
        "P_H",
        "S_H",
        "K_H",
        "CA_H",
        "TI_H",
        "TIII_H",
        "V_H",
        "CR_H",
        "MN_H",
        "CO_H",
        "NI_H"
       ],
       "_view_module_version": "~2.1.4",
       "description": "element_0",
       "layout": "IPY_MODEL_d248d962dbfa4e71a1085f963000a633",
       "value": "FE_H"
      }
     },
     "fbd74d1a5f5b4516844caed40c5dea78": {
      "model_module": "jupyter-js-widgets",
      "model_module_version": "~2.1.4",
      "model_name": "LayoutModel",
      "state": {
       "_model_module_version": "~2.1.4",
       "_view_module_version": "~2.1.4"
      }
     },
     "fbf220f5620a473da65bebf0e3ea6094": {
      "model_module": "jupyter-js-widgets",
      "model_module_version": "~2.1.4",
      "model_name": "VBoxModel",
      "state": {
       "_dom_classes": [
        "widget-interact"
       ],
       "_model_module_version": "~2.1.4",
       "_view_module_version": "~2.1.4",
       "layout": "IPY_MODEL_52a959786f544554b0be1ec8eaae5400"
      }
     },
     "fc0330bfc4c04fd49ee0c6b1d96efff3": {
      "model_module": "jupyter-js-widgets",
      "model_module_version": "~2.1.4",
      "model_name": "LayoutModel",
      "state": {
       "_model_module_version": "~2.1.4",
       "_view_module_version": "~2.1.4"
      }
     },
     "fdae113b5acb4252bce19852e44f2eba": {
      "model_module": "jupyter-js-widgets",
      "model_module_version": "~2.1.4",
      "model_name": "VBoxModel",
      "state": {
       "_dom_classes": [
        "widget-interact"
       ],
       "_model_module_version": "~2.1.4",
       "_view_module_version": "~2.1.4",
       "children": [
        "IPY_MODEL_e215a76f34574e98bcd823593081f87c",
        "IPY_MODEL_df6f155e07334b839bde11e1bae8cd43",
        "IPY_MODEL_83c8384db5814afcaa2144c61390b873",
        "IPY_MODEL_1749fcc2135444cb8a17ae7bec7e40de"
       ],
       "layout": "IPY_MODEL_9fe5a0831ee14e4391a3830cb76b848b"
      }
     },
     "ff37002fbe15404d9107a6197932aa57": {
      "model_module": "jupyter-js-widgets",
      "model_module_version": "~2.1.4",
      "model_name": "LayoutModel",
      "state": {
       "_model_module_version": "~2.1.4",
       "_view_module_version": "~2.1.4"
      }
     }
    },
    "version_major": 1,
    "version_minor": 0
   }
  }
 },
 "nbformat": 4,
 "nbformat_minor": 2
}
